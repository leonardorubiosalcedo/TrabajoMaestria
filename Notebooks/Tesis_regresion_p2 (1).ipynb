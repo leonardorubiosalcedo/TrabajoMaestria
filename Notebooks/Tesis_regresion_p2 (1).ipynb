{
  "nbformat": 4,
  "nbformat_minor": 0,
  "metadata": {
    "colab": {
      "name": "Tesis_regresion_p2.ipynb",
      "provenance": [],
      "collapsed_sections": []
    },
    "kernelspec": {
      "display_name": "Python 3",
      "language": "python",
      "name": "python3"
    },
    "language_info": {
      "codemirror_mode": {
        "name": "ipython",
        "version": 3
      },
      "file_extension": ".py",
      "mimetype": "text/x-python",
      "name": "python",
      "nbconvert_exporter": "python",
      "pygments_lexer": "ipython3",
      "version": "3.8.3"
    }
  },
  "cells": [
    {
      "cell_type": "code",
      "metadata": {
        "colab": {
          "base_uri": "https://localhost:8080/"
        },
        "id": "q3H0z9ttcrHE",
        "outputId": "2ee0de4c-c242-40bb-c964-e2131988fc0b"
      },
      "source": [
        "!pip install -U -q PyDrive\n",
        "!pip install pandas\n",
        "!pip install pandas-profiling\n",
        "!pip install tabulate\n",
        "!pip install pandas-profiling[notebook]"
      ],
      "execution_count": null,
      "outputs": [
        {
          "output_type": "stream",
          "name": "stdout",
          "text": [
            "Requirement already satisfied: pandas in /usr/local/lib/python3.7/dist-packages (1.1.5)\n",
            "Requirement already satisfied: numpy>=1.15.4 in /usr/local/lib/python3.7/dist-packages (from pandas) (1.19.5)\n",
            "Requirement already satisfied: python-dateutil>=2.7.3 in /usr/local/lib/python3.7/dist-packages (from pandas) (2.8.2)\n",
            "Requirement already satisfied: pytz>=2017.2 in /usr/local/lib/python3.7/dist-packages (from pandas) (2018.9)\n",
            "Requirement already satisfied: six>=1.5 in /usr/local/lib/python3.7/dist-packages (from python-dateutil>=2.7.3->pandas) (1.15.0)\n",
            "Requirement already satisfied: pandas-profiling in /usr/local/lib/python3.7/dist-packages (1.4.1)\n",
            "Requirement already satisfied: six>=1.9 in /usr/local/lib/python3.7/dist-packages (from pandas-profiling) (1.15.0)\n",
            "Requirement already satisfied: pandas>=0.19 in /usr/local/lib/python3.7/dist-packages (from pandas-profiling) (1.1.5)\n",
            "Requirement already satisfied: jinja2>=2.8 in /usr/local/lib/python3.7/dist-packages (from pandas-profiling) (2.11.3)\n",
            "Requirement already satisfied: matplotlib>=1.4 in /usr/local/lib/python3.7/dist-packages (from pandas-profiling) (3.2.2)\n",
            "Requirement already satisfied: MarkupSafe>=0.23 in /usr/local/lib/python3.7/dist-packages (from jinja2>=2.8->pandas-profiling) (2.0.1)\n",
            "Requirement already satisfied: python-dateutil>=2.1 in /usr/local/lib/python3.7/dist-packages (from matplotlib>=1.4->pandas-profiling) (2.8.2)\n",
            "Requirement already satisfied: kiwisolver>=1.0.1 in /usr/local/lib/python3.7/dist-packages (from matplotlib>=1.4->pandas-profiling) (1.3.2)\n",
            "Requirement already satisfied: numpy>=1.11 in /usr/local/lib/python3.7/dist-packages (from matplotlib>=1.4->pandas-profiling) (1.19.5)\n",
            "Requirement already satisfied: cycler>=0.10 in /usr/local/lib/python3.7/dist-packages (from matplotlib>=1.4->pandas-profiling) (0.10.0)\n",
            "Requirement already satisfied: pyparsing!=2.0.4,!=2.1.2,!=2.1.6,>=2.0.1 in /usr/local/lib/python3.7/dist-packages (from matplotlib>=1.4->pandas-profiling) (2.4.7)\n",
            "Requirement already satisfied: pytz>=2017.2 in /usr/local/lib/python3.7/dist-packages (from pandas>=0.19->pandas-profiling) (2018.9)\n",
            "Requirement already satisfied: tabulate in /usr/local/lib/python3.7/dist-packages (0.8.9)\n",
            "Requirement already satisfied: pandas-profiling[notebook] in /usr/local/lib/python3.7/dist-packages (1.4.1)\n",
            "\u001b[33mWARNING: pandas-profiling 1.4.1 does not provide the extra 'notebook'\u001b[0m\n",
            "Requirement already satisfied: jinja2>=2.8 in /usr/local/lib/python3.7/dist-packages (from pandas-profiling[notebook]) (2.11.3)\n",
            "Requirement already satisfied: pandas>=0.19 in /usr/local/lib/python3.7/dist-packages (from pandas-profiling[notebook]) (1.1.5)\n",
            "Requirement already satisfied: matplotlib>=1.4 in /usr/local/lib/python3.7/dist-packages (from pandas-profiling[notebook]) (3.2.2)\n",
            "Requirement already satisfied: six>=1.9 in /usr/local/lib/python3.7/dist-packages (from pandas-profiling[notebook]) (1.15.0)\n",
            "Requirement already satisfied: MarkupSafe>=0.23 in /usr/local/lib/python3.7/dist-packages (from jinja2>=2.8->pandas-profiling[notebook]) (2.0.1)\n",
            "Requirement already satisfied: kiwisolver>=1.0.1 in /usr/local/lib/python3.7/dist-packages (from matplotlib>=1.4->pandas-profiling[notebook]) (1.3.2)\n",
            "Requirement already satisfied: numpy>=1.11 in /usr/local/lib/python3.7/dist-packages (from matplotlib>=1.4->pandas-profiling[notebook]) (1.19.5)\n",
            "Requirement already satisfied: python-dateutil>=2.1 in /usr/local/lib/python3.7/dist-packages (from matplotlib>=1.4->pandas-profiling[notebook]) (2.8.2)\n",
            "Requirement already satisfied: cycler>=0.10 in /usr/local/lib/python3.7/dist-packages (from matplotlib>=1.4->pandas-profiling[notebook]) (0.10.0)\n",
            "Requirement already satisfied: pyparsing!=2.0.4,!=2.1.2,!=2.1.6,>=2.0.1 in /usr/local/lib/python3.7/dist-packages (from matplotlib>=1.4->pandas-profiling[notebook]) (2.4.7)\n",
            "Requirement already satisfied: pytz>=2017.2 in /usr/local/lib/python3.7/dist-packages (from pandas>=0.19->pandas-profiling[notebook]) (2018.9)\n"
          ]
        }
      ]
    },
    {
      "cell_type": "code",
      "metadata": {
        "id": "sBN5lwEHc0jh"
      },
      "source": [
        "from pydrive.auth import GoogleAuth\n",
        "from pydrive.drive import GoogleDrive\n",
        "from google.colab import auth\n",
        "from oauth2client.client import GoogleCredentials\n",
        "# 1. Authenticate and create the PyDrive client.\n",
        "auth.authenticate_user()\n",
        "gauth = GoogleAuth()\n",
        "gauth.credentials = GoogleCredentials.get_application_default()\n",
        "drive = GoogleDrive(gauth)"
      ],
      "execution_count": null,
      "outputs": []
    },
    {
      "cell_type": "code",
      "metadata": {
        "colab": {
          "base_uri": "https://localhost:8080/"
        },
        "id": "-gUCv87udSL-",
        "outputId": "a35206da-6e6b-41dc-cece-50753fb6102a"
      },
      "source": [
        "file_list = drive.ListFile({'q': \"'1zezSUHih7qOiqSFA6o17AtA_e2tnBp7O' in parents and trashed=false\"}).GetList()\n",
        "for file1 in file_list:\n",
        "  print('title: %s, id: %s' % (file1['title'], file1['id']))"
      ],
      "execution_count": null,
      "outputs": [
        {
          "output_type": "stream",
          "name": "stdout",
          "text": [
            "title: Tesis_regresion_p2.ipynb, id: 1iwB-QnlcXvRCqVTWmWL8I-p2_PvxL865\n",
            "title: Analisis_geografico.ipynb, id: 1QHwfgByA_PH29326znPH31kEA_EEOZrU\n",
            "title: Datos_geograficos_Rstidio.xlsx, id: 136woFLl5H7uf17IFqciILtHqjEJeT-X9\n",
            "title: colombia-municipios.json, id: 1yiyc692-YlFz13FxHENCgDUX_RX8bRUM\n",
            "title: datos_regresion_poscovid.csv, id: 1cVRkcIC29xTcJ6rtqpkkm1V6ue4pX4Ai\n",
            "title: datos_regresion_precovid.csv, id: 1qQu8qJ00bPXx7SOgwnDMZP1hl505nbq5\n"
          ]
        }
      ]
    },
    {
      "cell_type": "code",
      "metadata": {
        "id": "EKTyYSHsd0k7"
      },
      "source": [
        "train_downloaded = drive.CreateFile({'id': '1qQu8qJ00bPXx7SOgwnDMZP1hl505nbq5'})\n",
        "train_downloaded.GetContentFile('datos_regresion_precovid.csv')\n",
        "\n",
        "train_downloaded2 = drive.CreateFile({'id': '1cVRkcIC29xTcJ6rtqpkkm1V6ue4pX4Ai'})\n",
        "train_downloaded2.GetContentFile('datos_regresion_poscovid.csv')"
      ],
      "execution_count": null,
      "outputs": []
    },
    {
      "cell_type": "code",
      "metadata": {
        "id": "0vUHisKsuo8F"
      },
      "source": [
        "import pandas as pd\n",
        "import numpy as np\n",
        "from sklearn.neural_network import MLPRegressor"
      ],
      "execution_count": null,
      "outputs": []
    },
    {
      "cell_type": "code",
      "metadata": {
        "colab": {
          "base_uri": "https://localhost:8080/",
          "height": 461
        },
        "id": "LaW0F0TTuo8L",
        "outputId": "d44de54f-b9cf-4d88-b5a0-c53b14dbcfd0"
      },
      "source": [
        "datos=pd.read_csv('datos_regresion_precovid.csv')\n",
        "datos_pos_covid=pd.read_csv('datos_regresion_poscovid.csv')\n",
        "datos\n",
        "#datos.head()"
      ],
      "execution_count": null,
      "outputs": [
        {
          "output_type": "execute_result",
          "data": {
            "text/html": [
              "<div>\n",
              "<style scoped>\n",
              "    .dataframe tbody tr th:only-of-type {\n",
              "        vertical-align: middle;\n",
              "    }\n",
              "\n",
              "    .dataframe tbody tr th {\n",
              "        vertical-align: top;\n",
              "    }\n",
              "\n",
              "    .dataframe thead th {\n",
              "        text-align: right;\n",
              "    }\n",
              "</style>\n",
              "<table border=\"1\" class=\"dataframe\">\n",
              "  <thead>\n",
              "    <tr style=\"text-align: right;\">\n",
              "      <th></th>\n",
              "      <th>COLE_AREA_UBICACION</th>\n",
              "      <th>COLE_CALENDARIO</th>\n",
              "      <th>COLE_CARACTER</th>\n",
              "      <th>COLE_GENERO</th>\n",
              "      <th>COLE_NATURALEZA</th>\n",
              "      <th>COLE_SEDE_PRINCIPAL</th>\n",
              "      <th>FAMI_EDUCACIONMADRE_Postgrado</th>\n",
              "      <th>ESTU_DEDICACIONINTERNET_Entre 1 y 3 horas</th>\n",
              "      <th>ESTU_DEDICACIONINTERNET_Más de 3 horas</th>\n",
              "      <th>ESTU_DEDICACIONINTERNET_No Navega Internet</th>\n",
              "      <th>FAMI_EDUCACIONMADRE_Educación profesional completa</th>\n",
              "      <th>FAMI_EDUCACIONMADRE_Educación profesional incompleta</th>\n",
              "      <th>FAMI_EDUCACIONMADRE_Ninguno</th>\n",
              "      <th>FAMI_EDUCACIONMADRE_Primaria incompleta</th>\n",
              "      <th>FAMI_EDUCACIONMADRE_Técnica o tecnológica completa</th>\n",
              "      <th>FAMI_EDUCACIONPADRE_Educación profesional completa</th>\n",
              "      <th>FAMI_EDUCACIONPADRE_Educación profesional incompleta</th>\n",
              "      <th>FAMI_EDUCACIONPADRE_Postgrado</th>\n",
              "      <th>FAMI_ESTRATOVIVIENDA_Estrato 1</th>\n",
              "      <th>FAMI_ESTRATOVIVIENDA_Estrato 3</th>\n",
              "      <th>FAMI_ESTRATOVIVIENDA_Estrato 4</th>\n",
              "      <th>FAMI_ESTRATOVIVIENDA_Estrato 5</th>\n",
              "      <th>FAMI_ESTRATOVIVIENDA_Estrato 6</th>\n",
              "      <th>FAMI_ESTRATOVIVIENDA_Sin Estrato</th>\n",
              "      <th>FAMI_PERSONASHOGAR_3 a 4</th>\n",
              "      <th>FAMI_PERSONASHOGAR_9 o más</th>\n",
              "      <th>FAMI_TIENECOMPUTADOR_No</th>\n",
              "      <th>FAMI_TIENECOMPUTADOR_Si</th>\n",
              "      <th>FAMI_TIENEINTERNET_Si</th>\n",
              "      <th>FAMI_TIENEINTERNET_No</th>\n",
              "      <th>PUNT_GLOBAL</th>\n",
              "      <th>ANO</th>\n",
              "    </tr>\n",
              "  </thead>\n",
              "  <tbody>\n",
              "    <tr>\n",
              "      <th>0</th>\n",
              "      <td>0</td>\n",
              "      <td>0</td>\n",
              "      <td>0.0</td>\n",
              "      <td>0</td>\n",
              "      <td>0</td>\n",
              "      <td>1</td>\n",
              "      <td>0</td>\n",
              "      <td>0</td>\n",
              "      <td>0</td>\n",
              "      <td>0</td>\n",
              "      <td>0</td>\n",
              "      <td>0</td>\n",
              "      <td>0</td>\n",
              "      <td>0</td>\n",
              "      <td>0</td>\n",
              "      <td>0</td>\n",
              "      <td>0</td>\n",
              "      <td>0</td>\n",
              "      <td>1</td>\n",
              "      <td>0</td>\n",
              "      <td>0</td>\n",
              "      <td>0</td>\n",
              "      <td>0</td>\n",
              "      <td>0</td>\n",
              "      <td>0</td>\n",
              "      <td>0</td>\n",
              "      <td>0</td>\n",
              "      <td>1</td>\n",
              "      <td>1</td>\n",
              "      <td>0</td>\n",
              "      <td>278</td>\n",
              "      <td>2017</td>\n",
              "    </tr>\n",
              "    <tr>\n",
              "      <th>1</th>\n",
              "      <td>0</td>\n",
              "      <td>0</td>\n",
              "      <td>0.0</td>\n",
              "      <td>0</td>\n",
              "      <td>0</td>\n",
              "      <td>1</td>\n",
              "      <td>0</td>\n",
              "      <td>0</td>\n",
              "      <td>0</td>\n",
              "      <td>0</td>\n",
              "      <td>0</td>\n",
              "      <td>0</td>\n",
              "      <td>0</td>\n",
              "      <td>0</td>\n",
              "      <td>0</td>\n",
              "      <td>0</td>\n",
              "      <td>0</td>\n",
              "      <td>0</td>\n",
              "      <td>1</td>\n",
              "      <td>0</td>\n",
              "      <td>0</td>\n",
              "      <td>0</td>\n",
              "      <td>0</td>\n",
              "      <td>0</td>\n",
              "      <td>0</td>\n",
              "      <td>0</td>\n",
              "      <td>1</td>\n",
              "      <td>0</td>\n",
              "      <td>0</td>\n",
              "      <td>1</td>\n",
              "      <td>287</td>\n",
              "      <td>2017</td>\n",
              "    </tr>\n",
              "    <tr>\n",
              "      <th>2</th>\n",
              "      <td>0</td>\n",
              "      <td>0</td>\n",
              "      <td>0.0</td>\n",
              "      <td>0</td>\n",
              "      <td>0</td>\n",
              "      <td>1</td>\n",
              "      <td>0</td>\n",
              "      <td>0</td>\n",
              "      <td>0</td>\n",
              "      <td>0</td>\n",
              "      <td>0</td>\n",
              "      <td>0</td>\n",
              "      <td>0</td>\n",
              "      <td>0</td>\n",
              "      <td>0</td>\n",
              "      <td>0</td>\n",
              "      <td>0</td>\n",
              "      <td>0</td>\n",
              "      <td>1</td>\n",
              "      <td>0</td>\n",
              "      <td>0</td>\n",
              "      <td>0</td>\n",
              "      <td>0</td>\n",
              "      <td>0</td>\n",
              "      <td>0</td>\n",
              "      <td>0</td>\n",
              "      <td>0</td>\n",
              "      <td>1</td>\n",
              "      <td>1</td>\n",
              "      <td>0</td>\n",
              "      <td>244</td>\n",
              "      <td>2017</td>\n",
              "    </tr>\n",
              "    <tr>\n",
              "      <th>3</th>\n",
              "      <td>0</td>\n",
              "      <td>0</td>\n",
              "      <td>0.0</td>\n",
              "      <td>0</td>\n",
              "      <td>0</td>\n",
              "      <td>1</td>\n",
              "      <td>0</td>\n",
              "      <td>0</td>\n",
              "      <td>0</td>\n",
              "      <td>0</td>\n",
              "      <td>0</td>\n",
              "      <td>0</td>\n",
              "      <td>0</td>\n",
              "      <td>0</td>\n",
              "      <td>0</td>\n",
              "      <td>0</td>\n",
              "      <td>0</td>\n",
              "      <td>0</td>\n",
              "      <td>0</td>\n",
              "      <td>1</td>\n",
              "      <td>0</td>\n",
              "      <td>0</td>\n",
              "      <td>0</td>\n",
              "      <td>0</td>\n",
              "      <td>0</td>\n",
              "      <td>1</td>\n",
              "      <td>1</td>\n",
              "      <td>0</td>\n",
              "      <td>1</td>\n",
              "      <td>0</td>\n",
              "      <td>187</td>\n",
              "      <td>2017</td>\n",
              "    </tr>\n",
              "    <tr>\n",
              "      <th>4</th>\n",
              "      <td>0</td>\n",
              "      <td>0</td>\n",
              "      <td>0.0</td>\n",
              "      <td>0</td>\n",
              "      <td>0</td>\n",
              "      <td>1</td>\n",
              "      <td>0</td>\n",
              "      <td>0</td>\n",
              "      <td>0</td>\n",
              "      <td>0</td>\n",
              "      <td>0</td>\n",
              "      <td>0</td>\n",
              "      <td>0</td>\n",
              "      <td>0</td>\n",
              "      <td>0</td>\n",
              "      <td>0</td>\n",
              "      <td>0</td>\n",
              "      <td>0</td>\n",
              "      <td>0</td>\n",
              "      <td>0</td>\n",
              "      <td>0</td>\n",
              "      <td>0</td>\n",
              "      <td>0</td>\n",
              "      <td>0</td>\n",
              "      <td>1</td>\n",
              "      <td>0</td>\n",
              "      <td>1</td>\n",
              "      <td>0</td>\n",
              "      <td>0</td>\n",
              "      <td>1</td>\n",
              "      <td>232</td>\n",
              "      <td>2017</td>\n",
              "    </tr>\n",
              "    <tr>\n",
              "      <th>...</th>\n",
              "      <td>...</td>\n",
              "      <td>...</td>\n",
              "      <td>...</td>\n",
              "      <td>...</td>\n",
              "      <td>...</td>\n",
              "      <td>...</td>\n",
              "      <td>...</td>\n",
              "      <td>...</td>\n",
              "      <td>...</td>\n",
              "      <td>...</td>\n",
              "      <td>...</td>\n",
              "      <td>...</td>\n",
              "      <td>...</td>\n",
              "      <td>...</td>\n",
              "      <td>...</td>\n",
              "      <td>...</td>\n",
              "      <td>...</td>\n",
              "      <td>...</td>\n",
              "      <td>...</td>\n",
              "      <td>...</td>\n",
              "      <td>...</td>\n",
              "      <td>...</td>\n",
              "      <td>...</td>\n",
              "      <td>...</td>\n",
              "      <td>...</td>\n",
              "      <td>...</td>\n",
              "      <td>...</td>\n",
              "      <td>...</td>\n",
              "      <td>...</td>\n",
              "      <td>...</td>\n",
              "      <td>...</td>\n",
              "      <td>...</td>\n",
              "    </tr>\n",
              "    <tr>\n",
              "      <th>1642402</th>\n",
              "      <td>0</td>\n",
              "      <td>0</td>\n",
              "      <td>3.0</td>\n",
              "      <td>0</td>\n",
              "      <td>0</td>\n",
              "      <td>1</td>\n",
              "      <td>0</td>\n",
              "      <td>1</td>\n",
              "      <td>0</td>\n",
              "      <td>0</td>\n",
              "      <td>0</td>\n",
              "      <td>0</td>\n",
              "      <td>0</td>\n",
              "      <td>0</td>\n",
              "      <td>1</td>\n",
              "      <td>0</td>\n",
              "      <td>0</td>\n",
              "      <td>0</td>\n",
              "      <td>0</td>\n",
              "      <td>0</td>\n",
              "      <td>0</td>\n",
              "      <td>0</td>\n",
              "      <td>0</td>\n",
              "      <td>0</td>\n",
              "      <td>1</td>\n",
              "      <td>0</td>\n",
              "      <td>0</td>\n",
              "      <td>1</td>\n",
              "      <td>1</td>\n",
              "      <td>0</td>\n",
              "      <td>343</td>\n",
              "      <td>2019</td>\n",
              "    </tr>\n",
              "    <tr>\n",
              "      <th>1642403</th>\n",
              "      <td>0</td>\n",
              "      <td>0</td>\n",
              "      <td>0.0</td>\n",
              "      <td>0</td>\n",
              "      <td>0</td>\n",
              "      <td>1</td>\n",
              "      <td>0</td>\n",
              "      <td>0</td>\n",
              "      <td>0</td>\n",
              "      <td>0</td>\n",
              "      <td>1</td>\n",
              "      <td>0</td>\n",
              "      <td>0</td>\n",
              "      <td>0</td>\n",
              "      <td>0</td>\n",
              "      <td>0</td>\n",
              "      <td>0</td>\n",
              "      <td>0</td>\n",
              "      <td>0</td>\n",
              "      <td>1</td>\n",
              "      <td>0</td>\n",
              "      <td>0</td>\n",
              "      <td>0</td>\n",
              "      <td>0</td>\n",
              "      <td>1</td>\n",
              "      <td>0</td>\n",
              "      <td>0</td>\n",
              "      <td>1</td>\n",
              "      <td>1</td>\n",
              "      <td>0</td>\n",
              "      <td>252</td>\n",
              "      <td>2019</td>\n",
              "    </tr>\n",
              "    <tr>\n",
              "      <th>1642404</th>\n",
              "      <td>0</td>\n",
              "      <td>0</td>\n",
              "      <td>3.0</td>\n",
              "      <td>0</td>\n",
              "      <td>0</td>\n",
              "      <td>1</td>\n",
              "      <td>0</td>\n",
              "      <td>0</td>\n",
              "      <td>0</td>\n",
              "      <td>0</td>\n",
              "      <td>0</td>\n",
              "      <td>0</td>\n",
              "      <td>0</td>\n",
              "      <td>0</td>\n",
              "      <td>0</td>\n",
              "      <td>0</td>\n",
              "      <td>0</td>\n",
              "      <td>0</td>\n",
              "      <td>0</td>\n",
              "      <td>0</td>\n",
              "      <td>0</td>\n",
              "      <td>0</td>\n",
              "      <td>0</td>\n",
              "      <td>0</td>\n",
              "      <td>1</td>\n",
              "      <td>0</td>\n",
              "      <td>1</td>\n",
              "      <td>0</td>\n",
              "      <td>0</td>\n",
              "      <td>1</td>\n",
              "      <td>280</td>\n",
              "      <td>2019</td>\n",
              "    </tr>\n",
              "    <tr>\n",
              "      <th>1642405</th>\n",
              "      <td>0</td>\n",
              "      <td>0</td>\n",
              "      <td>1.0</td>\n",
              "      <td>0</td>\n",
              "      <td>0</td>\n",
              "      <td>1</td>\n",
              "      <td>0</td>\n",
              "      <td>0</td>\n",
              "      <td>1</td>\n",
              "      <td>0</td>\n",
              "      <td>0</td>\n",
              "      <td>0</td>\n",
              "      <td>0</td>\n",
              "      <td>0</td>\n",
              "      <td>0</td>\n",
              "      <td>0</td>\n",
              "      <td>0</td>\n",
              "      <td>0</td>\n",
              "      <td>0</td>\n",
              "      <td>0</td>\n",
              "      <td>0</td>\n",
              "      <td>0</td>\n",
              "      <td>0</td>\n",
              "      <td>0</td>\n",
              "      <td>0</td>\n",
              "      <td>0</td>\n",
              "      <td>0</td>\n",
              "      <td>1</td>\n",
              "      <td>1</td>\n",
              "      <td>0</td>\n",
              "      <td>360</td>\n",
              "      <td>2019</td>\n",
              "    </tr>\n",
              "    <tr>\n",
              "      <th>1642406</th>\n",
              "      <td>0</td>\n",
              "      <td>0</td>\n",
              "      <td>1.0</td>\n",
              "      <td>0</td>\n",
              "      <td>0</td>\n",
              "      <td>1</td>\n",
              "      <td>0</td>\n",
              "      <td>0</td>\n",
              "      <td>0</td>\n",
              "      <td>0</td>\n",
              "      <td>0</td>\n",
              "      <td>0</td>\n",
              "      <td>0</td>\n",
              "      <td>0</td>\n",
              "      <td>0</td>\n",
              "      <td>0</td>\n",
              "      <td>0</td>\n",
              "      <td>0</td>\n",
              "      <td>1</td>\n",
              "      <td>0</td>\n",
              "      <td>0</td>\n",
              "      <td>0</td>\n",
              "      <td>0</td>\n",
              "      <td>0</td>\n",
              "      <td>1</td>\n",
              "      <td>0</td>\n",
              "      <td>1</td>\n",
              "      <td>0</td>\n",
              "      <td>0</td>\n",
              "      <td>1</td>\n",
              "      <td>278</td>\n",
              "      <td>2019</td>\n",
              "    </tr>\n",
              "  </tbody>\n",
              "</table>\n",
              "<p>1642407 rows × 32 columns</p>\n",
              "</div>"
            ],
            "text/plain": [
              "         COLE_AREA_UBICACION  COLE_CALENDARIO  ...  PUNT_GLOBAL   ANO\n",
              "0                          0                0  ...          278  2017\n",
              "1                          0                0  ...          287  2017\n",
              "2                          0                0  ...          244  2017\n",
              "3                          0                0  ...          187  2017\n",
              "4                          0                0  ...          232  2017\n",
              "...                      ...              ...  ...          ...   ...\n",
              "1642402                    0                0  ...          343  2019\n",
              "1642403                    0                0  ...          252  2019\n",
              "1642404                    0                0  ...          280  2019\n",
              "1642405                    0                0  ...          360  2019\n",
              "1642406                    0                0  ...          278  2019\n",
              "\n",
              "[1642407 rows x 32 columns]"
            ]
          },
          "metadata": {},
          "execution_count": 6
        }
      ]
    },
    {
      "cell_type": "code",
      "metadata": {
        "id": "NVivLhTJuo8N"
      },
      "source": [
        "datos.drop('ANO', inplace=True, axis=1)"
      ],
      "execution_count": null,
      "outputs": []
    },
    {
      "cell_type": "code",
      "metadata": {
        "id": "0UI6hG_Fuo8O"
      },
      "source": [
        "y=datos['PUNT_GLOBAL']\n",
        "datos.drop('PUNT_GLOBAL', inplace=True, axis=1)\n",
        "X=datos"
      ],
      "execution_count": null,
      "outputs": []
    },
    {
      "cell_type": "code",
      "metadata": {
        "id": "EOnLoAFsuo8O"
      },
      "source": [
        "from sklearn.preprocessing import PolynomialFeatures\n",
        "from sklearn.linear_model import LinearRegression\n",
        "from sklearn.pipeline import make_pipeline\n",
        "\n",
        "def PolynomialRegression(degree=2, **kwargs):\n",
        "    return make_pipeline(PolynomialFeatures(degree),\n",
        "                         LinearRegression(**kwargs))"
      ],
      "execution_count": null,
      "outputs": []
    },
    {
      "cell_type": "code",
      "metadata": {
        "id": "kg4w99dCuo8P"
      },
      "source": [
        "from sklearn.model_selection import train_test_split\n",
        "X_train, X_test, y_train, y_test = train_test_split(X, y, test_size=0.3, random_state=42)"
      ],
      "execution_count": null,
      "outputs": []
    },
    {
      "cell_type": "code",
      "metadata": {
        "id": "YZhfKacCuo8Q"
      },
      "source": [
        "from sklearn.neighbors import KNeighborsClassifier\n",
        "from sklearn.metrics import accuracy_score"
      ],
      "execution_count": null,
      "outputs": []
    },
    {
      "cell_type": "code",
      "metadata": {
        "id": "w3mn-VXnuo8Q"
      },
      "source": [
        "#from sklearn.preprocessing import PolynomialFeatures\n",
        "#poly_reg2=PolynomialFeatures(degree=2)\n",
        "#X_poly=poly_reg2.fit_transform(X_train)\n",
        "#lin_reg_2=LinearRegression()\n",
        "#lin_reg_2.fit(X_poly,y_train)"
      ],
      "execution_count": null,
      "outputs": []
    },
    {
      "cell_type": "code",
      "metadata": {
        "id": "EmzZhZLUuo8R"
      },
      "source": [
        "from sklearn.tree import DecisionTreeRegressor\n",
        "tree_regressor_4 = DecisionTreeRegressor(max_depth=4)\n",
        "tree_regressor_10 = DecisionTreeRegressor(max_depth=10)\n",
        "tree_regressor_15 = DecisionTreeRegressor(max_depth=15)\n",
        "tree_regressor_20 = DecisionTreeRegressor(max_depth=20)"
      ],
      "execution_count": null,
      "outputs": []
    },
    {
      "cell_type": "code",
      "metadata": {
        "colab": {
          "base_uri": "https://localhost:8080/"
        },
        "id": "HTpkT8vouo8S",
        "outputId": "4a90fa06-0951-49dc-dd7f-13bb6b72f025"
      },
      "source": [
        "tree_regressor_4.fit(X_train, y_train)\n",
        "tree_regressor_10.fit(X_train, y_train)\n",
        "tree_regressor_15.fit(X_train, y_train)\n",
        "tree_regressor_20.fit(X_train, y_train)"
      ],
      "execution_count": null,
      "outputs": [
        {
          "data": {
            "text/plain": [
              "DecisionTreeRegressor(ccp_alpha=0.0, criterion='mse', max_depth=20,\n",
              "                      max_features=None, max_leaf_nodes=None,\n",
              "                      min_impurity_decrease=0.0, min_impurity_split=None,\n",
              "                      min_samples_leaf=1, min_samples_split=2,\n",
              "                      min_weight_fraction_leaf=0.0, presort='deprecated',\n",
              "                      random_state=None, splitter='best')"
            ]
          },
          "execution_count": 37,
          "metadata": {},
          "output_type": "execute_result"
        }
      ]
    },
    {
      "cell_type": "code",
      "metadata": {
        "colab": {
          "base_uri": "https://localhost:8080/",
          "height": 217
        },
        "id": "NvDuaWP8uo8S",
        "outputId": "1fa2f10c-905e-4905-903f-e1e9cc294fcb"
      },
      "source": [
        "from sklearn.metrics import mean_squared_error\n",
        "\n",
        "pred = tree_regressor_4.predict(X_test)\n",
        "mean_squared_error(pred, y_test)"
      ],
      "execution_count": null,
      "outputs": [
        {
          "ename": "NameError",
          "evalue": "ignored",
          "output_type": "error",
          "traceback": [
            "\u001b[0;31m---------------------------------------------------------------------------\u001b[0m",
            "\u001b[0;31mNameError\u001b[0m                                 Traceback (most recent call last)",
            "\u001b[0;32m<ipython-input-17-586f0cf8ba39>\u001b[0m in \u001b[0;36m<module>\u001b[0;34m()\u001b[0m\n\u001b[1;32m      1\u001b[0m \u001b[0;32mfrom\u001b[0m \u001b[0msklearn\u001b[0m\u001b[0;34m.\u001b[0m\u001b[0mmetrics\u001b[0m \u001b[0;32mimport\u001b[0m \u001b[0mmean_squared_error\u001b[0m\u001b[0;34m\u001b[0m\u001b[0;34m\u001b[0m\u001b[0m\n\u001b[1;32m      2\u001b[0m \u001b[0;34m\u001b[0m\u001b[0m\n\u001b[0;32m----> 3\u001b[0;31m \u001b[0mpred\u001b[0m \u001b[0;34m=\u001b[0m \u001b[0mtree_regressor_4\u001b[0m\u001b[0;34m.\u001b[0m\u001b[0mpredict\u001b[0m\u001b[0;34m(\u001b[0m\u001b[0mX_test\u001b[0m\u001b[0;34m)\u001b[0m\u001b[0;34m\u001b[0m\u001b[0;34m\u001b[0m\u001b[0m\n\u001b[0m\u001b[1;32m      4\u001b[0m \u001b[0mmean_squared_error\u001b[0m\u001b[0;34m(\u001b[0m\u001b[0mpred\u001b[0m\u001b[0;34m,\u001b[0m \u001b[0my_test\u001b[0m\u001b[0;34m)\u001b[0m\u001b[0;34m\u001b[0m\u001b[0;34m\u001b[0m\u001b[0m\n",
            "\u001b[0;31mNameError\u001b[0m: name 'tree_regressor_4' is not defined"
          ]
        }
      ]
    },
    {
      "cell_type": "code",
      "metadata": {
        "colab": {
          "base_uri": "https://localhost:8080/",
          "height": 217
        },
        "id": "yjWGeEjluo8T",
        "outputId": "1aeee952-1669-4e17-8691-578b1fbae314"
      },
      "source": [
        "from sklearn.metrics import mean_squared_error\n",
        "\n",
        "pred = tree_regressor_10.predict(X_test)\n",
        "mean_squared_error(pred, y_test)"
      ],
      "execution_count": null,
      "outputs": [
        {
          "output_type": "error",
          "ename": "NameError",
          "evalue": "ignored",
          "traceback": [
            "\u001b[0;31m---------------------------------------------------------------------------\u001b[0m",
            "\u001b[0;31mNameError\u001b[0m                                 Traceback (most recent call last)",
            "\u001b[0;32m<ipython-input-9-a5c31d0d597f>\u001b[0m in \u001b[0;36m<module>\u001b[0;34m()\u001b[0m\n\u001b[1;32m      1\u001b[0m \u001b[0;32mfrom\u001b[0m \u001b[0msklearn\u001b[0m\u001b[0;34m.\u001b[0m\u001b[0mmetrics\u001b[0m \u001b[0;32mimport\u001b[0m \u001b[0mmean_squared_error\u001b[0m\u001b[0;34m\u001b[0m\u001b[0;34m\u001b[0m\u001b[0m\n\u001b[1;32m      2\u001b[0m \u001b[0;34m\u001b[0m\u001b[0m\n\u001b[0;32m----> 3\u001b[0;31m \u001b[0mpred\u001b[0m \u001b[0;34m=\u001b[0m \u001b[0mtree_regressor_10\u001b[0m\u001b[0;34m.\u001b[0m\u001b[0mpredict\u001b[0m\u001b[0;34m(\u001b[0m\u001b[0mX_test\u001b[0m\u001b[0;34m)\u001b[0m\u001b[0;34m\u001b[0m\u001b[0;34m\u001b[0m\u001b[0m\n\u001b[0m\u001b[1;32m      4\u001b[0m \u001b[0mmean_squared_error\u001b[0m\u001b[0;34m(\u001b[0m\u001b[0mpred\u001b[0m\u001b[0;34m,\u001b[0m \u001b[0my_test\u001b[0m\u001b[0;34m)\u001b[0m\u001b[0;34m\u001b[0m\u001b[0;34m\u001b[0m\u001b[0m\n",
            "\u001b[0;31mNameError\u001b[0m: name 'tree_regressor_10' is not defined"
          ]
        }
      ]
    },
    {
      "cell_type": "code",
      "metadata": {
        "id": "zEtzdBNIFX1K"
      },
      "source": [
        ""
      ],
      "execution_count": null,
      "outputs": []
    },
    {
      "cell_type": "code",
      "metadata": {
        "colab": {
          "base_uri": "https://localhost:8080/",
          "height": 656
        },
        "id": "l9PwnDv0FXmB",
        "outputId": "cefc78cc-fa98-4332-a359-104d47f6daf8"
      },
      "source": [
        "import graphviz \n",
        "from sklearn.tree import export_graphviz\n",
        "\n",
        "dot_data = export_graphviz(tree_regressor_4, out_file=None,\n",
        "                         filled=True, rounded=True,  \n",
        "                         special_characters=True)  \n",
        "graph = graphviz.Source(dot_data) \n",
        "graph"
      ],
      "execution_count": null,
      "outputs": [
        {
          "data": {
            "image/svg+xml": "<?xml version=\"1.0\" encoding=\"UTF-8\" standalone=\"no\"?>\n<!DOCTYPE svg PUBLIC \"-//W3C//DTD SVG 1.1//EN\"\n \"http://www.w3.org/Graphics/SVG/1.1/DTD/svg11.dtd\">\n<!-- Generated by graphviz version 2.40.1 (20161225.0304)\n -->\n<!-- Title: Tree Pages: 1 -->\n<svg width=\"2334pt\" height=\"461pt\"\n viewBox=\"0.00 0.00 2334.00 461.00\" xmlns=\"http://www.w3.org/2000/svg\" xmlns:xlink=\"http://www.w3.org/1999/xlink\">\n<g id=\"graph0\" class=\"graph\" transform=\"scale(1 1) rotate(0) translate(4 457)\">\n<title>Tree</title>\n<polygon fill=\"#ffffff\" stroke=\"transparent\" points=\"-4,4 -4,-457 2330,-457 2330,4 -4,4\"/>\n<!-- 0 -->\n<g id=\"node1\" class=\"node\">\n<title>0</title>\n<path fill=\"#f4c9aa\" stroke=\"#000000\" d=\"M1220.5,-453C1220.5,-453 1099.5,-453 1099.5,-453 1093.5,-453 1087.5,-447 1087.5,-441 1087.5,-441 1087.5,-401 1087.5,-401 1087.5,-395 1093.5,-389 1099.5,-389 1099.5,-389 1220.5,-389 1220.5,-389 1226.5,-389 1232.5,-395 1232.5,-401 1232.5,-401 1232.5,-441 1232.5,-441 1232.5,-447 1226.5,-453 1220.5,-453\"/>\n<text text-anchor=\"start\" x=\"1130\" y=\"-438.8\" font-family=\"Helvetica,sans-Serif\" font-size=\"14.00\" fill=\"#000000\">X</text>\n<text text-anchor=\"start\" x=\"1140\" y=\"-438.8\" font-family=\"Helvetica,sans-Serif\" baseline-shift=\"sub\" font-size=\"14.00\" fill=\"#000000\">28</text>\n<text text-anchor=\"start\" x=\"1154\" y=\"-438.8\" font-family=\"Helvetica,sans-Serif\" font-size=\"14.00\" fill=\"#000000\"> ≤ 0.5</text>\n<text text-anchor=\"start\" x=\"1107\" y=\"-424.8\" font-family=\"Helvetica,sans-Serif\" font-size=\"14.00\" fill=\"#000000\">mse = 2515.958</text>\n<text text-anchor=\"start\" x=\"1095.5\" y=\"-410.8\" font-family=\"Helvetica,sans-Serif\" font-size=\"14.00\" fill=\"#000000\">samples = 1149684</text>\n<text text-anchor=\"start\" x=\"1107.5\" y=\"-396.8\" font-family=\"Helvetica,sans-Serif\" font-size=\"14.00\" fill=\"#000000\">value = 250.738</text>\n</g>\n<!-- 1 -->\n<g id=\"node2\" class=\"node\">\n<title>1</title>\n<path fill=\"#f7d9c3\" stroke=\"#000000\" d=\"M930.5,-353C930.5,-353 817.5,-353 817.5,-353 811.5,-353 805.5,-347 805.5,-341 805.5,-341 805.5,-301 805.5,-301 805.5,-295 811.5,-289 817.5,-289 817.5,-289 930.5,-289 930.5,-289 936.5,-289 942.5,-295 942.5,-301 942.5,-301 942.5,-341 942.5,-341 942.5,-347 936.5,-353 930.5,-353\"/>\n<text text-anchor=\"start\" x=\"844\" y=\"-338.8\" font-family=\"Helvetica,sans-Serif\" font-size=\"14.00\" fill=\"#000000\">X</text>\n<text text-anchor=\"start\" x=\"854\" y=\"-338.8\" font-family=\"Helvetica,sans-Serif\" baseline-shift=\"sub\" font-size=\"14.00\" fill=\"#000000\">23</text>\n<text text-anchor=\"start\" x=\"868\" y=\"-338.8\" font-family=\"Helvetica,sans-Serif\" font-size=\"14.00\" fill=\"#000000\"> ≤ 0.5</text>\n<text text-anchor=\"start\" x=\"821\" y=\"-324.8\" font-family=\"Helvetica,sans-Serif\" font-size=\"14.00\" fill=\"#000000\">mse = 1997.089</text>\n<text text-anchor=\"start\" x=\"813.5\" y=\"-310.8\" font-family=\"Helvetica,sans-Serif\" font-size=\"14.00\" fill=\"#000000\">samples = 511638</text>\n<text text-anchor=\"start\" x=\"821.5\" y=\"-296.8\" font-family=\"Helvetica,sans-Serif\" font-size=\"14.00\" fill=\"#000000\">value = 234.292</text>\n</g>\n<!-- 0&#45;&gt;1 -->\n<g id=\"edge1\" class=\"edge\">\n<title>0&#45;&gt;1</title>\n<path fill=\"none\" stroke=\"#000000\" d=\"M1087.4604,-395.6365C1046.1608,-381.1961 994.4078,-363.1006 952.2039,-348.344\"/>\n<polygon fill=\"#000000\" stroke=\"#000000\" points=\"953.1196,-344.9565 942.5247,-344.9597 950.8091,-351.5642 953.1196,-344.9565\"/>\n<text text-anchor=\"middle\" x=\"953.3771\" y=\"-363.7814\" font-family=\"Helvetica,sans-Serif\" font-size=\"14.00\" fill=\"#000000\">True</text>\n</g>\n<!-- 16 -->\n<g id=\"node17\" class=\"node\">\n<title>16</title>\n<path fill=\"#f1bd97\" stroke=\"#000000\" d=\"M1510.5,-353C1510.5,-353 1397.5,-353 1397.5,-353 1391.5,-353 1385.5,-347 1385.5,-341 1385.5,-341 1385.5,-301 1385.5,-301 1385.5,-295 1391.5,-289 1397.5,-289 1397.5,-289 1510.5,-289 1510.5,-289 1516.5,-289 1522.5,-295 1522.5,-301 1522.5,-301 1522.5,-341 1522.5,-341 1522.5,-347 1516.5,-353 1510.5,-353\"/>\n<text text-anchor=\"start\" x=\"1427.5\" y=\"-338.8\" font-family=\"Helvetica,sans-Serif\" font-size=\"14.00\" fill=\"#000000\">X</text>\n<text text-anchor=\"start\" x=\"1437.5\" y=\"-338.8\" font-family=\"Helvetica,sans-Serif\" baseline-shift=\"sub\" font-size=\"14.00\" fill=\"#000000\">4</text>\n<text text-anchor=\"start\" x=\"1444.5\" y=\"-338.8\" font-family=\"Helvetica,sans-Serif\" font-size=\"14.00\" fill=\"#000000\"> ≤ 0.5</text>\n<text text-anchor=\"start\" x=\"1401\" y=\"-324.8\" font-family=\"Helvetica,sans-Serif\" font-size=\"14.00\" fill=\"#000000\">mse = 2541.221</text>\n<text text-anchor=\"start\" x=\"1393.5\" y=\"-310.8\" font-family=\"Helvetica,sans-Serif\" font-size=\"14.00\" fill=\"#000000\">samples = 638046</text>\n<text text-anchor=\"start\" x=\"1401.5\" y=\"-296.8\" font-family=\"Helvetica,sans-Serif\" font-size=\"14.00\" fill=\"#000000\">value = 263.926</text>\n</g>\n<!-- 0&#45;&gt;16 -->\n<g id=\"edge16\" class=\"edge\">\n<title>0&#45;&gt;16</title>\n<path fill=\"none\" stroke=\"#000000\" d=\"M1232.6742,-396.2809C1276.1601,-381.4898 1331.4222,-362.6931 1375.8474,-347.5825\"/>\n<polygon fill=\"#000000\" stroke=\"#000000\" points=\"1377.1023,-350.8527 1385.4426,-344.3189 1374.8481,-344.2255 1377.1023,-350.8527\"/>\n<text text-anchor=\"middle\" x=\"1374.399\" y=\"-363.0474\" font-family=\"Helvetica,sans-Serif\" font-size=\"14.00\" fill=\"#000000\">False</text>\n</g>\n<!-- 2 -->\n<g id=\"node3\" class=\"node\">\n<title>2</title>\n<path fill=\"#f7d7c1\" stroke=\"#000000\" d=\"M500.5,-253C500.5,-253 387.5,-253 387.5,-253 381.5,-253 375.5,-247 375.5,-241 375.5,-241 375.5,-201 375.5,-201 375.5,-195 381.5,-189 387.5,-189 387.5,-189 500.5,-189 500.5,-189 506.5,-189 512.5,-195 512.5,-201 512.5,-201 512.5,-241 512.5,-241 512.5,-247 506.5,-253 500.5,-253\"/>\n<text text-anchor=\"start\" x=\"414\" y=\"-238.8\" font-family=\"Helvetica,sans-Serif\" font-size=\"14.00\" fill=\"#000000\">X</text>\n<text text-anchor=\"start\" x=\"424\" y=\"-238.8\" font-family=\"Helvetica,sans-Serif\" baseline-shift=\"sub\" font-size=\"14.00\" fill=\"#000000\">27</text>\n<text text-anchor=\"start\" x=\"438\" y=\"-238.8\" font-family=\"Helvetica,sans-Serif\" font-size=\"14.00\" fill=\"#000000\"> ≤ 0.5</text>\n<text text-anchor=\"start\" x=\"391\" y=\"-224.8\" font-family=\"Helvetica,sans-Serif\" font-size=\"14.00\" fill=\"#000000\">mse = 1990.013</text>\n<text text-anchor=\"start\" x=\"383.5\" y=\"-210.8\" font-family=\"Helvetica,sans-Serif\" font-size=\"14.00\" fill=\"#000000\">samples = 486734</text>\n<text text-anchor=\"start\" x=\"391.5\" y=\"-196.8\" font-family=\"Helvetica,sans-Serif\" font-size=\"14.00\" fill=\"#000000\">value = 235.564</text>\n</g>\n<!-- 1&#45;&gt;2 -->\n<g id=\"edge2\" class=\"edge\">\n<title>1&#45;&gt;2</title>\n<path fill=\"none\" stroke=\"#000000\" d=\"M805.3897,-305.0441C728.4198,-287.1441 603.7801,-258.1582 522.8575,-239.3389\"/>\n<polygon fill=\"#000000\" stroke=\"#000000\" points=\"523.2543,-235.8379 512.7214,-236.9817 521.6687,-242.656 523.2543,-235.8379\"/>\n</g>\n<!-- 9 -->\n<g id=\"node10\" class=\"node\">\n<title>9</title>\n<path fill=\"#fcf0e7\" stroke=\"#000000\" d=\"M926,-253C926,-253 822,-253 822,-253 816,-253 810,-247 810,-241 810,-241 810,-201 810,-201 810,-195 816,-189 822,-189 822,-189 926,-189 926,-189 932,-189 938,-195 938,-201 938,-201 938,-241 938,-241 938,-247 932,-253 926,-253\"/>\n<text text-anchor=\"start\" x=\"844\" y=\"-238.8\" font-family=\"Helvetica,sans-Serif\" font-size=\"14.00\" fill=\"#000000\">X</text>\n<text text-anchor=\"start\" x=\"854\" y=\"-238.8\" font-family=\"Helvetica,sans-Serif\" baseline-shift=\"sub\" font-size=\"14.00\" fill=\"#000000\">12</text>\n<text text-anchor=\"start\" x=\"868\" y=\"-238.8\" font-family=\"Helvetica,sans-Serif\" font-size=\"14.00\" fill=\"#000000\"> ≤ 0.5</text>\n<text text-anchor=\"start\" x=\"821\" y=\"-224.8\" font-family=\"Helvetica,sans-Serif\" font-size=\"14.00\" fill=\"#000000\">mse = 1485.595</text>\n<text text-anchor=\"start\" x=\"818\" y=\"-210.8\" font-family=\"Helvetica,sans-Serif\" font-size=\"14.00\" fill=\"#000000\">samples = 24904</text>\n<text text-anchor=\"start\" x=\"821.5\" y=\"-196.8\" font-family=\"Helvetica,sans-Serif\" font-size=\"14.00\" fill=\"#000000\">value = 209.429</text>\n</g>\n<!-- 1&#45;&gt;9 -->\n<g id=\"edge9\" class=\"edge\">\n<title>1&#45;&gt;9</title>\n<path fill=\"none\" stroke=\"#000000\" d=\"M874,-288.8089C874,-280.6906 874,-271.8517 874,-263.3186\"/>\n<polygon fill=\"#000000\" stroke=\"#000000\" points=\"877.5001,-263.1307 874,-253.1308 870.5001,-263.1308 877.5001,-263.1307\"/>\n</g>\n<!-- 3 -->\n<g id=\"node4\" class=\"node\">\n<title>3</title>\n<path fill=\"#f7dac5\" stroke=\"#000000\" d=\"M271.5,-153C271.5,-153 158.5,-153 158.5,-153 152.5,-153 146.5,-147 146.5,-141 146.5,-141 146.5,-101 146.5,-101 146.5,-95 152.5,-89 158.5,-89 158.5,-89 271.5,-89 271.5,-89 277.5,-89 283.5,-95 283.5,-101 283.5,-101 283.5,-141 283.5,-141 283.5,-147 277.5,-153 271.5,-153\"/>\n<text text-anchor=\"start\" x=\"185\" y=\"-138.8\" font-family=\"Helvetica,sans-Serif\" font-size=\"14.00\" fill=\"#000000\">X</text>\n<text text-anchor=\"start\" x=\"195\" y=\"-138.8\" font-family=\"Helvetica,sans-Serif\" baseline-shift=\"sub\" font-size=\"14.00\" fill=\"#000000\">29</text>\n<text text-anchor=\"start\" x=\"209\" y=\"-138.8\" font-family=\"Helvetica,sans-Serif\" font-size=\"14.00\" fill=\"#000000\"> ≤ 0.5</text>\n<text text-anchor=\"start\" x=\"162\" y=\"-124.8\" font-family=\"Helvetica,sans-Serif\" font-size=\"14.00\" fill=\"#000000\">mse = 1877.548</text>\n<text text-anchor=\"start\" x=\"154.5\" y=\"-110.8\" font-family=\"Helvetica,sans-Serif\" font-size=\"14.00\" fill=\"#000000\">samples = 360283</text>\n<text text-anchor=\"start\" x=\"162.5\" y=\"-96.8\" font-family=\"Helvetica,sans-Serif\" font-size=\"14.00\" fill=\"#000000\">value = 232.386</text>\n</g>\n<!-- 2&#45;&gt;3 -->\n<g id=\"edge3\" class=\"edge\">\n<title>2&#45;&gt;3</title>\n<path fill=\"none\" stroke=\"#000000\" d=\"M375.2924,-190.9967C349.3655,-179.6749 319.688,-166.7153 292.9737,-155.0496\"/>\n<polygon fill=\"#000000\" stroke=\"#000000\" points=\"294.2241,-151.7766 283.6591,-150.9821 291.4227,-158.1916 294.2241,-151.7766\"/>\n</g>\n<!-- 6 -->\n<g id=\"node7\" class=\"node\">\n<title>6</title>\n<path fill=\"#f5cfb3\" stroke=\"#000000\" d=\"M500.5,-153C500.5,-153 387.5,-153 387.5,-153 381.5,-153 375.5,-147 375.5,-141 375.5,-141 375.5,-101 375.5,-101 375.5,-95 381.5,-89 387.5,-89 387.5,-89 500.5,-89 500.5,-89 506.5,-89 512.5,-95 512.5,-101 512.5,-101 512.5,-141 512.5,-141 512.5,-147 506.5,-153 500.5,-153\"/>\n<text text-anchor=\"start\" x=\"414\" y=\"-138.8\" font-family=\"Helvetica,sans-Serif\" font-size=\"14.00\" fill=\"#000000\">X</text>\n<text text-anchor=\"start\" x=\"424\" y=\"-138.8\" font-family=\"Helvetica,sans-Serif\" baseline-shift=\"sub\" font-size=\"14.00\" fill=\"#000000\">14</text>\n<text text-anchor=\"start\" x=\"438\" y=\"-138.8\" font-family=\"Helvetica,sans-Serif\" font-size=\"14.00\" fill=\"#000000\"> ≤ 0.5</text>\n<text text-anchor=\"start\" x=\"391\" y=\"-124.8\" font-family=\"Helvetica,sans-Serif\" font-size=\"14.00\" fill=\"#000000\">mse = 2199.725</text>\n<text text-anchor=\"start\" x=\"383.5\" y=\"-110.8\" font-family=\"Helvetica,sans-Serif\" font-size=\"14.00\" fill=\"#000000\">samples = 126451</text>\n<text text-anchor=\"start\" x=\"391.5\" y=\"-96.8\" font-family=\"Helvetica,sans-Serif\" font-size=\"14.00\" fill=\"#000000\">value = 244.617</text>\n</g>\n<!-- 2&#45;&gt;6 -->\n<g id=\"edge6\" class=\"edge\">\n<title>2&#45;&gt;6</title>\n<path fill=\"none\" stroke=\"#000000\" d=\"M444,-188.8089C444,-180.6906 444,-171.8517 444,-163.3186\"/>\n<polygon fill=\"#000000\" stroke=\"#000000\" points=\"447.5001,-163.1307 444,-153.1308 440.5001,-163.1308 447.5001,-163.1307\"/>\n</g>\n<!-- 4 -->\n<g id=\"node5\" class=\"node\">\n<title>4</title>\n<path fill=\"#fae8da\" stroke=\"#000000\" d=\"M116,-53C116,-53 12,-53 12,-53 6,-53 0,-47 0,-41 0,-41 0,-12 0,-12 0,-6 6,0 12,0 12,0 116,0 116,0 122,0 128,-6 128,-12 128,-12 128,-41 128,-41 128,-47 122,-53 116,-53\"/>\n<text text-anchor=\"start\" x=\"11\" y=\"-37.8\" font-family=\"Helvetica,sans-Serif\" font-size=\"14.00\" fill=\"#000000\">mse = 1987.971</text>\n<text text-anchor=\"start\" x=\"8\" y=\"-22.8\" font-family=\"Helvetica,sans-Serif\" font-size=\"14.00\" fill=\"#000000\">samples = 41709</text>\n<text text-anchor=\"start\" x=\"20\" y=\"-7.8\" font-family=\"Helvetica,sans-Serif\" font-size=\"14.00\" fill=\"#000000\">value = 218.1</text>\n</g>\n<!-- 3&#45;&gt;4 -->\n<g id=\"edge4\" class=\"edge\">\n<title>3&#45;&gt;4</title>\n<path fill=\"none\" stroke=\"#000000\" d=\"M163.4567,-88.7428C148.0301,-79.0883 131.1147,-68.5023 115.6794,-58.8424\"/>\n<polygon fill=\"#000000\" stroke=\"#000000\" points=\"117.1183,-55.6141 106.7847,-53.2759 113.4048,-61.5478 117.1183,-55.6141\"/>\n</g>\n<!-- 5 -->\n<g id=\"node6\" class=\"node\">\n<title>5</title>\n<path fill=\"#f7d9c3\" stroke=\"#000000\" d=\"M271.5,-53C271.5,-53 158.5,-53 158.5,-53 152.5,-53 146.5,-47 146.5,-41 146.5,-41 146.5,-12 146.5,-12 146.5,-6 152.5,0 158.5,0 158.5,0 271.5,0 271.5,0 277.5,0 283.5,-6 283.5,-12 283.5,-12 283.5,-41 283.5,-41 283.5,-47 277.5,-53 271.5,-53\"/>\n<text text-anchor=\"start\" x=\"162\" y=\"-37.8\" font-family=\"Helvetica,sans-Serif\" font-size=\"14.00\" fill=\"#000000\">mse = 1832.871</text>\n<text text-anchor=\"start\" x=\"154.5\" y=\"-22.8\" font-family=\"Helvetica,sans-Serif\" font-size=\"14.00\" fill=\"#000000\">samples = 318574</text>\n<text text-anchor=\"start\" x=\"162.5\" y=\"-7.8\" font-family=\"Helvetica,sans-Serif\" font-size=\"14.00\" fill=\"#000000\">value = 234.257</text>\n</g>\n<!-- 3&#45;&gt;5 -->\n<g id=\"edge5\" class=\"edge\">\n<title>3&#45;&gt;5</title>\n<path fill=\"none\" stroke=\"#000000\" d=\"M215,-88.7428C215,-80.6222 215,-71.8426 215,-63.5093\"/>\n<polygon fill=\"#000000\" stroke=\"#000000\" points=\"218.5001,-63.2758 215,-53.2759 211.5001,-63.2759 218.5001,-63.2758\"/>\n</g>\n<!-- 7 -->\n<g id=\"node8\" class=\"node\">\n<title>7</title>\n<path fill=\"#f5d0b6\" stroke=\"#000000\" d=\"M426.5,-53C426.5,-53 313.5,-53 313.5,-53 307.5,-53 301.5,-47 301.5,-41 301.5,-41 301.5,-12 301.5,-12 301.5,-6 307.5,0 313.5,0 313.5,0 426.5,0 426.5,0 432.5,0 438.5,-6 438.5,-12 438.5,-12 438.5,-41 438.5,-41 438.5,-47 432.5,-53 426.5,-53\"/>\n<text text-anchor=\"start\" x=\"317\" y=\"-37.8\" font-family=\"Helvetica,sans-Serif\" font-size=\"14.00\" fill=\"#000000\">mse = 2184.793</text>\n<text text-anchor=\"start\" x=\"309.5\" y=\"-22.8\" font-family=\"Helvetica,sans-Serif\" font-size=\"14.00\" fill=\"#000000\">samples = 116586</text>\n<text text-anchor=\"start\" x=\"317.5\" y=\"-7.8\" font-family=\"Helvetica,sans-Serif\" font-size=\"14.00\" fill=\"#000000\">value = 243.138</text>\n</g>\n<!-- 6&#45;&gt;7 -->\n<g id=\"edge7\" class=\"edge\">\n<title>6&#45;&gt;7</title>\n<path fill=\"none\" stroke=\"#000000\" d=\"M418.7404,-88.7428C411.8162,-79.9004 404.28,-70.2765 397.2496,-61.2985\"/>\n<polygon fill=\"#000000\" stroke=\"#000000\" points=\"399.8884,-58.9913 390.9673,-53.2759 394.3771,-63.3071 399.8884,-58.9913\"/>\n</g>\n<!-- 8 -->\n<g id=\"node9\" class=\"node\">\n<title>8</title>\n<path fill=\"#f2bf9a\" stroke=\"#000000\" d=\"M567,-53C567,-53 469,-53 469,-53 463,-53 457,-47 457,-41 457,-41 457,-12 457,-12 457,-6 463,0 469,0 469,0 567,0 567,0 573,0 579,-6 579,-12 579,-12 579,-41 579,-41 579,-47 573,-53 567,-53\"/>\n<text text-anchor=\"start\" x=\"465\" y=\"-37.8\" font-family=\"Helvetica,sans-Serif\" font-size=\"14.00\" fill=\"#000000\">mse = 2044.992</text>\n<text text-anchor=\"start\" x=\"466\" y=\"-22.8\" font-family=\"Helvetica,sans-Serif\" font-size=\"14.00\" fill=\"#000000\">samples = 9865</text>\n<text text-anchor=\"start\" x=\"465.5\" y=\"-7.8\" font-family=\"Helvetica,sans-Serif\" font-size=\"14.00\" fill=\"#000000\">value = 262.091</text>\n</g>\n<!-- 6&#45;&gt;8 -->\n<g id=\"edge8\" class=\"edge\">\n<title>6&#45;&gt;8</title>\n<path fill=\"none\" stroke=\"#000000\" d=\"M469.2596,-88.7428C476.1838,-79.9004 483.72,-70.2765 490.7504,-61.2985\"/>\n<polygon fill=\"#000000\" stroke=\"#000000\" points=\"493.6229,-63.3071 497.0327,-53.2759 488.1116,-58.9913 493.6229,-63.3071\"/>\n</g>\n<!-- 10 -->\n<g id=\"node11\" class=\"node\">\n<title>10</title>\n<path fill=\"#fcefe5\" stroke=\"#000000\" d=\"M855,-153C855,-153 751,-153 751,-153 745,-153 739,-147 739,-141 739,-141 739,-101 739,-101 739,-95 745,-89 751,-89 751,-89 855,-89 855,-89 861,-89 867,-95 867,-101 867,-101 867,-141 867,-141 867,-147 861,-153 855,-153\"/>\n<text text-anchor=\"start\" x=\"773\" y=\"-138.8\" font-family=\"Helvetica,sans-Serif\" font-size=\"14.00\" fill=\"#000000\">X</text>\n<text text-anchor=\"start\" x=\"783\" y=\"-138.8\" font-family=\"Helvetica,sans-Serif\" baseline-shift=\"sub\" font-size=\"14.00\" fill=\"#000000\">25</text>\n<text text-anchor=\"start\" x=\"797\" y=\"-138.8\" font-family=\"Helvetica,sans-Serif\" font-size=\"14.00\" fill=\"#000000\"> ≤ 0.5</text>\n<text text-anchor=\"start\" x=\"750\" y=\"-124.8\" font-family=\"Helvetica,sans-Serif\" font-size=\"14.00\" fill=\"#000000\">mse = 1505.598</text>\n<text text-anchor=\"start\" x=\"747\" y=\"-110.8\" font-family=\"Helvetica,sans-Serif\" font-size=\"14.00\" fill=\"#000000\">samples = 22603</text>\n<text text-anchor=\"start\" x=\"754.5\" y=\"-96.8\" font-family=\"Helvetica,sans-Serif\" font-size=\"14.00\" fill=\"#000000\">value = 210.85</text>\n</g>\n<!-- 9&#45;&gt;10 -->\n<g id=\"edge10\" class=\"edge\">\n<title>9&#45;&gt;10</title>\n<path fill=\"none\" stroke=\"#000000\" d=\"M851.1443,-188.8089C844.9369,-180.0661 838.1362,-170.4876 831.6523,-161.3553\"/>\n<polygon fill=\"#000000\" stroke=\"#000000\" points=\"834.4559,-159.2584 825.8128,-153.1308 828.7483,-163.3108 834.4559,-159.2584\"/>\n</g>\n<!-- 13 -->\n<g id=\"node14\" class=\"node\">\n<title>13</title>\n<path fill=\"#fffdfc\" stroke=\"#000000\" d=\"M995,-153C995,-153 897,-153 897,-153 891,-153 885,-147 885,-141 885,-141 885,-101 885,-101 885,-95 891,-89 897,-89 897,-89 995,-89 995,-89 1001,-89 1007,-95 1007,-101 1007,-101 1007,-141 1007,-141 1007,-147 1001,-153 995,-153\"/>\n<text text-anchor=\"start\" x=\"919.5\" y=\"-138.8\" font-family=\"Helvetica,sans-Serif\" font-size=\"14.00\" fill=\"#000000\">X</text>\n<text text-anchor=\"start\" x=\"929.5\" y=\"-138.8\" font-family=\"Helvetica,sans-Serif\" baseline-shift=\"sub\" font-size=\"14.00\" fill=\"#000000\">0</text>\n<text text-anchor=\"start\" x=\"936.5\" y=\"-138.8\" font-family=\"Helvetica,sans-Serif\" font-size=\"14.00\" fill=\"#000000\"> ≤ 0.5</text>\n<text text-anchor=\"start\" x=\"893\" y=\"-124.8\" font-family=\"Helvetica,sans-Serif\" font-size=\"14.00\" fill=\"#000000\">mse = 1074.417</text>\n<text text-anchor=\"start\" x=\"894\" y=\"-110.8\" font-family=\"Helvetica,sans-Serif\" font-size=\"14.00\" fill=\"#000000\">samples = 2301</text>\n<text text-anchor=\"start\" x=\"897.5\" y=\"-96.8\" font-family=\"Helvetica,sans-Serif\" font-size=\"14.00\" fill=\"#000000\">value = 195.47</text>\n</g>\n<!-- 9&#45;&gt;13 -->\n<g id=\"edge13\" class=\"edge\">\n<title>9&#45;&gt;13</title>\n<path fill=\"none\" stroke=\"#000000\" d=\"M897.1776,-188.8089C903.4724,-180.0661 910.3689,-170.4876 916.9442,-161.3553\"/>\n<polygon fill=\"#000000\" stroke=\"#000000\" points=\"919.8631,-163.2912 922.8659,-153.1308 914.1824,-159.201 919.8631,-163.2912\"/>\n</g>\n<!-- 11 -->\n<g id=\"node12\" class=\"node\">\n<title>11</title>\n<path fill=\"#fbeee4\" stroke=\"#000000\" d=\"M713,-53C713,-53 609,-53 609,-53 603,-53 597,-47 597,-41 597,-41 597,-12 597,-12 597,-6 603,0 609,0 609,0 713,0 713,0 719,0 725,-6 725,-12 725,-12 725,-41 725,-41 725,-47 719,-53 713,-53\"/>\n<text text-anchor=\"start\" x=\"608\" y=\"-37.8\" font-family=\"Helvetica,sans-Serif\" font-size=\"14.00\" fill=\"#000000\">mse = 1527.542</text>\n<text text-anchor=\"start\" x=\"605\" y=\"-22.8\" font-family=\"Helvetica,sans-Serif\" font-size=\"14.00\" fill=\"#000000\">samples = 20776</text>\n<text text-anchor=\"start\" x=\"608.5\" y=\"-7.8\" font-family=\"Helvetica,sans-Serif\" font-size=\"14.00\" fill=\"#000000\">value = 211.893</text>\n</g>\n<!-- 10&#45;&gt;11 -->\n<g id=\"edge11\" class=\"edge\">\n<title>10&#45;&gt;11</title>\n<path fill=\"none\" stroke=\"#000000\" d=\"M754.5288,-88.7428C740.0216,-79.0883 724.1145,-68.5023 709.5991,-58.8424\"/>\n<polygon fill=\"#000000\" stroke=\"#000000\" points=\"711.4988,-55.9024 701.2346,-53.2759 707.6206,-61.7299 711.4988,-55.9024\"/>\n</g>\n<!-- 12 -->\n<g id=\"node13\" class=\"node\">\n<title>12</title>\n<path fill=\"#fefaf7\" stroke=\"#000000\" d=\"M853,-53C853,-53 755,-53 755,-53 749,-53 743,-47 743,-41 743,-41 743,-12 743,-12 743,-6 749,0 755,0 755,0 853,0 853,0 859,0 865,-6 865,-12 865,-12 865,-41 865,-41 865,-47 859,-53 853,-53\"/>\n<text text-anchor=\"start\" x=\"751\" y=\"-37.8\" font-family=\"Helvetica,sans-Serif\" font-size=\"14.00\" fill=\"#000000\">mse = 1103.141</text>\n<text text-anchor=\"start\" x=\"752\" y=\"-22.8\" font-family=\"Helvetica,sans-Serif\" font-size=\"14.00\" fill=\"#000000\">samples = 1827</text>\n<text text-anchor=\"start\" x=\"751.5\" y=\"-7.8\" font-family=\"Helvetica,sans-Serif\" font-size=\"14.00\" fill=\"#000000\">value = 198.994</text>\n</g>\n<!-- 10&#45;&gt;12 -->\n<g id=\"edge12\" class=\"edge\">\n<title>10&#45;&gt;12</title>\n<path fill=\"none\" stroke=\"#000000\" d=\"M803.3413,-88.7428C803.4273,-80.6222 803.5202,-71.8426 803.6084,-63.5093\"/>\n<polygon fill=\"#000000\" stroke=\"#000000\" points=\"807.1106,-63.3124 803.7167,-53.2759 800.1109,-63.2382 807.1106,-63.3124\"/>\n</g>\n<!-- 14 -->\n<g id=\"node15\" class=\"node\">\n<title>14</title>\n<path fill=\"#fefbf8\" stroke=\"#000000\" d=\"M993,-53C993,-53 895,-53 895,-53 889,-53 883,-47 883,-41 883,-41 883,-12 883,-12 883,-6 889,0 895,0 895,0 993,0 993,0 999,0 1005,-6 1005,-12 1005,-12 1005,-41 1005,-41 1005,-47 999,-53 993,-53\"/>\n<text text-anchor=\"start\" x=\"891\" y=\"-37.8\" font-family=\"Helvetica,sans-Serif\" font-size=\"14.00\" fill=\"#000000\">mse = 1270.177</text>\n<text text-anchor=\"start\" x=\"892\" y=\"-22.8\" font-family=\"Helvetica,sans-Serif\" font-size=\"14.00\" fill=\"#000000\">samples = 1106</text>\n<text text-anchor=\"start\" x=\"891.5\" y=\"-7.8\" font-family=\"Helvetica,sans-Serif\" font-size=\"14.00\" fill=\"#000000\">value = 197.819</text>\n</g>\n<!-- 13&#45;&gt;14 -->\n<g id=\"edge14\" class=\"edge\">\n<title>13&#45;&gt;14</title>\n<path fill=\"none\" stroke=\"#000000\" d=\"M945.3173,-88.7428C945.1454,-80.6222 944.9596,-71.8426 944.7833,-63.5093\"/>\n<polygon fill=\"#000000\" stroke=\"#000000\" points=\"948.2776,-63.1995 944.5667,-53.2759 941.2792,-63.3477 948.2776,-63.1995\"/>\n</g>\n<!-- 15 -->\n<g id=\"node16\" class=\"node\">\n<title>15</title>\n<path fill=\"#ffffff\" stroke=\"#000000\" d=\"M1132.5,-53C1132.5,-53 1035.5,-53 1035.5,-53 1029.5,-53 1023.5,-47 1023.5,-41 1023.5,-41 1023.5,-12 1023.5,-12 1023.5,-6 1029.5,0 1035.5,0 1035.5,0 1132.5,0 1132.5,0 1138.5,0 1144.5,-6 1144.5,-12 1144.5,-12 1144.5,-41 1144.5,-41 1144.5,-47 1138.5,-53 1132.5,-53\"/>\n<text text-anchor=\"start\" x=\"1035.5\" y=\"-37.8\" font-family=\"Helvetica,sans-Serif\" font-size=\"14.00\" fill=\"#000000\">mse = 883.403</text>\n<text text-anchor=\"start\" x=\"1032\" y=\"-22.8\" font-family=\"Helvetica,sans-Serif\" font-size=\"14.00\" fill=\"#000000\">samples = 1195</text>\n<text text-anchor=\"start\" x=\"1031.5\" y=\"-7.8\" font-family=\"Helvetica,sans-Serif\" font-size=\"14.00\" fill=\"#000000\">value = 193.296</text>\n</g>\n<!-- 13&#45;&gt;15 -->\n<g id=\"edge15\" class=\"edge\">\n<title>13&#45;&gt;15</title>\n<path fill=\"none\" stroke=\"#000000\" d=\"M993.1058,-88.7428C1007.0726,-79.1786 1022.3745,-68.7001 1036.374,-59.1135\"/>\n<polygon fill=\"#000000\" stroke=\"#000000\" points=\"1038.6254,-61.8138 1044.8987,-53.2759 1034.6703,-56.0382 1038.6254,-61.8138\"/>\n</g>\n<!-- 17 -->\n<g id=\"node18\" class=\"node\">\n<title>17</title>\n<path fill=\"#f3c3a1\" stroke=\"#000000\" d=\"M1510.5,-253C1510.5,-253 1397.5,-253 1397.5,-253 1391.5,-253 1385.5,-247 1385.5,-241 1385.5,-241 1385.5,-201 1385.5,-201 1385.5,-195 1391.5,-189 1397.5,-189 1397.5,-189 1510.5,-189 1510.5,-189 1516.5,-189 1522.5,-195 1522.5,-201 1522.5,-201 1522.5,-241 1522.5,-241 1522.5,-247 1516.5,-253 1510.5,-253\"/>\n<text text-anchor=\"start\" x=\"1424\" y=\"-238.8\" font-family=\"Helvetica,sans-Serif\" font-size=\"14.00\" fill=\"#000000\">X</text>\n<text text-anchor=\"start\" x=\"1434\" y=\"-238.8\" font-family=\"Helvetica,sans-Serif\" baseline-shift=\"sub\" font-size=\"14.00\" fill=\"#000000\">26</text>\n<text text-anchor=\"start\" x=\"1448\" y=\"-238.8\" font-family=\"Helvetica,sans-Serif\" font-size=\"14.00\" fill=\"#000000\"> ≤ 0.5</text>\n<text text-anchor=\"start\" x=\"1401\" y=\"-224.8\" font-family=\"Helvetica,sans-Serif\" font-size=\"14.00\" fill=\"#000000\">mse = 2199.138</text>\n<text text-anchor=\"start\" x=\"1393.5\" y=\"-210.8\" font-family=\"Helvetica,sans-Serif\" font-size=\"14.00\" fill=\"#000000\">samples = 424286</text>\n<text text-anchor=\"start\" x=\"1401.5\" y=\"-196.8\" font-family=\"Helvetica,sans-Serif\" font-size=\"14.00\" fill=\"#000000\">value = 257.049</text>\n</g>\n<!-- 16&#45;&gt;17 -->\n<g id=\"edge17\" class=\"edge\">\n<title>16&#45;&gt;17</title>\n<path fill=\"none\" stroke=\"#000000\" d=\"M1454,-288.8089C1454,-280.6906 1454,-271.8517 1454,-263.3186\"/>\n<polygon fill=\"#000000\" stroke=\"#000000\" points=\"1457.5001,-263.1307 1454,-253.1308 1450.5001,-263.1308 1457.5001,-263.1307\"/>\n</g>\n<!-- 24 -->\n<g id=\"node25\" class=\"node\">\n<title>24</title>\n<path fill=\"#efb083\" stroke=\"#000000\" d=\"M1954.5,-253C1954.5,-253 1841.5,-253 1841.5,-253 1835.5,-253 1829.5,-247 1829.5,-241 1829.5,-241 1829.5,-201 1829.5,-201 1829.5,-195 1835.5,-189 1841.5,-189 1841.5,-189 1954.5,-189 1954.5,-189 1960.5,-189 1966.5,-195 1966.5,-201 1966.5,-201 1966.5,-241 1966.5,-241 1966.5,-247 1960.5,-253 1954.5,-253\"/>\n<text text-anchor=\"start\" x=\"1868\" y=\"-238.8\" font-family=\"Helvetica,sans-Serif\" font-size=\"14.00\" fill=\"#000000\">X</text>\n<text text-anchor=\"start\" x=\"1878\" y=\"-238.8\" font-family=\"Helvetica,sans-Serif\" baseline-shift=\"sub\" font-size=\"14.00\" fill=\"#000000\">17</text>\n<text text-anchor=\"start\" x=\"1892\" y=\"-238.8\" font-family=\"Helvetica,sans-Serif\" font-size=\"14.00\" fill=\"#000000\"> ≤ 0.5</text>\n<text text-anchor=\"start\" x=\"1845\" y=\"-224.8\" font-family=\"Helvetica,sans-Serif\" font-size=\"14.00\" fill=\"#000000\">mse = 2940.004</text>\n<text text-anchor=\"start\" x=\"1837.5\" y=\"-210.8\" font-family=\"Helvetica,sans-Serif\" font-size=\"14.00\" fill=\"#000000\">samples = 213760</text>\n<text text-anchor=\"start\" x=\"1845.5\" y=\"-196.8\" font-family=\"Helvetica,sans-Serif\" font-size=\"14.00\" fill=\"#000000\">value = 277.576</text>\n</g>\n<!-- 16&#45;&gt;24 -->\n<g id=\"edge24\" class=\"edge\">\n<title>16&#45;&gt;24</title>\n<path fill=\"none\" stroke=\"#000000\" d=\"M1522.8878,-305.4847C1603.1356,-287.4109 1735.4252,-257.616 1819.5554,-238.6677\"/>\n<polygon fill=\"#000000\" stroke=\"#000000\" points=\"1820.3293,-242.0812 1829.3159,-236.4694 1818.7912,-235.2522 1820.3293,-242.0812\"/>\n</g>\n<!-- 18 -->\n<g id=\"node19\" class=\"node\">\n<title>18</title>\n<path fill=\"#f2c09c\" stroke=\"#000000\" d=\"M1435.5,-153C1435.5,-153 1322.5,-153 1322.5,-153 1316.5,-153 1310.5,-147 1310.5,-141 1310.5,-141 1310.5,-101 1310.5,-101 1310.5,-95 1316.5,-89 1322.5,-89 1322.5,-89 1435.5,-89 1435.5,-89 1441.5,-89 1447.5,-95 1447.5,-101 1447.5,-101 1447.5,-141 1447.5,-141 1447.5,-147 1441.5,-153 1435.5,-153\"/>\n<text text-anchor=\"start\" x=\"1349\" y=\"-138.8\" font-family=\"Helvetica,sans-Serif\" font-size=\"14.00\" fill=\"#000000\">X</text>\n<text text-anchor=\"start\" x=\"1359\" y=\"-138.8\" font-family=\"Helvetica,sans-Serif\" baseline-shift=\"sub\" font-size=\"14.00\" fill=\"#000000\">13</text>\n<text text-anchor=\"start\" x=\"1373\" y=\"-138.8\" font-family=\"Helvetica,sans-Serif\" font-size=\"14.00\" fill=\"#000000\"> ≤ 0.5</text>\n<text text-anchor=\"start\" x=\"1326\" y=\"-124.8\" font-family=\"Helvetica,sans-Serif\" font-size=\"14.00\" fill=\"#000000\">mse = 2173.863</text>\n<text text-anchor=\"start\" x=\"1318.5\" y=\"-110.8\" font-family=\"Helvetica,sans-Serif\" font-size=\"14.00\" fill=\"#000000\">samples = 331749</text>\n<text text-anchor=\"start\" x=\"1326.5\" y=\"-96.8\" font-family=\"Helvetica,sans-Serif\" font-size=\"14.00\" fill=\"#000000\">value = 260.532</text>\n</g>\n<!-- 17&#45;&gt;18 -->\n<g id=\"edge18\" class=\"edge\">\n<title>17&#45;&gt;18</title>\n<path fill=\"none\" stroke=\"#000000\" d=\"M1429.8567,-188.8089C1423.2996,-180.0661 1416.1157,-170.4876 1409.2665,-161.3553\"/>\n<polygon fill=\"#000000\" stroke=\"#000000\" points=\"1411.8981,-159.0308 1403.0981,-153.1308 1406.2981,-163.2308 1411.8981,-159.0308\"/>\n</g>\n<!-- 21 -->\n<g id=\"node22\" class=\"node\">\n<title>21</title>\n<path fill=\"#f5cfb3\" stroke=\"#000000\" d=\"M1582,-153C1582,-153 1478,-153 1478,-153 1472,-153 1466,-147 1466,-141 1466,-141 1466,-101 1466,-101 1466,-95 1472,-89 1478,-89 1478,-89 1582,-89 1582,-89 1588,-89 1594,-95 1594,-101 1594,-101 1594,-141 1594,-141 1594,-147 1588,-153 1582,-153\"/>\n<text text-anchor=\"start\" x=\"1503.5\" y=\"-138.8\" font-family=\"Helvetica,sans-Serif\" font-size=\"14.00\" fill=\"#000000\">X</text>\n<text text-anchor=\"start\" x=\"1513.5\" y=\"-138.8\" font-family=\"Helvetica,sans-Serif\" baseline-shift=\"sub\" font-size=\"14.00\" fill=\"#000000\">0</text>\n<text text-anchor=\"start\" x=\"1520.5\" y=\"-138.8\" font-family=\"Helvetica,sans-Serif\" font-size=\"14.00\" fill=\"#000000\"> ≤ 0.5</text>\n<text text-anchor=\"start\" x=\"1477\" y=\"-124.8\" font-family=\"Helvetica,sans-Serif\" font-size=\"14.00\" fill=\"#000000\">mse = 2090.315</text>\n<text text-anchor=\"start\" x=\"1474\" y=\"-110.8\" font-family=\"Helvetica,sans-Serif\" font-size=\"14.00\" fill=\"#000000\">samples = 92537</text>\n<text text-anchor=\"start\" x=\"1477.5\" y=\"-96.8\" font-family=\"Helvetica,sans-Serif\" font-size=\"14.00\" fill=\"#000000\">value = 244.561</text>\n</g>\n<!-- 17&#45;&gt;21 -->\n<g id=\"edge21\" class=\"edge\">\n<title>17&#45;&gt;21</title>\n<path fill=\"none\" stroke=\"#000000\" d=\"M1478.4652,-188.8089C1485.1098,-180.0661 1492.3894,-170.4876 1499.3299,-161.3553\"/>\n<polygon fill=\"#000000\" stroke=\"#000000\" points=\"1502.3163,-163.2102 1505.5806,-153.1308 1496.7432,-158.9746 1502.3163,-163.2102\"/>\n</g>\n<!-- 19 -->\n<g id=\"node20\" class=\"node\">\n<title>19</title>\n<path fill=\"#f2be99\" stroke=\"#000000\" d=\"M1287.5,-53C1287.5,-53 1174.5,-53 1174.5,-53 1168.5,-53 1162.5,-47 1162.5,-41 1162.5,-41 1162.5,-12 1162.5,-12 1162.5,-6 1168.5,0 1174.5,0 1174.5,0 1287.5,0 1287.5,0 1293.5,0 1299.5,-6 1299.5,-12 1299.5,-12 1299.5,-41 1299.5,-41 1299.5,-47 1293.5,-53 1287.5,-53\"/>\n<text text-anchor=\"start\" x=\"1178\" y=\"-37.8\" font-family=\"Helvetica,sans-Serif\" font-size=\"14.00\" fill=\"#000000\">mse = 2170.391</text>\n<text text-anchor=\"start\" x=\"1170.5\" y=\"-22.8\" font-family=\"Helvetica,sans-Serif\" font-size=\"14.00\" fill=\"#000000\">samples = 299346</text>\n<text text-anchor=\"start\" x=\"1178.5\" y=\"-7.8\" font-family=\"Helvetica,sans-Serif\" font-size=\"14.00\" fill=\"#000000\">value = 262.284</text>\n</g>\n<!-- 18&#45;&gt;19 -->\n<g id=\"edge19\" class=\"edge\">\n<title>18&#45;&gt;19</title>\n<path fill=\"none\" stroke=\"#000000\" d=\"M1328.4807,-88.7428C1313.3606,-79.0883 1296.7813,-68.5023 1281.6526,-58.8424\"/>\n<polygon fill=\"#000000\" stroke=\"#000000\" points=\"1283.2467,-55.7076 1272.9347,-53.2759 1279.4795,-61.6075 1283.2467,-55.7076\"/>\n</g>\n<!-- 20 -->\n<g id=\"node21\" class=\"node\">\n<title>20</title>\n<path fill=\"#f5cfb4\" stroke=\"#000000\" d=\"M1434,-53C1434,-53 1330,-53 1330,-53 1324,-53 1318,-47 1318,-41 1318,-41 1318,-12 1318,-12 1318,-6 1324,0 1330,0 1330,0 1434,0 1434,0 1440,0 1446,-6 1446,-12 1446,-12 1446,-41 1446,-41 1446,-47 1440,-53 1434,-53\"/>\n<text text-anchor=\"start\" x=\"1329\" y=\"-37.8\" font-family=\"Helvetica,sans-Serif\" font-size=\"14.00\" fill=\"#000000\">mse = 1915.659</text>\n<text text-anchor=\"start\" x=\"1326\" y=\"-22.8\" font-family=\"Helvetica,sans-Serif\" font-size=\"14.00\" fill=\"#000000\">samples = 32403</text>\n<text text-anchor=\"start\" x=\"1329.5\" y=\"-7.8\" font-family=\"Helvetica,sans-Serif\" font-size=\"14.00\" fill=\"#000000\">value = 244.348</text>\n</g>\n<!-- 18&#45;&gt;20 -->\n<g id=\"edge20\" class=\"edge\">\n<title>18&#45;&gt;20</title>\n<path fill=\"none\" stroke=\"#000000\" d=\"M1380.024,-88.7428C1380.2818,-80.6222 1380.5606,-71.8426 1380.8251,-63.5093\"/>\n<polygon fill=\"#000000\" stroke=\"#000000\" points=\"1384.3308,-63.3819 1381.15,-53.2759 1377.3343,-63.1597 1384.3308,-63.3819\"/>\n</g>\n<!-- 22 -->\n<g id=\"node23\" class=\"node\">\n<title>22</title>\n<path fill=\"#f5cdb0\" stroke=\"#000000\" d=\"M1580,-53C1580,-53 1476,-53 1476,-53 1470,-53 1464,-47 1464,-41 1464,-41 1464,-12 1464,-12 1464,-6 1470,0 1476,0 1476,0 1580,0 1580,0 1586,0 1592,-6 1592,-12 1592,-12 1592,-41 1592,-41 1592,-47 1586,-53 1580,-53\"/>\n<text text-anchor=\"start\" x=\"1475\" y=\"-37.8\" font-family=\"Helvetica,sans-Serif\" font-size=\"14.00\" fill=\"#000000\">mse = 2047.336</text>\n<text text-anchor=\"start\" x=\"1472\" y=\"-22.8\" font-family=\"Helvetica,sans-Serif\" font-size=\"14.00\" fill=\"#000000\">samples = 81717</text>\n<text text-anchor=\"start\" x=\"1475.5\" y=\"-7.8\" font-family=\"Helvetica,sans-Serif\" font-size=\"14.00\" fill=\"#000000\">value = 247.149</text>\n</g>\n<!-- 21&#45;&gt;22 -->\n<g id=\"edge22\" class=\"edge\">\n<title>21&#45;&gt;22</title>\n<path fill=\"none\" stroke=\"#000000\" d=\"M1529.3173,-88.7428C1529.1454,-80.6222 1528.9596,-71.8426 1528.7833,-63.5093\"/>\n<polygon fill=\"#000000\" stroke=\"#000000\" points=\"1532.2776,-63.1995 1528.5667,-53.2759 1525.2792,-63.3477 1532.2776,-63.1995\"/>\n</g>\n<!-- 23 -->\n<g id=\"node24\" class=\"node\">\n<title>23</title>\n<path fill=\"#f9e1d0\" stroke=\"#000000\" d=\"M1726,-53C1726,-53 1622,-53 1622,-53 1616,-53 1610,-47 1610,-41 1610,-41 1610,-12 1610,-12 1610,-6 1616,0 1622,0 1622,0 1726,0 1726,0 1732,0 1738,-6 1738,-12 1738,-12 1738,-41 1738,-41 1738,-47 1732,-53 1726,-53\"/>\n<text text-anchor=\"start\" x=\"1621\" y=\"-37.8\" font-family=\"Helvetica,sans-Serif\" font-size=\"14.00\" fill=\"#000000\">mse = 1982.153</text>\n<text text-anchor=\"start\" x=\"1618\" y=\"-22.8\" font-family=\"Helvetica,sans-Serif\" font-size=\"14.00\" fill=\"#000000\">samples = 10820</text>\n<text text-anchor=\"start\" x=\"1621.5\" y=\"-7.8\" font-family=\"Helvetica,sans-Serif\" font-size=\"14.00\" fill=\"#000000\">value = 225.012</text>\n</g>\n<!-- 21&#45;&gt;23 -->\n<g id=\"edge23\" class=\"edge\">\n<title>21&#45;&gt;23</title>\n<path fill=\"none\" stroke=\"#000000\" d=\"M1579.1539,-88.7428C1593.8654,-79.0883 1609.9965,-68.5023 1624.7164,-58.8424\"/>\n<polygon fill=\"#000000\" stroke=\"#000000\" points=\"1626.7585,-61.6886 1633.1987,-53.2759 1622.9179,-55.8363 1626.7585,-61.6886\"/>\n</g>\n<!-- 25 -->\n<g id=\"node26\" class=\"node\">\n<title>25</title>\n<path fill=\"#efb388\" stroke=\"#000000\" d=\"M1954.5,-153C1954.5,-153 1841.5,-153 1841.5,-153 1835.5,-153 1829.5,-147 1829.5,-141 1829.5,-141 1829.5,-101 1829.5,-101 1829.5,-95 1835.5,-89 1841.5,-89 1841.5,-89 1954.5,-89 1954.5,-89 1960.5,-89 1966.5,-95 1966.5,-101 1966.5,-101 1966.5,-141 1966.5,-141 1966.5,-147 1960.5,-153 1954.5,-153\"/>\n<text text-anchor=\"start\" x=\"1868\" y=\"-138.8\" font-family=\"Helvetica,sans-Serif\" font-size=\"14.00\" fill=\"#000000\">X</text>\n<text text-anchor=\"start\" x=\"1878\" y=\"-138.8\" font-family=\"Helvetica,sans-Serif\" baseline-shift=\"sub\" font-size=\"14.00\" fill=\"#000000\">15</text>\n<text text-anchor=\"start\" x=\"1892\" y=\"-138.8\" font-family=\"Helvetica,sans-Serif\" font-size=\"14.00\" fill=\"#000000\"> ≤ 0.5</text>\n<text text-anchor=\"start\" x=\"1845\" y=\"-124.8\" font-family=\"Helvetica,sans-Serif\" font-size=\"14.00\" fill=\"#000000\">mse = 2830.578</text>\n<text text-anchor=\"start\" x=\"1837.5\" y=\"-110.8\" font-family=\"Helvetica,sans-Serif\" font-size=\"14.00\" fill=\"#000000\">samples = 199885</text>\n<text text-anchor=\"start\" x=\"1845.5\" y=\"-96.8\" font-family=\"Helvetica,sans-Serif\" font-size=\"14.00\" fill=\"#000000\">value = 274.147</text>\n</g>\n<!-- 24&#45;&gt;25 -->\n<g id=\"edge25\" class=\"edge\">\n<title>24&#45;&gt;25</title>\n<path fill=\"none\" stroke=\"#000000\" d=\"M1898,-188.8089C1898,-180.6906 1898,-171.8517 1898,-163.3186\"/>\n<polygon fill=\"#000000\" stroke=\"#000000\" points=\"1901.5001,-163.1307 1898,-153.1308 1894.5001,-163.1308 1901.5001,-163.1307\"/>\n</g>\n<!-- 28 -->\n<g id=\"node29\" class=\"node\">\n<title>28</title>\n<path fill=\"#e5823a\" stroke=\"#000000\" d=\"M2174,-153C2174,-153 2070,-153 2070,-153 2064,-153 2058,-147 2058,-141 2058,-141 2058,-101 2058,-101 2058,-95 2064,-89 2070,-89 2070,-89 2174,-89 2174,-89 2180,-89 2186,-95 2186,-101 2186,-101 2186,-141 2186,-141 2186,-147 2180,-153 2174,-153\"/>\n<text text-anchor=\"start\" x=\"2092\" y=\"-138.8\" font-family=\"Helvetica,sans-Serif\" font-size=\"14.00\" fill=\"#000000\">X</text>\n<text text-anchor=\"start\" x=\"2102\" y=\"-138.8\" font-family=\"Helvetica,sans-Serif\" baseline-shift=\"sub\" font-size=\"14.00\" fill=\"#000000\">26</text>\n<text text-anchor=\"start\" x=\"2116\" y=\"-138.8\" font-family=\"Helvetica,sans-Serif\" font-size=\"14.00\" fill=\"#000000\"> ≤ 0.5</text>\n<text text-anchor=\"start\" x=\"2069\" y=\"-124.8\" font-family=\"Helvetica,sans-Serif\" font-size=\"14.00\" fill=\"#000000\">mse = 1906.227</text>\n<text text-anchor=\"start\" x=\"2066\" y=\"-110.8\" font-family=\"Helvetica,sans-Serif\" font-size=\"14.00\" fill=\"#000000\">samples = 13875</text>\n<text text-anchor=\"start\" x=\"2073.5\" y=\"-96.8\" font-family=\"Helvetica,sans-Serif\" font-size=\"14.00\" fill=\"#000000\">value = 326.98</text>\n</g>\n<!-- 24&#45;&gt;28 -->\n<g id=\"edge28\" class=\"edge\">\n<title>24&#45;&gt;28</title>\n<path fill=\"none\" stroke=\"#000000\" d=\"M1966.7297,-190.3171C1992.729,-178.7103 2022.4044,-165.4623 2048.7994,-153.6788\"/>\n<polygon fill=\"#000000\" stroke=\"#000000\" points=\"2050.2829,-156.8496 2057.9875,-149.577 2047.4293,-150.4576 2050.2829,-156.8496\"/>\n</g>\n<!-- 26 -->\n<g id=\"node27\" class=\"node\">\n<title>26</title>\n<path fill=\"#f1ba93\" stroke=\"#000000\" d=\"M1881.5,-53C1881.5,-53 1768.5,-53 1768.5,-53 1762.5,-53 1756.5,-47 1756.5,-41 1756.5,-41 1756.5,-12 1756.5,-12 1756.5,-6 1762.5,0 1768.5,0 1768.5,0 1881.5,0 1881.5,0 1887.5,0 1893.5,-6 1893.5,-12 1893.5,-12 1893.5,-41 1893.5,-41 1893.5,-47 1887.5,-53 1881.5,-53\"/>\n<text text-anchor=\"start\" x=\"1772\" y=\"-37.8\" font-family=\"Helvetica,sans-Serif\" font-size=\"14.00\" fill=\"#000000\">mse = 2704.615</text>\n<text text-anchor=\"start\" x=\"1764.5\" y=\"-22.8\" font-family=\"Helvetica,sans-Serif\" font-size=\"14.00\" fill=\"#000000\">samples = 153186</text>\n<text text-anchor=\"start\" x=\"1772.5\" y=\"-7.8\" font-family=\"Helvetica,sans-Serif\" font-size=\"14.00\" fill=\"#000000\">value = 266.772</text>\n</g>\n<!-- 25&#45;&gt;26 -->\n<g id=\"edge26\" class=\"edge\">\n<title>25&#45;&gt;26</title>\n<path fill=\"none\" stroke=\"#000000\" d=\"M1873.0817,-88.7428C1866.2511,-79.9004 1858.8168,-70.2765 1851.8814,-61.2985\"/>\n<polygon fill=\"#000000\" stroke=\"#000000\" points=\"1854.5672,-59.05 1845.684,-53.2759 1849.0275,-63.3293 1854.5672,-59.05\"/>\n</g>\n<!-- 27 -->\n<g id=\"node28\" class=\"node\">\n<title>27</title>\n<path fill=\"#eb9d64\" stroke=\"#000000\" d=\"M2028,-53C2028,-53 1924,-53 1924,-53 1918,-53 1912,-47 1912,-41 1912,-41 1912,-12 1912,-12 1912,-6 1918,0 1924,0 1924,0 2028,0 2028,0 2034,0 2040,-6 2040,-12 2040,-12 2040,-41 2040,-41 2040,-47 2034,-53 2028,-53\"/>\n<text text-anchor=\"start\" x=\"1923\" y=\"-37.8\" font-family=\"Helvetica,sans-Serif\" font-size=\"14.00\" fill=\"#000000\">mse = 2480.245</text>\n<text text-anchor=\"start\" x=\"1920\" y=\"-22.8\" font-family=\"Helvetica,sans-Serif\" font-size=\"14.00\" fill=\"#000000\">samples = 46699</text>\n<text text-anchor=\"start\" x=\"1923.5\" y=\"-7.8\" font-family=\"Helvetica,sans-Serif\" font-size=\"14.00\" fill=\"#000000\">value = 298.337</text>\n</g>\n<!-- 25&#45;&gt;27 -->\n<g id=\"edge27\" class=\"edge\">\n<title>25&#45;&gt;27</title>\n<path fill=\"none\" stroke=\"#000000\" d=\"M1924.625,-88.7428C1931.998,-79.8102 1940.0292,-70.08 1947.5041,-61.0238\"/>\n<polygon fill=\"#000000\" stroke=\"#000000\" points=\"1950.2329,-63.2161 1953.8993,-53.2759 1944.8343,-58.7601 1950.2329,-63.2161\"/>\n</g>\n<!-- 29 -->\n<g id=\"node30\" class=\"node\">\n<title>29</title>\n<path fill=\"#e58139\" stroke=\"#000000\" d=\"M2174,-53C2174,-53 2070,-53 2070,-53 2064,-53 2058,-47 2058,-41 2058,-41 2058,-12 2058,-12 2058,-6 2064,0 2070,0 2070,0 2174,0 2174,0 2180,0 2186,-6 2186,-12 2186,-12 2186,-41 2186,-41 2186,-47 2180,-53 2174,-53\"/>\n<text text-anchor=\"start\" x=\"2069\" y=\"-37.8\" font-family=\"Helvetica,sans-Serif\" font-size=\"14.00\" fill=\"#000000\">mse = 1851.357</text>\n<text text-anchor=\"start\" x=\"2066\" y=\"-22.8\" font-family=\"Helvetica,sans-Serif\" font-size=\"14.00\" fill=\"#000000\">samples = 13560</text>\n<text text-anchor=\"start\" x=\"2069.5\" y=\"-7.8\" font-family=\"Helvetica,sans-Serif\" font-size=\"14.00\" fill=\"#000000\">value = 327.715</text>\n</g>\n<!-- 28&#45;&gt;29 -->\n<g id=\"edge29\" class=\"edge\">\n<title>28&#45;&gt;29</title>\n<path fill=\"none\" stroke=\"#000000\" d=\"M2122,-88.7428C2122,-80.6222 2122,-71.8426 2122,-63.5093\"/>\n<polygon fill=\"#000000\" stroke=\"#000000\" points=\"2125.5001,-63.2758 2122,-53.2759 2118.5001,-63.2759 2125.5001,-63.2758\"/>\n</g>\n<!-- 30 -->\n<g id=\"node31\" class=\"node\">\n<title>30</title>\n<path fill=\"#eb9f69\" stroke=\"#000000\" d=\"M2314,-53C2314,-53 2216,-53 2216,-53 2210,-53 2204,-47 2204,-41 2204,-41 2204,-12 2204,-12 2204,-6 2210,0 2216,0 2216,0 2314,0 2314,0 2320,0 2326,-6 2326,-12 2326,-12 2326,-41 2326,-41 2326,-47 2320,-53 2314,-53\"/>\n<text text-anchor=\"start\" x=\"2212\" y=\"-37.8\" font-family=\"Helvetica,sans-Serif\" font-size=\"14.00\" fill=\"#000000\">mse = 3243.703</text>\n<text text-anchor=\"start\" x=\"2217\" y=\"-22.8\" font-family=\"Helvetica,sans-Serif\" font-size=\"14.00\" fill=\"#000000\">samples = 315</text>\n<text text-anchor=\"start\" x=\"2212.5\" y=\"-7.8\" font-family=\"Helvetica,sans-Serif\" font-size=\"14.00\" fill=\"#000000\">value = 295.337</text>\n</g>\n<!-- 28&#45;&gt;30 -->\n<g id=\"edge30\" class=\"edge\">\n<title>28&#45;&gt;30</title>\n<path fill=\"none\" stroke=\"#000000\" d=\"M2170.8125,-88.7428C2185.4219,-79.0883 2201.441,-68.5023 2216.0586,-58.8424\"/>\n<polygon fill=\"#000000\" stroke=\"#000000\" points=\"2218.0688,-61.7092 2224.482,-53.2759 2214.2095,-55.8692 2218.0688,-61.7092\"/>\n</g>\n</g>\n</svg>\n",
            "text/plain": [
              "<graphviz.files.Source at 0x7f3273a8d090>"
            ]
          },
          "execution_count": 65,
          "metadata": {},
          "output_type": "execute_result"
        }
      ]
    },
    {
      "cell_type": "code",
      "metadata": {
        "colab": {
          "base_uri": "https://localhost:8080/"
        },
        "id": "Fg7u-QGz-Q_S",
        "outputId": "70f7909f-b0ab-4505-bd00-c08ede9e3749"
      },
      "source": [
        "tree_regressor_50 = DecisionTreeRegressor(max_depth=50)\n",
        "tree_regressor_50.fit(X_train, y_train)\n",
        "pred = tree_regressor_50.predict(X_test)\n",
        "mean_squared_error(pred, y_test)"
      ],
      "execution_count": null,
      "outputs": [
        {
          "data": {
            "text/plain": [
              "1968.4249095590098"
            ]
          },
          "execution_count": 40,
          "metadata": {},
          "output_type": "execute_result"
        }
      ]
    },
    {
      "cell_type": "code",
      "metadata": {
        "id": "ZqNL6YgpFNJZ"
      },
      "source": [
        ""
      ],
      "execution_count": null,
      "outputs": []
    },
    {
      "cell_type": "code",
      "metadata": {
        "id": "lFUjaI5wMpsW"
      },
      "source": [
        "#degree=9\n",
        "##polyreg=make_pipeline(PolynomialFeatures(degree),LinearRegression())\n",
        "#polyreg.fit(X_train, y_train)\n",
        "#print('Polinomial 4: {}'.format(mean_squared_error(polyreg.predict(X_test), y_test)))"
      ],
      "execution_count": null,
      "outputs": []
    },
    {
      "cell_type": "code",
      "metadata": {
        "colab": {
          "base_uri": "https://localhost:8080/"
        },
        "id": "i1zHF18E-Qs6",
        "outputId": "dbc5e981-2d83-42ce-9bef-a679d8a6890d"
      },
      "source": [
        "poly = PolynomialFeatures(degree = 2)\n",
        "#X_poly = poly.fit_transform(X_train)\n",
        "poly.fit(X_train, y_train)\n",
        "lin3 = LinearRegression()\n",
        "lin3.fit(X_train, y_train)\n",
        "print('Polinomial 4: {}'.format(mean_squared_error(lin3.predict(X_test), y_test)))"
      ],
      "execution_count": null,
      "outputs": [
        {
          "name": "stdout",
          "output_type": "stream",
          "text": [
            "Polinomial 4: 1959.6682552331404\n"
          ]
        }
      ]
    },
    {
      "cell_type": "code",
      "metadata": {
        "colab": {
          "base_uri": "https://localhost:8080/"
        },
        "id": "pS-Oq0xkuo8U",
        "outputId": "4101f1ba-dfb8-4fa8-e63c-a64d924719c8"
      },
      "source": [
        "from sklearn.preprocessing import PolynomialFeatures \n",
        "poly = PolynomialFeatures(degree = 4)\n",
        "#X_poly = poly.fit_transform(X_train)\n",
        "poly.fit(X_train, y_train)\n",
        "lin2 = LinearRegression()\n",
        "lin2.fit(X_train, y_train)"
      ],
      "execution_count": null,
      "outputs": [
        {
          "data": {
            "text/plain": [
              "LinearRegression(copy_X=True, fit_intercept=True, n_jobs=None, normalize=False)"
            ]
          },
          "execution_count": 43,
          "metadata": {},
          "output_type": "execute_result"
        }
      ]
    },
    {
      "cell_type": "code",
      "metadata": {
        "colab": {
          "base_uri": "https://localhost:8080/"
        },
        "id": "nKaPyTzMuo8U",
        "outputId": "c66bc819-a5e9-44b1-fcd2-d55c76e8af42"
      },
      "source": [
        "print('Polinomial 4: {}'.format(mean_squared_error(lin2.predict(X_test), y_test)))"
      ],
      "execution_count": null,
      "outputs": [
        {
          "name": "stdout",
          "output_type": "stream",
          "text": [
            "Polinomial 4: 1959.6682552331404\n"
          ]
        }
      ]
    },
    {
      "cell_type": "code",
      "metadata": {
        "colab": {
          "base_uri": "https://localhost:8080/"
        },
        "id": "m8hGCqac0QWn",
        "outputId": "4bdc2af4-91a3-4bbb-de0a-807807b395cb"
      },
      "source": [
        "poly = PolynomialFeatures(degree = 8)\n",
        "#X_poly = poly.fit_transform(X_train)\n",
        "poly.fit(X_train, y_train)\n",
        "lin2 = LinearRegression()\n",
        "lin2.fit(X_train, y_train)\n",
        "print('Polinomial 4: {}'.format(mean_squared_error(lin2.predict(X_test), y_test)))"
      ],
      "execution_count": null,
      "outputs": [
        {
          "name": "stdout",
          "output_type": "stream",
          "text": [
            "Polinomial 4: 1959.6682552331404\n"
          ]
        }
      ]
    },
    {
      "cell_type": "code",
      "metadata": {
        "id": "UhHCY_6vIHj-"
      },
      "source": [
        "#poly = PolynomialFeatures(degree = 16)\n",
        "#X_poly = poly.fit_transform(X_train)\n",
        "#poly.fit(X_train, y_train)\n",
        "#lin2 = LinearRegression()\n",
        "#lin2.fit(X_train, y_train)\n",
        "#print('Polinomial 4: {}'.format(mean_squared_error(lin2.predict(X_test), y_test)))"
      ],
      "execution_count": null,
      "outputs": []
    },
    {
      "cell_type": "code",
      "metadata": {
        "id": "4NC8FulJuo8V"
      },
      "source": [
        "mlp_regressor_simple = MLPRegressor(solver='lbfgs', alpha=1e-5, activation='relu',\n",
        "                                       hidden_layer_sizes=(30,30,30), random_state=1)\n",
        "\n",
        "mlp_regressor_complex = MLPRegressor(solver='lbfgs', alpha=1e-5, activation='relu',\n",
        "                                       hidden_layer_sizes=(28,52,12), random_state=1)\n",
        "\n",
        "mlp_regressor_complex2 = MLPRegressor(solver='lbfgs', alpha=1e-5, activation='relu',\n",
        "                                       hidden_layer_sizes=(30,30,30,30,30), random_state=1)\n",
        "\n",
        "mlp_regressor_complex3 = MLPRegressor(solver='lbfgs', alpha=1e-5, activation='relu',\n",
        "                                       hidden_layer_sizes=(30,60,30), random_state=1)\n",
        "\n",
        "mlp_regressor_complex4 = MLPRegressor(solver='lbfgs', alpha=1e-5, activation='relu',\n",
        "                                       hidden_layer_sizes=(30,60,60,30), random_state=1)"
      ],
      "execution_count": null,
      "outputs": []
    },
    {
      "cell_type": "code",
      "metadata": {
        "colab": {
          "base_uri": "https://localhost:8080/"
        },
        "id": "lyFteO5Z-MoJ",
        "outputId": "104bda62-3322-4e79-946c-3f6908278333"
      },
      "source": [
        "mlp_regressor_complex2 = MLPRegressor(solver='lbfgs', alpha=1e-5, activation='relu',\n",
        "                                       hidden_layer_sizes=(30,30,30,30,30), random_state=1)\n",
        "mlp_regressor_complex2.fit(X_train, y_train)\n"
      ],
      "execution_count": null,
      "outputs": [
        {
          "output_type": "stream",
          "name": "stderr",
          "text": [
            "/usr/local/lib/python3.7/dist-packages/sklearn/neural_network/_multilayer_perceptron.py:470: ConvergenceWarning: lbfgs failed to converge (status=1):\n",
            "STOP: TOTAL NO. of ITERATIONS REACHED LIMIT.\n",
            "\n",
            "Increase the number of iterations (max_iter) or scale the data as shown in:\n",
            "    https://scikit-learn.org/stable/modules/preprocessing.html\n",
            "  self.n_iter_ = _check_optimize_result(\"lbfgs\", opt_res, self.max_iter)\n"
          ]
        },
        {
          "output_type": "execute_result",
          "data": {
            "text/plain": [
              "MLPRegressor(activation='relu', alpha=1e-05, batch_size='auto', beta_1=0.9,\n",
              "             beta_2=0.999, early_stopping=False, epsilon=1e-08,\n",
              "             hidden_layer_sizes=(30, 30, 30, 30, 30), learning_rate='constant',\n",
              "             learning_rate_init=0.001, max_fun=15000, max_iter=200,\n",
              "             momentum=0.9, n_iter_no_change=10, nesterovs_momentum=True,\n",
              "             power_t=0.5, random_state=1, shuffle=True, solver='lbfgs',\n",
              "             tol=0.0001, validation_fraction=0.1, verbose=False,\n",
              "             warm_start=False)"
            ]
          },
          "metadata": {},
          "execution_count": 19
        }
      ]
    },
    {
      "cell_type": "code",
      "metadata": {
        "colab": {
          "base_uri": "https://localhost:8080/"
        },
        "id": "PqQkDMpruo8V",
        "outputId": "49d7203a-76bb-471a-e0fb-fe8385c89b39"
      },
      "source": [
        "mlp_regressor_simple.fit(X_train, y_train)\n",
        "mlp_regressor_complex.fit(X_train, y_train)\n",
        "mlp_regressor_complex2.fit(X_train, y_train)\n",
        "mlp_regressor_complex3.fit(X_train, y_train)\n",
        "mlp_regressor_complex4.fit(X_train, y_train)"
      ],
      "execution_count": null,
      "outputs": [
        {
          "name": "stderr",
          "output_type": "stream",
          "text": [
            "/usr/local/lib/python3.7/dist-packages/sklearn/neural_network/_multilayer_perceptron.py:470: ConvergenceWarning: lbfgs failed to converge (status=1):\n",
            "STOP: TOTAL NO. of ITERATIONS REACHED LIMIT.\n",
            "\n",
            "Increase the number of iterations (max_iter) or scale the data as shown in:\n",
            "    https://scikit-learn.org/stable/modules/preprocessing.html\n",
            "  self.n_iter_ = _check_optimize_result(\"lbfgs\", opt_res, self.max_iter)\n",
            "/usr/local/lib/python3.7/dist-packages/sklearn/neural_network/_multilayer_perceptron.py:470: ConvergenceWarning: lbfgs failed to converge (status=1):\n",
            "STOP: TOTAL NO. of ITERATIONS REACHED LIMIT.\n",
            "\n",
            "Increase the number of iterations (max_iter) or scale the data as shown in:\n",
            "    https://scikit-learn.org/stable/modules/preprocessing.html\n",
            "  self.n_iter_ = _check_optimize_result(\"lbfgs\", opt_res, self.max_iter)\n",
            "/usr/local/lib/python3.7/dist-packages/sklearn/neural_network/_multilayer_perceptron.py:470: ConvergenceWarning: lbfgs failed to converge (status=1):\n",
            "STOP: TOTAL NO. of ITERATIONS REACHED LIMIT.\n",
            "\n",
            "Increase the number of iterations (max_iter) or scale the data as shown in:\n",
            "    https://scikit-learn.org/stable/modules/preprocessing.html\n",
            "  self.n_iter_ = _check_optimize_result(\"lbfgs\", opt_res, self.max_iter)\n",
            "/usr/local/lib/python3.7/dist-packages/sklearn/neural_network/_multilayer_perceptron.py:470: ConvergenceWarning: lbfgs failed to converge (status=1):\n",
            "STOP: TOTAL NO. of ITERATIONS REACHED LIMIT.\n",
            "\n",
            "Increase the number of iterations (max_iter) or scale the data as shown in:\n",
            "    https://scikit-learn.org/stable/modules/preprocessing.html\n",
            "  self.n_iter_ = _check_optimize_result(\"lbfgs\", opt_res, self.max_iter)\n",
            "/usr/local/lib/python3.7/dist-packages/sklearn/neural_network/_multilayer_perceptron.py:470: ConvergenceWarning: lbfgs failed to converge (status=1):\n",
            "STOP: TOTAL NO. of ITERATIONS REACHED LIMIT.\n",
            "\n",
            "Increase the number of iterations (max_iter) or scale the data as shown in:\n",
            "    https://scikit-learn.org/stable/modules/preprocessing.html\n",
            "  self.n_iter_ = _check_optimize_result(\"lbfgs\", opt_res, self.max_iter)\n"
          ]
        },
        {
          "data": {
            "text/plain": [
              "MLPRegressor(activation='relu', alpha=1e-05, batch_size='auto', beta_1=0.9,\n",
              "             beta_2=0.999, early_stopping=False, epsilon=1e-08,\n",
              "             hidden_layer_sizes=(30, 60, 60, 30), learning_rate='constant',\n",
              "             learning_rate_init=0.001, max_fun=15000, max_iter=200,\n",
              "             momentum=0.9, n_iter_no_change=10, nesterovs_momentum=True,\n",
              "             power_t=0.5, random_state=1, shuffle=True, solver='lbfgs',\n",
              "             tol=0.0001, validation_fraction=0.1, verbose=False,\n",
              "             warm_start=False)"
            ]
          },
          "execution_count": 48,
          "metadata": {},
          "output_type": "execute_result"
        }
      ]
    },
    {
      "cell_type": "code",
      "metadata": {
        "colab": {
          "base_uri": "https://localhost:8080/"
        },
        "id": "3x3o_COAuo8W",
        "outputId": "f88192da-abc2-4d80-d3b1-c69ba9d607df"
      },
      "source": [
        "print('MSE MLP una capa: {}'.format(mean_squared_error(mlp_regressor_simple.predict(X_test), y_test)))\n",
        "print('MSE MLP dos capas: {}'.format(mean_squared_error(mlp_regressor_complex.predict(X_test), y_test)))\n",
        "print('MSE MLP multiples capas: {}'.format(mean_squared_error(mlp_regressor_complex2.predict(X_test), y_test)))\n",
        "print('MSE MLP multiples capas: {}'.format(mean_squared_error(mlp_regressor_complex3.predict(X_test), y_test)))\n",
        "print('MSE MLP multiples capas: {}'.format(mean_squared_error(mlp_regressor_complex4.predict(X_test), y_test)))"
      ],
      "execution_count": null,
      "outputs": [
        {
          "name": "stdout",
          "output_type": "stream",
          "text": [
            "MSE MLP una capa: 1891.4755847484362\n",
            "MSE MLP dos capas: 1889.4740698494647\n",
            "MSE MLP multiples capas: 1887.9209572108896\n",
            "MSE MLP multiples capas: 1889.8443516740272\n",
            "MSE MLP multiples capas: 1889.578978308276\n"
          ]
        }
      ]
    },
    {
      "cell_type": "code",
      "metadata": {
        "colab": {
          "base_uri": "https://localhost:8080/"
        },
        "id": "W8JPWkX_uo8W",
        "outputId": "16dfec32-de1e-48a4-90dd-6d0b02df0adb"
      },
      "source": [
        "mlp_regressor_simple2 = MLPRegressor(solver='lbfgs', alpha=1e-5, activation='tanh',\n",
        "                                       hidden_layer_sizes=(30,30,30,30,30), random_state=1)\n",
        "mlp_regressor_simple2.fit(X_train, y_train)\n",
        "print('MSE MLP una capa: {}'.format(mean_squared_error(mlp_regressor_simple2.predict(X_test), y_test)))\n",
        "#activation{‘identity’, ‘logistic’, ‘tanh’, ‘relu’}, default=’relu’"
      ],
      "execution_count": null,
      "outputs": [
        {
          "name": "stdout",
          "output_type": "stream",
          "text": [
            "MSE MLP una capa: 2508.438331475843\n"
          ]
        }
      ]
    },
    {
      "cell_type": "code",
      "metadata": {
        "colab": {
          "base_uri": "https://localhost:8080/"
        },
        "id": "t_1FDjXxuo8W",
        "outputId": "48395b65-379f-48db-c1c8-4f1e177d6b1f"
      },
      "source": [
        "mlp_regressor_simple2 = MLPRegressor(solver='lbfgs', alpha=1e-5, activation='logistic',\n",
        "                                       hidden_layer_sizes=(30,30,30,30,30), random_state=1)\n",
        "mlp_regressor_simple2.fit(X_train, y_train)\n",
        "print('MSE MLP una capa: {}'.format(mean_squared_error(mlp_regressor_simple2.predict(X_test), y_test)))"
      ],
      "execution_count": null,
      "outputs": [
        {
          "name": "stderr",
          "output_type": "stream",
          "text": [
            "/usr/local/lib/python3.7/dist-packages/sklearn/neural_network/_multilayer_perceptron.py:470: ConvergenceWarning: lbfgs failed to converge (status=1):\n",
            "STOP: TOTAL NO. of ITERATIONS REACHED LIMIT.\n",
            "\n",
            "Increase the number of iterations (max_iter) or scale the data as shown in:\n",
            "    https://scikit-learn.org/stable/modules/preprocessing.html\n",
            "  self.n_iter_ = _check_optimize_result(\"lbfgs\", opt_res, self.max_iter)\n"
          ]
        },
        {
          "name": "stdout",
          "output_type": "stream",
          "text": [
            "MSE MLP una capa: 1890.6163554383807\n"
          ]
        }
      ]
    },
    {
      "cell_type": "code",
      "metadata": {
        "colab": {
          "background_save": true
        },
        "id": "bIdcs-dFAKUQ",
        "outputId": "a06a2966-c4f4-4fd5-d15a-14fb73a3af94"
      },
      "source": [
        "mlp_regressor_simple2 = MLPRegressor(solver='lbfgs', alpha=1e-5, activation='identity',\n",
        "                                       hidden_layer_sizes=(30,30,30,30,30), random_state=1)\n",
        "mlp_regressor_simple2.fit(X_train, y_train)\n",
        "print('MSE MLP una capa: {}'.format(mean_squared_error(mlp_regressor_simple2.predict(X_test), y_test)))"
      ],
      "execution_count": null,
      "outputs": [
        {
          "name": "stdout",
          "output_type": "stream",
          "text": [
            "MSE MLP una capa: 1959.6690361257188\n"
          ]
        }
      ]
    },
    {
      "cell_type": "code",
      "metadata": {
        "colab": {
          "base_uri": "https://localhost:8080/",
          "height": 466
        },
        "id": "4dQW_jAeAKRN",
        "outputId": "aae5330e-1faf-45bc-f986-e314859213da"
      },
      "source": [
        "mlp_regressor_simple2 = MLPRegressor(solver='sgd', alpha=1e-5, activation='relu',\n",
        "                                       hidden_layer_sizes=(30,30,30,30,30), random_state=1)\n",
        "mlp_regressor_simple2.fit(X_train, y_train)\n",
        "print('MSE MLP una capa: {}'.format(mean_squared_error(mlp_regressor_simple2.predict(X_test), y_test)))\n",
        "#activation{‘identity’, ‘logistic’, ‘tanh’, ‘relu’}, default=’relu’"
      ],
      "execution_count": null,
      "outputs": [
        {
          "output_type": "stream",
          "name": "stderr",
          "text": [
            "/usr/local/lib/python3.7/dist-packages/sklearn/utils/extmath.py:151: RuntimeWarning: overflow encountered in matmul\n",
            "  ret = a @ b\n",
            "/usr/local/lib/python3.7/dist-packages/sklearn/utils/extmath.py:151: RuntimeWarning: invalid value encountered in matmul\n",
            "  ret = a @ b\n",
            "/usr/local/lib/python3.7/dist-packages/sklearn/neural_network/_multilayer_perceptron.py:571: ConvergenceWarning: Stochastic Optimizer: Maximum iterations (200) reached and the optimization hasn't converged yet.\n",
            "  % self.max_iter, ConvergenceWarning)\n"
          ]
        },
        {
          "output_type": "error",
          "ename": "ValueError",
          "evalue": "ignored",
          "traceback": [
            "\u001b[0;31m---------------------------------------------------------------------------\u001b[0m",
            "\u001b[0;31mValueError\u001b[0m                                Traceback (most recent call last)",
            "\u001b[0;32m<ipython-input-14-7aac16106cfc>\u001b[0m in \u001b[0;36m<module>\u001b[0;34m()\u001b[0m\n\u001b[1;32m      2\u001b[0m                                        hidden_layer_sizes=(30,30,30,30,30), random_state=1)\n\u001b[1;32m      3\u001b[0m \u001b[0mmlp_regressor_simple2\u001b[0m\u001b[0;34m.\u001b[0m\u001b[0mfit\u001b[0m\u001b[0;34m(\u001b[0m\u001b[0mX_train\u001b[0m\u001b[0;34m,\u001b[0m \u001b[0my_train\u001b[0m\u001b[0;34m)\u001b[0m\u001b[0;34m\u001b[0m\u001b[0;34m\u001b[0m\u001b[0m\n\u001b[0;32m----> 4\u001b[0;31m \u001b[0mprint\u001b[0m\u001b[0;34m(\u001b[0m\u001b[0;34m'MSE MLP una capa: {}'\u001b[0m\u001b[0;34m.\u001b[0m\u001b[0mformat\u001b[0m\u001b[0;34m(\u001b[0m\u001b[0mmean_squared_error\u001b[0m\u001b[0;34m(\u001b[0m\u001b[0mmlp_regressor_simple2\u001b[0m\u001b[0;34m.\u001b[0m\u001b[0mpredict\u001b[0m\u001b[0;34m(\u001b[0m\u001b[0mX_test\u001b[0m\u001b[0;34m)\u001b[0m\u001b[0;34m,\u001b[0m \u001b[0my_test\u001b[0m\u001b[0;34m)\u001b[0m\u001b[0;34m)\u001b[0m\u001b[0;34m)\u001b[0m\u001b[0;34m\u001b[0m\u001b[0;34m\u001b[0m\u001b[0m\n\u001b[0m\u001b[1;32m      5\u001b[0m \u001b[0;31m#activation{‘identity’, ‘logistic’, ‘tanh’, ‘relu’}, default=’relu’\u001b[0m\u001b[0;34m\u001b[0m\u001b[0;34m\u001b[0m\u001b[0;34m\u001b[0m\u001b[0m\n",
            "\u001b[0;32m/usr/local/lib/python3.7/dist-packages/sklearn/metrics/_regression.py\u001b[0m in \u001b[0;36mmean_squared_error\u001b[0;34m(y_true, y_pred, sample_weight, multioutput, squared)\u001b[0m\n\u001b[1;32m    250\u001b[0m     \"\"\"\n\u001b[1;32m    251\u001b[0m     y_type, y_true, y_pred, multioutput = _check_reg_targets(\n\u001b[0;32m--> 252\u001b[0;31m         y_true, y_pred, multioutput)\n\u001b[0m\u001b[1;32m    253\u001b[0m     \u001b[0mcheck_consistent_length\u001b[0m\u001b[0;34m(\u001b[0m\u001b[0my_true\u001b[0m\u001b[0;34m,\u001b[0m \u001b[0my_pred\u001b[0m\u001b[0;34m,\u001b[0m \u001b[0msample_weight\u001b[0m\u001b[0;34m)\u001b[0m\u001b[0;34m\u001b[0m\u001b[0;34m\u001b[0m\u001b[0m\n\u001b[1;32m    254\u001b[0m     output_errors = np.average((y_true - y_pred) ** 2, axis=0,\n",
            "\u001b[0;32m/usr/local/lib/python3.7/dist-packages/sklearn/metrics/_regression.py\u001b[0m in \u001b[0;36m_check_reg_targets\u001b[0;34m(y_true, y_pred, multioutput, dtype)\u001b[0m\n\u001b[1;32m     83\u001b[0m     \"\"\"\n\u001b[1;32m     84\u001b[0m     \u001b[0mcheck_consistent_length\u001b[0m\u001b[0;34m(\u001b[0m\u001b[0my_true\u001b[0m\u001b[0;34m,\u001b[0m \u001b[0my_pred\u001b[0m\u001b[0;34m)\u001b[0m\u001b[0;34m\u001b[0m\u001b[0;34m\u001b[0m\u001b[0m\n\u001b[0;32m---> 85\u001b[0;31m     \u001b[0my_true\u001b[0m \u001b[0;34m=\u001b[0m \u001b[0mcheck_array\u001b[0m\u001b[0;34m(\u001b[0m\u001b[0my_true\u001b[0m\u001b[0;34m,\u001b[0m \u001b[0mensure_2d\u001b[0m\u001b[0;34m=\u001b[0m\u001b[0;32mFalse\u001b[0m\u001b[0;34m,\u001b[0m \u001b[0mdtype\u001b[0m\u001b[0;34m=\u001b[0m\u001b[0mdtype\u001b[0m\u001b[0;34m)\u001b[0m\u001b[0;34m\u001b[0m\u001b[0;34m\u001b[0m\u001b[0m\n\u001b[0m\u001b[1;32m     86\u001b[0m     \u001b[0my_pred\u001b[0m \u001b[0;34m=\u001b[0m \u001b[0mcheck_array\u001b[0m\u001b[0;34m(\u001b[0m\u001b[0my_pred\u001b[0m\u001b[0;34m,\u001b[0m \u001b[0mensure_2d\u001b[0m\u001b[0;34m=\u001b[0m\u001b[0;32mFalse\u001b[0m\u001b[0;34m,\u001b[0m \u001b[0mdtype\u001b[0m\u001b[0;34m=\u001b[0m\u001b[0mdtype\u001b[0m\u001b[0;34m)\u001b[0m\u001b[0;34m\u001b[0m\u001b[0;34m\u001b[0m\u001b[0m\n\u001b[1;32m     87\u001b[0m \u001b[0;34m\u001b[0m\u001b[0m\n",
            "\u001b[0;32m/usr/local/lib/python3.7/dist-packages/sklearn/utils/validation.py\u001b[0m in \u001b[0;36mcheck_array\u001b[0;34m(array, accept_sparse, accept_large_sparse, dtype, order, copy, force_all_finite, ensure_2d, allow_nd, ensure_min_samples, ensure_min_features, warn_on_dtype, estimator)\u001b[0m\n\u001b[1;32m    576\u001b[0m         \u001b[0;32mif\u001b[0m \u001b[0mforce_all_finite\u001b[0m\u001b[0;34m:\u001b[0m\u001b[0;34m\u001b[0m\u001b[0;34m\u001b[0m\u001b[0m\n\u001b[1;32m    577\u001b[0m             _assert_all_finite(array,\n\u001b[0;32m--> 578\u001b[0;31m                                allow_nan=force_all_finite == 'allow-nan')\n\u001b[0m\u001b[1;32m    579\u001b[0m \u001b[0;34m\u001b[0m\u001b[0m\n\u001b[1;32m    580\u001b[0m     \u001b[0;32mif\u001b[0m \u001b[0mensure_min_samples\u001b[0m \u001b[0;34m>\u001b[0m \u001b[0;36m0\u001b[0m\u001b[0;34m:\u001b[0m\u001b[0;34m\u001b[0m\u001b[0;34m\u001b[0m\u001b[0m\n",
            "\u001b[0;32m/usr/local/lib/python3.7/dist-packages/sklearn/utils/validation.py\u001b[0m in \u001b[0;36m_assert_all_finite\u001b[0;34m(X, allow_nan, msg_dtype)\u001b[0m\n\u001b[1;32m     58\u001b[0m                     \u001b[0mmsg_err\u001b[0m\u001b[0;34m.\u001b[0m\u001b[0mformat\u001b[0m\u001b[0;34m\u001b[0m\u001b[0;34m\u001b[0m\u001b[0m\n\u001b[1;32m     59\u001b[0m                     (type_err,\n\u001b[0;32m---> 60\u001b[0;31m                      msg_dtype if msg_dtype is not None else X.dtype)\n\u001b[0m\u001b[1;32m     61\u001b[0m             )\n\u001b[1;32m     62\u001b[0m     \u001b[0;31m# for object dtype data, we only check for NaNs (GH-13254)\u001b[0m\u001b[0;34m\u001b[0m\u001b[0;34m\u001b[0m\u001b[0;34m\u001b[0m\u001b[0m\n",
            "\u001b[0;31mValueError\u001b[0m: Input contains NaN, infinity or a value too large for dtype('float64')."
          ]
        }
      ]
    },
    {
      "cell_type": "code",
      "metadata": {
        "colab": {
          "base_uri": "https://localhost:8080/"
        },
        "id": "nWRRyJ1RAKPP",
        "outputId": "3747ae0f-3e6a-4ea0-9647-efcbce85a4ce"
      },
      "source": [
        "mlp_regressor_simple2 = MLPRegressor(solver='adam', alpha=1e-5, activation='relu',\n",
        "                                       hidden_layer_sizes=(30,30,30,30,30), random_state=1)\n",
        "mlp_regressor_simple2.fit(X_train, y_train)\n",
        "print('MSE MLP una capa: {}'.format(mean_squared_error(mlp_regressor_simple2.predict(X_test), y_test)))\n",
        "#activation{‘identity’, ‘logistic’, ‘tanh’, ‘relu’}, default=’relu’"
      ],
      "execution_count": null,
      "outputs": [
        {
          "output_type": "stream",
          "name": "stdout",
          "text": [
            "MSE MLP una capa: 1884.8270977996322\n"
          ]
        }
      ]
    },
    {
      "cell_type": "code",
      "metadata": {
        "id": "kcIdOWKtAKHs"
      },
      "source": [
        "mlp_regressor_simple.predict(X_test)"
      ],
      "execution_count": null,
      "outputs": []
    },
    {
      "cell_type": "code",
      "metadata": {
        "colab": {
          "base_uri": "https://localhost:8080/"
        },
        "id": "jcZH-P1xAJ4p",
        "outputId": "c06ceaec-0805-4c68-e043-93bba866622d"
      },
      "source": [
        "y_test"
      ],
      "execution_count": null,
      "outputs": [
        {
          "data": {
            "text/plain": [
              "873505     272\n",
              "1361139    264\n",
              "584835     193\n",
              "1325558    171\n",
              "1514213    260\n",
              "          ... \n",
              "1213597    261\n",
              "84167      342\n",
              "416747     320\n",
              "1469110    261\n",
              "492561     324\n",
              "Name: PUNT_GLOBAL, Length: 492723, dtype: int64"
            ]
          },
          "execution_count": 56,
          "metadata": {},
          "output_type": "execute_result"
        }
      ]
    },
    {
      "cell_type": "code",
      "metadata": {
        "id": "f9mb163nQlLD",
        "colab": {
          "base_uri": "https://localhost:8080/",
          "height": 424
        },
        "outputId": "ead3ed23-0808-4d2e-a8f7-c03ed1c6fc16"
      },
      "source": [
        "variable1=np.array(y_test)\n",
        "variable= pd.DataFrame(variable1,columns=['Datos_Y'])\n",
        "variable['Prediccion']= round(pd.DataFrame(mlp_regressor_complex2.predict(X_test)),0)\n",
        "variable"
      ],
      "execution_count": null,
      "outputs": [
        {
          "output_type": "execute_result",
          "data": {
            "text/html": [
              "<div>\n",
              "<style scoped>\n",
              "    .dataframe tbody tr th:only-of-type {\n",
              "        vertical-align: middle;\n",
              "    }\n",
              "\n",
              "    .dataframe tbody tr th {\n",
              "        vertical-align: top;\n",
              "    }\n",
              "\n",
              "    .dataframe thead th {\n",
              "        text-align: right;\n",
              "    }\n",
              "</style>\n",
              "<table border=\"1\" class=\"dataframe\">\n",
              "  <thead>\n",
              "    <tr style=\"text-align: right;\">\n",
              "      <th></th>\n",
              "      <th>Datos_Y</th>\n",
              "      <th>Prediccion</th>\n",
              "    </tr>\n",
              "  </thead>\n",
              "  <tbody>\n",
              "    <tr>\n",
              "      <th>0</th>\n",
              "      <td>272</td>\n",
              "      <td>268.0</td>\n",
              "    </tr>\n",
              "    <tr>\n",
              "      <th>1</th>\n",
              "      <td>264</td>\n",
              "      <td>256.0</td>\n",
              "    </tr>\n",
              "    <tr>\n",
              "      <th>2</th>\n",
              "      <td>193</td>\n",
              "      <td>238.0</td>\n",
              "    </tr>\n",
              "    <tr>\n",
              "      <th>3</th>\n",
              "      <td>171</td>\n",
              "      <td>202.0</td>\n",
              "    </tr>\n",
              "    <tr>\n",
              "      <th>4</th>\n",
              "      <td>260</td>\n",
              "      <td>249.0</td>\n",
              "    </tr>\n",
              "    <tr>\n",
              "      <th>...</th>\n",
              "      <td>...</td>\n",
              "      <td>...</td>\n",
              "    </tr>\n",
              "    <tr>\n",
              "      <th>492718</th>\n",
              "      <td>261</td>\n",
              "      <td>272.0</td>\n",
              "    </tr>\n",
              "    <tr>\n",
              "      <th>492719</th>\n",
              "      <td>342</td>\n",
              "      <td>304.0</td>\n",
              "    </tr>\n",
              "    <tr>\n",
              "      <th>492720</th>\n",
              "      <td>320</td>\n",
              "      <td>247.0</td>\n",
              "    </tr>\n",
              "    <tr>\n",
              "      <th>492721</th>\n",
              "      <td>261</td>\n",
              "      <td>234.0</td>\n",
              "    </tr>\n",
              "    <tr>\n",
              "      <th>492722</th>\n",
              "      <td>324</td>\n",
              "      <td>265.0</td>\n",
              "    </tr>\n",
              "  </tbody>\n",
              "</table>\n",
              "<p>492723 rows × 2 columns</p>\n",
              "</div>"
            ],
            "text/plain": [
              "        Datos_Y  Prediccion\n",
              "0           272       268.0\n",
              "1           264       256.0\n",
              "2           193       238.0\n",
              "3           171       202.0\n",
              "4           260       249.0\n",
              "...         ...         ...\n",
              "492718      261       272.0\n",
              "492719      342       304.0\n",
              "492720      320       247.0\n",
              "492721      261       234.0\n",
              "492722      324       265.0\n",
              "\n",
              "[492723 rows x 2 columns]"
            ]
          },
          "metadata": {},
          "execution_count": 20
        }
      ]
    },
    {
      "cell_type": "code",
      "metadata": {
        "id": "5DjWt-kLZuoP",
        "colab": {
          "base_uri": "https://localhost:8080/",
          "height": 362
        },
        "outputId": "d7a68334-9168-494d-888e-55e260be6733"
      },
      "source": [
        "datos_pos_covid.drop('ANO', inplace=True, axis=1)\n",
        "y_post_covid=datos_pos_covid['PUNT_GLOBAL']\n",
        "datos_pos_covid.drop('PUNT_GLOBAL', inplace=True, axis=1)\n",
        "X_post_covid=datos_pos_covid"
      ],
      "execution_count": null,
      "outputs": [
        {
          "output_type": "error",
          "ename": "KeyError",
          "evalue": "ignored",
          "traceback": [
            "\u001b[0;31m---------------------------------------------------------------------------\u001b[0m",
            "\u001b[0;31mKeyError\u001b[0m                                  Traceback (most recent call last)",
            "\u001b[0;32m<ipython-input-21-52acf1b0df7b>\u001b[0m in \u001b[0;36m<module>\u001b[0;34m()\u001b[0m\n\u001b[0;32m----> 1\u001b[0;31m \u001b[0mdatos_pos_covid\u001b[0m\u001b[0;34m.\u001b[0m\u001b[0mdrop\u001b[0m\u001b[0;34m(\u001b[0m\u001b[0;34m'ANO'\u001b[0m\u001b[0;34m,\u001b[0m \u001b[0minplace\u001b[0m\u001b[0;34m=\u001b[0m\u001b[0;32mTrue\u001b[0m\u001b[0;34m,\u001b[0m \u001b[0maxis\u001b[0m\u001b[0;34m=\u001b[0m\u001b[0;36m1\u001b[0m\u001b[0;34m)\u001b[0m\u001b[0;34m\u001b[0m\u001b[0;34m\u001b[0m\u001b[0m\n\u001b[0m\u001b[1;32m      2\u001b[0m \u001b[0my_post_covid\u001b[0m\u001b[0;34m=\u001b[0m\u001b[0mdatos_pos_covid\u001b[0m\u001b[0;34m[\u001b[0m\u001b[0;34m'PUNT_GLOBAL'\u001b[0m\u001b[0;34m]\u001b[0m\u001b[0;34m\u001b[0m\u001b[0;34m\u001b[0m\u001b[0m\n\u001b[1;32m      3\u001b[0m \u001b[0mdatos_pos_covid\u001b[0m\u001b[0;34m.\u001b[0m\u001b[0mdrop\u001b[0m\u001b[0;34m(\u001b[0m\u001b[0;34m'PUNT_GLOBAL'\u001b[0m\u001b[0;34m,\u001b[0m \u001b[0minplace\u001b[0m\u001b[0;34m=\u001b[0m\u001b[0;32mTrue\u001b[0m\u001b[0;34m,\u001b[0m \u001b[0maxis\u001b[0m\u001b[0;34m=\u001b[0m\u001b[0;36m1\u001b[0m\u001b[0;34m)\u001b[0m\u001b[0;34m\u001b[0m\u001b[0;34m\u001b[0m\u001b[0m\n\u001b[1;32m      4\u001b[0m \u001b[0mX_post_covid\u001b[0m\u001b[0;34m=\u001b[0m\u001b[0mdatos_pos_covid\u001b[0m\u001b[0;34m\u001b[0m\u001b[0;34m\u001b[0m\u001b[0m\n",
            "\u001b[0;32m/usr/local/lib/python3.7/dist-packages/pandas/core/frame.py\u001b[0m in \u001b[0;36mdrop\u001b[0;34m(self, labels, axis, index, columns, level, inplace, errors)\u001b[0m\n\u001b[1;32m   4172\u001b[0m             \u001b[0mlevel\u001b[0m\u001b[0;34m=\u001b[0m\u001b[0mlevel\u001b[0m\u001b[0;34m,\u001b[0m\u001b[0;34m\u001b[0m\u001b[0;34m\u001b[0m\u001b[0m\n\u001b[1;32m   4173\u001b[0m             \u001b[0minplace\u001b[0m\u001b[0;34m=\u001b[0m\u001b[0minplace\u001b[0m\u001b[0;34m,\u001b[0m\u001b[0;34m\u001b[0m\u001b[0;34m\u001b[0m\u001b[0m\n\u001b[0;32m-> 4174\u001b[0;31m             \u001b[0merrors\u001b[0m\u001b[0;34m=\u001b[0m\u001b[0merrors\u001b[0m\u001b[0;34m,\u001b[0m\u001b[0;34m\u001b[0m\u001b[0;34m\u001b[0m\u001b[0m\n\u001b[0m\u001b[1;32m   4175\u001b[0m         )\n\u001b[1;32m   4176\u001b[0m \u001b[0;34m\u001b[0m\u001b[0m\n",
            "\u001b[0;32m/usr/local/lib/python3.7/dist-packages/pandas/core/generic.py\u001b[0m in \u001b[0;36mdrop\u001b[0;34m(self, labels, axis, index, columns, level, inplace, errors)\u001b[0m\n\u001b[1;32m   3887\u001b[0m         \u001b[0;32mfor\u001b[0m \u001b[0maxis\u001b[0m\u001b[0;34m,\u001b[0m \u001b[0mlabels\u001b[0m \u001b[0;32min\u001b[0m \u001b[0maxes\u001b[0m\u001b[0;34m.\u001b[0m\u001b[0mitems\u001b[0m\u001b[0;34m(\u001b[0m\u001b[0;34m)\u001b[0m\u001b[0;34m:\u001b[0m\u001b[0;34m\u001b[0m\u001b[0;34m\u001b[0m\u001b[0m\n\u001b[1;32m   3888\u001b[0m             \u001b[0;32mif\u001b[0m \u001b[0mlabels\u001b[0m \u001b[0;32mis\u001b[0m \u001b[0;32mnot\u001b[0m \u001b[0;32mNone\u001b[0m\u001b[0;34m:\u001b[0m\u001b[0;34m\u001b[0m\u001b[0;34m\u001b[0m\u001b[0m\n\u001b[0;32m-> 3889\u001b[0;31m                 \u001b[0mobj\u001b[0m \u001b[0;34m=\u001b[0m \u001b[0mobj\u001b[0m\u001b[0;34m.\u001b[0m\u001b[0m_drop_axis\u001b[0m\u001b[0;34m(\u001b[0m\u001b[0mlabels\u001b[0m\u001b[0;34m,\u001b[0m \u001b[0maxis\u001b[0m\u001b[0;34m,\u001b[0m \u001b[0mlevel\u001b[0m\u001b[0;34m=\u001b[0m\u001b[0mlevel\u001b[0m\u001b[0;34m,\u001b[0m \u001b[0merrors\u001b[0m\u001b[0;34m=\u001b[0m\u001b[0merrors\u001b[0m\u001b[0;34m)\u001b[0m\u001b[0;34m\u001b[0m\u001b[0;34m\u001b[0m\u001b[0m\n\u001b[0m\u001b[1;32m   3890\u001b[0m \u001b[0;34m\u001b[0m\u001b[0m\n\u001b[1;32m   3891\u001b[0m         \u001b[0;32mif\u001b[0m \u001b[0minplace\u001b[0m\u001b[0;34m:\u001b[0m\u001b[0;34m\u001b[0m\u001b[0;34m\u001b[0m\u001b[0m\n",
            "\u001b[0;32m/usr/local/lib/python3.7/dist-packages/pandas/core/generic.py\u001b[0m in \u001b[0;36m_drop_axis\u001b[0;34m(self, labels, axis, level, errors)\u001b[0m\n\u001b[1;32m   3921\u001b[0m                 \u001b[0mnew_axis\u001b[0m \u001b[0;34m=\u001b[0m \u001b[0maxis\u001b[0m\u001b[0;34m.\u001b[0m\u001b[0mdrop\u001b[0m\u001b[0;34m(\u001b[0m\u001b[0mlabels\u001b[0m\u001b[0;34m,\u001b[0m \u001b[0mlevel\u001b[0m\u001b[0;34m=\u001b[0m\u001b[0mlevel\u001b[0m\u001b[0;34m,\u001b[0m \u001b[0merrors\u001b[0m\u001b[0;34m=\u001b[0m\u001b[0merrors\u001b[0m\u001b[0;34m)\u001b[0m\u001b[0;34m\u001b[0m\u001b[0;34m\u001b[0m\u001b[0m\n\u001b[1;32m   3922\u001b[0m             \u001b[0;32melse\u001b[0m\u001b[0;34m:\u001b[0m\u001b[0;34m\u001b[0m\u001b[0;34m\u001b[0m\u001b[0m\n\u001b[0;32m-> 3923\u001b[0;31m                 \u001b[0mnew_axis\u001b[0m \u001b[0;34m=\u001b[0m \u001b[0maxis\u001b[0m\u001b[0;34m.\u001b[0m\u001b[0mdrop\u001b[0m\u001b[0;34m(\u001b[0m\u001b[0mlabels\u001b[0m\u001b[0;34m,\u001b[0m \u001b[0merrors\u001b[0m\u001b[0;34m=\u001b[0m\u001b[0merrors\u001b[0m\u001b[0;34m)\u001b[0m\u001b[0;34m\u001b[0m\u001b[0;34m\u001b[0m\u001b[0m\n\u001b[0m\u001b[1;32m   3924\u001b[0m             \u001b[0mresult\u001b[0m \u001b[0;34m=\u001b[0m \u001b[0mself\u001b[0m\u001b[0;34m.\u001b[0m\u001b[0mreindex\u001b[0m\u001b[0;34m(\u001b[0m\u001b[0;34m**\u001b[0m\u001b[0;34m{\u001b[0m\u001b[0maxis_name\u001b[0m\u001b[0;34m:\u001b[0m \u001b[0mnew_axis\u001b[0m\u001b[0;34m}\u001b[0m\u001b[0;34m)\u001b[0m\u001b[0;34m\u001b[0m\u001b[0;34m\u001b[0m\u001b[0m\n\u001b[1;32m   3925\u001b[0m \u001b[0;34m\u001b[0m\u001b[0m\n",
            "\u001b[0;32m/usr/local/lib/python3.7/dist-packages/pandas/core/indexes/base.py\u001b[0m in \u001b[0;36mdrop\u001b[0;34m(self, labels, errors)\u001b[0m\n\u001b[1;32m   5285\u001b[0m         \u001b[0;32mif\u001b[0m \u001b[0mmask\u001b[0m\u001b[0;34m.\u001b[0m\u001b[0many\u001b[0m\u001b[0;34m(\u001b[0m\u001b[0;34m)\u001b[0m\u001b[0;34m:\u001b[0m\u001b[0;34m\u001b[0m\u001b[0;34m\u001b[0m\u001b[0m\n\u001b[1;32m   5286\u001b[0m             \u001b[0;32mif\u001b[0m \u001b[0merrors\u001b[0m \u001b[0;34m!=\u001b[0m \u001b[0;34m\"ignore\"\u001b[0m\u001b[0;34m:\u001b[0m\u001b[0;34m\u001b[0m\u001b[0;34m\u001b[0m\u001b[0m\n\u001b[0;32m-> 5287\u001b[0;31m                 \u001b[0;32mraise\u001b[0m \u001b[0mKeyError\u001b[0m\u001b[0;34m(\u001b[0m\u001b[0;34mf\"{labels[mask]} not found in axis\"\u001b[0m\u001b[0;34m)\u001b[0m\u001b[0;34m\u001b[0m\u001b[0;34m\u001b[0m\u001b[0m\n\u001b[0m\u001b[1;32m   5288\u001b[0m             \u001b[0mindexer\u001b[0m \u001b[0;34m=\u001b[0m \u001b[0mindexer\u001b[0m\u001b[0;34m[\u001b[0m\u001b[0;34m~\u001b[0m\u001b[0mmask\u001b[0m\u001b[0;34m]\u001b[0m\u001b[0;34m\u001b[0m\u001b[0;34m\u001b[0m\u001b[0m\n\u001b[1;32m   5289\u001b[0m         \u001b[0;32mreturn\u001b[0m \u001b[0mself\u001b[0m\u001b[0;34m.\u001b[0m\u001b[0mdelete\u001b[0m\u001b[0;34m(\u001b[0m\u001b[0mindexer\u001b[0m\u001b[0;34m)\u001b[0m\u001b[0;34m\u001b[0m\u001b[0;34m\u001b[0m\u001b[0m\n",
            "\u001b[0;31mKeyError\u001b[0m: \"['ANO'] not found in axis\""
          ]
        }
      ]
    },
    {
      "cell_type": "code",
      "metadata": {
        "colab": {
          "base_uri": "https://localhost:8080/"
        },
        "id": "5w_qPXr9ZulI",
        "outputId": "8e6e7086-2671-47a7-fdd2-68996e655776"
      },
      "source": [
        "print('MSE MLP dos capas: {}'.format(mean_squared_error(mlp_regressor_complex2.predict(X_post_covid), y_post_covid)))"
      ],
      "execution_count": null,
      "outputs": [
        {
          "output_type": "stream",
          "name": "stdout",
          "text": [
            "MSE MLP dos capas: 1808.137748805249\n"
          ]
        }
      ]
    },
    {
      "cell_type": "code",
      "metadata": {
        "colab": {
          "base_uri": "https://localhost:8080/",
          "height": 424
        },
        "id": "Iy6j49BCZuhy",
        "outputId": "0c7a5bed-8e15-46d7-b9a8-de72d08936cd"
      },
      "source": [
        "variable2=np.array(y_post_covid)\n",
        "variable5= pd.DataFrame(variable2,columns=['Datos_Y'])\n",
        "variable5['Prediccion']= round(pd.DataFrame(mlp_regressor_complex2.predict(X_post_covid)),0)\n",
        "variable5"
      ],
      "execution_count": null,
      "outputs": [
        {
          "output_type": "execute_result",
          "data": {
            "text/html": [
              "<div>\n",
              "<style scoped>\n",
              "    .dataframe tbody tr th:only-of-type {\n",
              "        vertical-align: middle;\n",
              "    }\n",
              "\n",
              "    .dataframe tbody tr th {\n",
              "        vertical-align: top;\n",
              "    }\n",
              "\n",
              "    .dataframe thead th {\n",
              "        text-align: right;\n",
              "    }\n",
              "</style>\n",
              "<table border=\"1\" class=\"dataframe\">\n",
              "  <thead>\n",
              "    <tr style=\"text-align: right;\">\n",
              "      <th></th>\n",
              "      <th>Datos_Y</th>\n",
              "      <th>Prediccion</th>\n",
              "    </tr>\n",
              "  </thead>\n",
              "  <tbody>\n",
              "    <tr>\n",
              "      <th>0</th>\n",
              "      <td>261</td>\n",
              "      <td>283.0</td>\n",
              "    </tr>\n",
              "    <tr>\n",
              "      <th>1</th>\n",
              "      <td>306</td>\n",
              "      <td>332.0</td>\n",
              "    </tr>\n",
              "    <tr>\n",
              "      <th>2</th>\n",
              "      <td>321</td>\n",
              "      <td>248.0</td>\n",
              "    </tr>\n",
              "    <tr>\n",
              "      <th>3</th>\n",
              "      <td>338</td>\n",
              "      <td>322.0</td>\n",
              "    </tr>\n",
              "    <tr>\n",
              "      <th>4</th>\n",
              "      <td>225</td>\n",
              "      <td>235.0</td>\n",
              "    </tr>\n",
              "    <tr>\n",
              "      <th>...</th>\n",
              "      <td>...</td>\n",
              "      <td>...</td>\n",
              "    </tr>\n",
              "    <tr>\n",
              "      <th>504867</th>\n",
              "      <td>234</td>\n",
              "      <td>258.0</td>\n",
              "    </tr>\n",
              "    <tr>\n",
              "      <th>504868</th>\n",
              "      <td>198</td>\n",
              "      <td>240.0</td>\n",
              "    </tr>\n",
              "    <tr>\n",
              "      <th>504869</th>\n",
              "      <td>164</td>\n",
              "      <td>237.0</td>\n",
              "    </tr>\n",
              "    <tr>\n",
              "      <th>504870</th>\n",
              "      <td>173</td>\n",
              "      <td>238.0</td>\n",
              "    </tr>\n",
              "    <tr>\n",
              "      <th>504871</th>\n",
              "      <td>250</td>\n",
              "      <td>240.0</td>\n",
              "    </tr>\n",
              "  </tbody>\n",
              "</table>\n",
              "<p>504872 rows × 2 columns</p>\n",
              "</div>"
            ],
            "text/plain": [
              "        Datos_Y  Prediccion\n",
              "0           261       283.0\n",
              "1           306       332.0\n",
              "2           321       248.0\n",
              "3           338       322.0\n",
              "4           225       235.0\n",
              "...         ...         ...\n",
              "504867      234       258.0\n",
              "504868      198       240.0\n",
              "504869      164       237.0\n",
              "504870      173       238.0\n",
              "504871      250       240.0\n",
              "\n",
              "[504872 rows x 2 columns]"
            ]
          },
          "metadata": {},
          "execution_count": 23
        }
      ]
    },
    {
      "cell_type": "code",
      "metadata": {
        "id": "bAnln1zwZue1",
        "colab": {
          "base_uri": "https://localhost:8080/",
          "height": 278
        },
        "outputId": "28ad085c-eecb-4fd3-a228-fd307b025b5a"
      },
      "source": [
        "import matplotlib.pyplot as plt\n",
        "plt.scatter(variable5['Datos_Y'], variable5['Prediccion'], color = 'hotpink')\n",
        "plt.xlabel(\"Observado\")\n",
        "plt.ylabel(\"Predicho\");"
      ],
      "execution_count": null,
      "outputs": [
        {
          "output_type": "display_data",
          "data": {
            "image/png": "[encoded data removed]",
            "text/plain": [
              "<Figure size 432x288 with 1 Axes>"
            ]
          },
          "metadata": {
            "needs_background": "light"
          }
        }
      ]
    },
    {
      "cell_type": "code",
      "metadata": {
        "id": "oYdL2Q3eZucA"
      },
      "source": [
        ""
      ],
      "execution_count": null,
      "outputs": []
    },
    {
      "cell_type": "code",
      "metadata": {
        "id": "OO38kfvWZuY_"
      },
      "source": [
        ""
      ],
      "execution_count": null,
      "outputs": []
    }
  ]
}