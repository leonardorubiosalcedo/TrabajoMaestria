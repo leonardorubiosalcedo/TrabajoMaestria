{
 "cells": [
  {
   "cell_type": "code",
   "execution_count": 1,
   "metadata": {},
   "outputs": [],
   "source": [
    "import pandas as pd\n",
    "import matplotlib.pyplot as plt\n",
    "import numpy as np"
   ]
  },
  {
   "cell_type": "code",
   "execution_count": 2,
   "metadata": {},
   "outputs": [],
   "source": [
    "def generar_ano(campo):\n",
    "    campo=str(campo)\n",
    "    valor=campo[0:-1]\n",
    "    return int(valor)\n",
    "def generar_semestre(campo):\n",
    "    campo=str(campo)\n",
    "    valor=campo[4:5]\n",
    "    return int(valor)"
   ]
  },
  {
   "cell_type": "code",
   "execution_count": 3,
   "metadata": {},
   "outputs": [],
   "source": [
    "datos=pd.read_excel(\"D:/Universidad/Maestria/Tesis/DATOS/Data_Agrupada_depurada/datos_planteles_agrupada_final.xlsx\")"
   ]
  },
  {
   "cell_type": "code",
   "execution_count": 4,
   "metadata": {},
   "outputs": [
    {
     "data": {
      "text/html": [
       "<div>\n",
       "<style scoped>\n",
       "    .dataframe tbody tr th:only-of-type {\n",
       "        vertical-align: middle;\n",
       "    }\n",
       "\n",
       "    .dataframe tbody tr th {\n",
       "        vertical-align: top;\n",
       "    }\n",
       "\n",
       "    .dataframe thead th {\n",
       "        text-align: right;\n",
       "    }\n",
       "</style>\n",
       "<table border=\"1\" class=\"dataframe\">\n",
       "  <thead>\n",
       "    <tr style=\"text-align: right;\">\n",
       "      <th></th>\n",
       "      <th>CANTIDAD_ESTUDIANTES</th>\n",
       "      <th>COLE_AREA_UBICACION</th>\n",
       "      <th>COLE_BILINGUE</th>\n",
       "      <th>COLE_CALENDARIO</th>\n",
       "      <th>COLE_CARACTER</th>\n",
       "      <th>COLE_COD_DANE_ESTABLECIMIENTO</th>\n",
       "      <th>COLE_COD_DANE_SEDE</th>\n",
       "      <th>COLE_COD_DEPTO_UBICACION</th>\n",
       "      <th>COLE_COD_MCPIO_UBICACION</th>\n",
       "      <th>COLE_DEPTO_UBICACION</th>\n",
       "      <th>...</th>\n",
       "      <th>FAMI_SITUACIONECONOMICA_Mejor</th>\n",
       "      <th>FAMI_SITUACIONECONOMICA_Peor</th>\n",
       "      <th>FAMI_TIENECOMPUTADOR_No</th>\n",
       "      <th>FAMI_TIENECOMPUTADOR_Si</th>\n",
       "      <th>FAMI_TIENEINTERNET_No</th>\n",
       "      <th>FAMI_TIENEINTERNET_Si</th>\n",
       "      <th>PERIODO</th>\n",
       "      <th>PUNT_GLOBAL_mean</th>\n",
       "      <th>PUNT_GLOBAL_median</th>\n",
       "      <th>PUNT_GLOBAL_std</th>\n",
       "    </tr>\n",
       "  </thead>\n",
       "  <tbody>\n",
       "    <tr>\n",
       "      <th>0</th>\n",
       "      <td>1</td>\n",
       "      <td>URBANO</td>\n",
       "      <td>N</td>\n",
       "      <td>A</td>\n",
       "      <td>TÉCNICO/ACADÉMICO</td>\n",
       "      <td>105001000621</td>\n",
       "      <td>105001000621</td>\n",
       "      <td>5</td>\n",
       "      <td>5001</td>\n",
       "      <td>ANTIOQUIA</td>\n",
       "      <td>...</td>\n",
       "      <td>0.0</td>\n",
       "      <td>0.0</td>\n",
       "      <td>0</td>\n",
       "      <td>1</td>\n",
       "      <td>0</td>\n",
       "      <td>0</td>\n",
       "      <td>20211</td>\n",
       "      <td>264.000000</td>\n",
       "      <td>264.0</td>\n",
       "      <td>NaN</td>\n",
       "    </tr>\n",
       "    <tr>\n",
       "      <th>1</th>\n",
       "      <td>1</td>\n",
       "      <td>URBANO</td>\n",
       "      <td>N</td>\n",
       "      <td>A</td>\n",
       "      <td>TÉCNICO/ACADÉMICO</td>\n",
       "      <td>105001000931</td>\n",
       "      <td>105001000931</td>\n",
       "      <td>5</td>\n",
       "      <td>5001</td>\n",
       "      <td>ANTIOQUIA</td>\n",
       "      <td>...</td>\n",
       "      <td>0.0</td>\n",
       "      <td>0.0</td>\n",
       "      <td>0</td>\n",
       "      <td>0</td>\n",
       "      <td>0</td>\n",
       "      <td>0</td>\n",
       "      <td>20211</td>\n",
       "      <td>273.000000</td>\n",
       "      <td>273.0</td>\n",
       "      <td>NaN</td>\n",
       "    </tr>\n",
       "    <tr>\n",
       "      <th>2</th>\n",
       "      <td>1</td>\n",
       "      <td>URBANO</td>\n",
       "      <td>N</td>\n",
       "      <td>A</td>\n",
       "      <td>ACADÉMICO</td>\n",
       "      <td>105001001651</td>\n",
       "      <td>105001001651</td>\n",
       "      <td>5</td>\n",
       "      <td>5001</td>\n",
       "      <td>ANTIOQUIA</td>\n",
       "      <td>...</td>\n",
       "      <td>0.0</td>\n",
       "      <td>0.0</td>\n",
       "      <td>0</td>\n",
       "      <td>1</td>\n",
       "      <td>0</td>\n",
       "      <td>1</td>\n",
       "      <td>20211</td>\n",
       "      <td>332.000000</td>\n",
       "      <td>332.0</td>\n",
       "      <td>NaN</td>\n",
       "    </tr>\n",
       "    <tr>\n",
       "      <th>3</th>\n",
       "      <td>1</td>\n",
       "      <td>URBANO</td>\n",
       "      <td>N</td>\n",
       "      <td>A</td>\n",
       "      <td>ACADÉMICO</td>\n",
       "      <td>105001002020</td>\n",
       "      <td>105001002020</td>\n",
       "      <td>5</td>\n",
       "      <td>5001</td>\n",
       "      <td>ANTIOQUIA</td>\n",
       "      <td>...</td>\n",
       "      <td>0.0</td>\n",
       "      <td>1.0</td>\n",
       "      <td>0</td>\n",
       "      <td>1</td>\n",
       "      <td>0</td>\n",
       "      <td>1</td>\n",
       "      <td>20211</td>\n",
       "      <td>242.000000</td>\n",
       "      <td>242.0</td>\n",
       "      <td>NaN</td>\n",
       "    </tr>\n",
       "    <tr>\n",
       "      <th>4</th>\n",
       "      <td>1</td>\n",
       "      <td>URBANO</td>\n",
       "      <td>S</td>\n",
       "      <td>A</td>\n",
       "      <td>TÉCNICO/ACADÉMICO</td>\n",
       "      <td>105001002488</td>\n",
       "      <td>105001002046</td>\n",
       "      <td>5</td>\n",
       "      <td>5001</td>\n",
       "      <td>ANTIOQUIA</td>\n",
       "      <td>...</td>\n",
       "      <td>0.0</td>\n",
       "      <td>0.0</td>\n",
       "      <td>0</td>\n",
       "      <td>1</td>\n",
       "      <td>0</td>\n",
       "      <td>1</td>\n",
       "      <td>20211</td>\n",
       "      <td>246.000000</td>\n",
       "      <td>246.0</td>\n",
       "      <td>NaN</td>\n",
       "    </tr>\n",
       "    <tr>\n",
       "      <th>...</th>\n",
       "      <td>...</td>\n",
       "      <td>...</td>\n",
       "      <td>...</td>\n",
       "      <td>...</td>\n",
       "      <td>...</td>\n",
       "      <td>...</td>\n",
       "      <td>...</td>\n",
       "      <td>...</td>\n",
       "      <td>...</td>\n",
       "      <td>...</td>\n",
       "      <td>...</td>\n",
       "      <td>...</td>\n",
       "      <td>...</td>\n",
       "      <td>...</td>\n",
       "      <td>...</td>\n",
       "      <td>...</td>\n",
       "      <td>...</td>\n",
       "      <td>...</td>\n",
       "      <td>...</td>\n",
       "      <td>...</td>\n",
       "      <td>...</td>\n",
       "    </tr>\n",
       "    <tr>\n",
       "      <th>41863</th>\n",
       "      <td>112</td>\n",
       "      <td>RURAL</td>\n",
       "      <td>N</td>\n",
       "      <td>B</td>\n",
       "      <td>TÉCNICO/ACADÉMICO</td>\n",
       "      <td>476248000478</td>\n",
       "      <td>476248000478</td>\n",
       "      <td>76</td>\n",
       "      <td>76248</td>\n",
       "      <td>VALLE</td>\n",
       "      <td>...</td>\n",
       "      <td>NaN</td>\n",
       "      <td>NaN</td>\n",
       "      <td>7</td>\n",
       "      <td>105</td>\n",
       "      <td>9</td>\n",
       "      <td>103</td>\n",
       "      <td>20161</td>\n",
       "      <td>281.098214</td>\n",
       "      <td>276.0</td>\n",
       "      <td>46.001559</td>\n",
       "    </tr>\n",
       "    <tr>\n",
       "      <th>41864</th>\n",
       "      <td>20</td>\n",
       "      <td>URBANO</td>\n",
       "      <td>S</td>\n",
       "      <td>B</td>\n",
       "      <td>ACADÉMICO</td>\n",
       "      <td>476520006324</td>\n",
       "      <td>476520006324</td>\n",
       "      <td>76</td>\n",
       "      <td>76520</td>\n",
       "      <td>VALLE</td>\n",
       "      <td>...</td>\n",
       "      <td>NaN</td>\n",
       "      <td>NaN</td>\n",
       "      <td>0</td>\n",
       "      <td>20</td>\n",
       "      <td>0</td>\n",
       "      <td>20</td>\n",
       "      <td>20161</td>\n",
       "      <td>297.450000</td>\n",
       "      <td>292.5</td>\n",
       "      <td>35.704157</td>\n",
       "    </tr>\n",
       "    <tr>\n",
       "      <th>41865</th>\n",
       "      <td>123</td>\n",
       "      <td>URBANO</td>\n",
       "      <td>N</td>\n",
       "      <td>B</td>\n",
       "      <td>TÉCNICO</td>\n",
       "      <td>476520007207</td>\n",
       "      <td>476520007207</td>\n",
       "      <td>76</td>\n",
       "      <td>76520</td>\n",
       "      <td>VALLE</td>\n",
       "      <td>...</td>\n",
       "      <td>NaN</td>\n",
       "      <td>NaN</td>\n",
       "      <td>10</td>\n",
       "      <td>113</td>\n",
       "      <td>8</td>\n",
       "      <td>115</td>\n",
       "      <td>20161</td>\n",
       "      <td>269.276423</td>\n",
       "      <td>272.0</td>\n",
       "      <td>41.181983</td>\n",
       "    </tr>\n",
       "    <tr>\n",
       "      <th>41866</th>\n",
       "      <td>9</td>\n",
       "      <td>RURAL</td>\n",
       "      <td>S</td>\n",
       "      <td>B</td>\n",
       "      <td>ACADÉMICO</td>\n",
       "      <td>476892099710</td>\n",
       "      <td>476892099710</td>\n",
       "      <td>76</td>\n",
       "      <td>76892</td>\n",
       "      <td>VALLE</td>\n",
       "      <td>...</td>\n",
       "      <td>NaN</td>\n",
       "      <td>NaN</td>\n",
       "      <td>1</td>\n",
       "      <td>8</td>\n",
       "      <td>0</td>\n",
       "      <td>9</td>\n",
       "      <td>20161</td>\n",
       "      <td>355.555556</td>\n",
       "      <td>368.0</td>\n",
       "      <td>39.386264</td>\n",
       "    </tr>\n",
       "    <tr>\n",
       "      <th>41867</th>\n",
       "      <td>11</td>\n",
       "      <td>RURAL</td>\n",
       "      <td>N</td>\n",
       "      <td>B</td>\n",
       "      <td>ACADÉMICO</td>\n",
       "      <td>476892099728</td>\n",
       "      <td>476892099728</td>\n",
       "      <td>76</td>\n",
       "      <td>76892</td>\n",
       "      <td>VALLE</td>\n",
       "      <td>...</td>\n",
       "      <td>NaN</td>\n",
       "      <td>NaN</td>\n",
       "      <td>0</td>\n",
       "      <td>11</td>\n",
       "      <td>2</td>\n",
       "      <td>9</td>\n",
       "      <td>20161</td>\n",
       "      <td>277.818182</td>\n",
       "      <td>262.0</td>\n",
       "      <td>48.010037</td>\n",
       "    </tr>\n",
       "  </tbody>\n",
       "</table>\n",
       "<p>41868 rows × 77 columns</p>\n",
       "</div>"
      ],
      "text/plain": [
       "       CANTIDAD_ESTUDIANTES COLE_AREA_UBICACION COLE_BILINGUE COLE_CALENDARIO  \\\n",
       "0                         1              URBANO             N               A   \n",
       "1                         1              URBANO             N               A   \n",
       "2                         1              URBANO             N               A   \n",
       "3                         1              URBANO             N               A   \n",
       "4                         1              URBANO             S               A   \n",
       "...                     ...                 ...           ...             ...   \n",
       "41863                   112               RURAL             N               B   \n",
       "41864                    20              URBANO             S               B   \n",
       "41865                   123              URBANO             N               B   \n",
       "41866                     9               RURAL             S               B   \n",
       "41867                    11               RURAL             N               B   \n",
       "\n",
       "           COLE_CARACTER  COLE_COD_DANE_ESTABLECIMIENTO  COLE_COD_DANE_SEDE  \\\n",
       "0      TÉCNICO/ACADÉMICO                   105001000621        105001000621   \n",
       "1      TÉCNICO/ACADÉMICO                   105001000931        105001000931   \n",
       "2              ACADÉMICO                   105001001651        105001001651   \n",
       "3              ACADÉMICO                   105001002020        105001002020   \n",
       "4      TÉCNICO/ACADÉMICO                   105001002488        105001002046   \n",
       "...                  ...                            ...                 ...   \n",
       "41863  TÉCNICO/ACADÉMICO                   476248000478        476248000478   \n",
       "41864          ACADÉMICO                   476520006324        476520006324   \n",
       "41865            TÉCNICO                   476520007207        476520007207   \n",
       "41866          ACADÉMICO                   476892099710        476892099710   \n",
       "41867          ACADÉMICO                   476892099728        476892099728   \n",
       "\n",
       "       COLE_COD_DEPTO_UBICACION  COLE_COD_MCPIO_UBICACION  \\\n",
       "0                             5                      5001   \n",
       "1                             5                      5001   \n",
       "2                             5                      5001   \n",
       "3                             5                      5001   \n",
       "4                             5                      5001   \n",
       "...                         ...                       ...   \n",
       "41863                        76                     76248   \n",
       "41864                        76                     76520   \n",
       "41865                        76                     76520   \n",
       "41866                        76                     76892   \n",
       "41867                        76                     76892   \n",
       "\n",
       "      COLE_DEPTO_UBICACION  ... FAMI_SITUACIONECONOMICA_Mejor  \\\n",
       "0                ANTIOQUIA  ...                           0.0   \n",
       "1                ANTIOQUIA  ...                           0.0   \n",
       "2                ANTIOQUIA  ...                           0.0   \n",
       "3                ANTIOQUIA  ...                           0.0   \n",
       "4                ANTIOQUIA  ...                           0.0   \n",
       "...                    ...  ...                           ...   \n",
       "41863                VALLE  ...                           NaN   \n",
       "41864                VALLE  ...                           NaN   \n",
       "41865                VALLE  ...                           NaN   \n",
       "41866                VALLE  ...                           NaN   \n",
       "41867                VALLE  ...                           NaN   \n",
       "\n",
       "      FAMI_SITUACIONECONOMICA_Peor FAMI_TIENECOMPUTADOR_No  \\\n",
       "0                              0.0                       0   \n",
       "1                              0.0                       0   \n",
       "2                              0.0                       0   \n",
       "3                              1.0                       0   \n",
       "4                              0.0                       0   \n",
       "...                            ...                     ...   \n",
       "41863                          NaN                       7   \n",
       "41864                          NaN                       0   \n",
       "41865                          NaN                      10   \n",
       "41866                          NaN                       1   \n",
       "41867                          NaN                       0   \n",
       "\n",
       "      FAMI_TIENECOMPUTADOR_Si FAMI_TIENEINTERNET_No FAMI_TIENEINTERNET_Si  \\\n",
       "0                           1                     0                     0   \n",
       "1                           0                     0                     0   \n",
       "2                           1                     0                     1   \n",
       "3                           1                     0                     1   \n",
       "4                           1                     0                     1   \n",
       "...                       ...                   ...                   ...   \n",
       "41863                     105                     9                   103   \n",
       "41864                      20                     0                    20   \n",
       "41865                     113                     8                   115   \n",
       "41866                       8                     0                     9   \n",
       "41867                      11                     2                     9   \n",
       "\n",
       "       PERIODO  PUNT_GLOBAL_mean  PUNT_GLOBAL_median  PUNT_GLOBAL_std  \n",
       "0        20211        264.000000               264.0              NaN  \n",
       "1        20211        273.000000               273.0              NaN  \n",
       "2        20211        332.000000               332.0              NaN  \n",
       "3        20211        242.000000               242.0              NaN  \n",
       "4        20211        246.000000               246.0              NaN  \n",
       "...        ...               ...                 ...              ...  \n",
       "41863    20161        281.098214               276.0        46.001559  \n",
       "41864    20161        297.450000               292.5        35.704157  \n",
       "41865    20161        269.276423               272.0        41.181983  \n",
       "41866    20161        355.555556               368.0        39.386264  \n",
       "41867    20161        277.818182               262.0        48.010037  \n",
       "\n",
       "[41868 rows x 77 columns]"
      ]
     },
     "execution_count": 4,
     "metadata": {},
     "output_type": "execute_result"
    }
   ],
   "source": [
    "datos"
   ]
  },
  {
   "cell_type": "code",
   "execution_count": 5,
   "metadata": {},
   "outputs": [],
   "source": [
    "datos[\"ANO\"]=datos['PERIODO'].apply(lambda text: generar_ano(text))\n",
    "datos[\"SEMESTRE\"]=datos['PERIODO'].apply(lambda text: generar_semestre(text))"
   ]
  },
  {
   "cell_type": "code",
   "execution_count": 6,
   "metadata": {},
   "outputs": [
    {
     "data": {
      "text/html": [
       "<div>\n",
       "<style scoped>\n",
       "    .dataframe tbody tr th:only-of-type {\n",
       "        vertical-align: middle;\n",
       "    }\n",
       "\n",
       "    .dataframe tbody tr th {\n",
       "        vertical-align: top;\n",
       "    }\n",
       "\n",
       "    .dataframe thead th {\n",
       "        text-align: right;\n",
       "    }\n",
       "</style>\n",
       "<table border=\"1\" class=\"dataframe\">\n",
       "  <thead>\n",
       "    <tr style=\"text-align: right;\">\n",
       "      <th></th>\n",
       "      <th>PERIODO</th>\n",
       "      <th>ANO</th>\n",
       "      <th>SEMESTRE</th>\n",
       "    </tr>\n",
       "  </thead>\n",
       "  <tbody>\n",
       "    <tr>\n",
       "      <th>0</th>\n",
       "      <td>20211</td>\n",
       "      <td>2021</td>\n",
       "      <td>1</td>\n",
       "    </tr>\n",
       "    <tr>\n",
       "      <th>1</th>\n",
       "      <td>20211</td>\n",
       "      <td>2021</td>\n",
       "      <td>1</td>\n",
       "    </tr>\n",
       "    <tr>\n",
       "      <th>2</th>\n",
       "      <td>20211</td>\n",
       "      <td>2021</td>\n",
       "      <td>1</td>\n",
       "    </tr>\n",
       "    <tr>\n",
       "      <th>3</th>\n",
       "      <td>20211</td>\n",
       "      <td>2021</td>\n",
       "      <td>1</td>\n",
       "    </tr>\n",
       "    <tr>\n",
       "      <th>4</th>\n",
       "      <td>20211</td>\n",
       "      <td>2021</td>\n",
       "      <td>1</td>\n",
       "    </tr>\n",
       "    <tr>\n",
       "      <th>...</th>\n",
       "      <td>...</td>\n",
       "      <td>...</td>\n",
       "      <td>...</td>\n",
       "    </tr>\n",
       "    <tr>\n",
       "      <th>41863</th>\n",
       "      <td>20161</td>\n",
       "      <td>2016</td>\n",
       "      <td>1</td>\n",
       "    </tr>\n",
       "    <tr>\n",
       "      <th>41864</th>\n",
       "      <td>20161</td>\n",
       "      <td>2016</td>\n",
       "      <td>1</td>\n",
       "    </tr>\n",
       "    <tr>\n",
       "      <th>41865</th>\n",
       "      <td>20161</td>\n",
       "      <td>2016</td>\n",
       "      <td>1</td>\n",
       "    </tr>\n",
       "    <tr>\n",
       "      <th>41866</th>\n",
       "      <td>20161</td>\n",
       "      <td>2016</td>\n",
       "      <td>1</td>\n",
       "    </tr>\n",
       "    <tr>\n",
       "      <th>41867</th>\n",
       "      <td>20161</td>\n",
       "      <td>2016</td>\n",
       "      <td>1</td>\n",
       "    </tr>\n",
       "  </tbody>\n",
       "</table>\n",
       "<p>41868 rows × 3 columns</p>\n",
       "</div>"
      ],
      "text/plain": [
       "       PERIODO   ANO  SEMESTRE\n",
       "0        20211  2021         1\n",
       "1        20211  2021         1\n",
       "2        20211  2021         1\n",
       "3        20211  2021         1\n",
       "4        20211  2021         1\n",
       "...        ...   ...       ...\n",
       "41863    20161  2016         1\n",
       "41864    20161  2016         1\n",
       "41865    20161  2016         1\n",
       "41866    20161  2016         1\n",
       "41867    20161  2016         1\n",
       "\n",
       "[41868 rows x 3 columns]"
      ]
     },
     "execution_count": 6,
     "metadata": {},
     "output_type": "execute_result"
    }
   ],
   "source": [
    "datos[[\"PERIODO\",\"ANO\",\"SEMESTRE\"]]"
   ]
  },
  {
   "cell_type": "code",
   "execution_count": 7,
   "metadata": {},
   "outputs": [],
   "source": [
    "data_calendario1=datos[datos['SEMESTRE']==1]\n",
    "data_calendario2=datos[datos['SEMESTRE']==2]"
   ]
  },
  {
   "cell_type": "code",
   "execution_count": 8,
   "metadata": {},
   "outputs": [
    {
     "data": {
      "image/png": "[encoded data removed]",
      "text/plain": [
       "<Figure size 720x576 with 1 Axes>"
      ]
     },
     "metadata": {
      "needs_background": "light"
     },
     "output_type": "display_data"
    },
    {
     "data": {
      "image/png": "[encoded data removed]",
      "text/plain": [
       "<Figure size 720x576 with 1 Axes>"
      ]
     },
     "metadata": {
      "needs_background": "light"
     },
     "output_type": "display_data"
    }
   ],
   "source": [
    "serie_calendario1= data_calendario1.groupby(['ANO'], as_index = False)[['PUNT_GLOBAL_mean']].mean()\n",
    "serie_calendario1 = serie_calendario1.set_index(\"ANO\")\n",
    "serie_calendario1[['PUNT_GLOBAL_mean']].plot(figsize=(10, 8), fontsize=10);\n",
    "legend = plt.legend()\n",
    "legend.prop.set_size(14);\n",
    "\n",
    "serie_calendario2= data_calendario2.groupby(['ANO'], as_index = False)[['PUNT_GLOBAL_mean']].mean()\n",
    "serie_calendario2 = serie_calendario2.set_index(\"ANO\")\n",
    "serie_calendario2[['PUNT_GLOBAL_mean']].plot(figsize=(10, 8), fontsize=10);\n",
    "legend = plt.legend()\n",
    "legend.prop.set_size(14);"
   ]
  },
  {
   "cell_type": "code",
   "execution_count": 9,
   "metadata": {},
   "outputs": [
    {
     "data": {
      "image/png": "[encoded data removed]",
      "text/plain": [
       "<Figure size 720x576 with 1 Axes>"
      ]
     },
     "metadata": {
      "needs_background": "light"
     },
     "output_type": "display_data"
    },
    {
     "data": {
      "image/png": "[encoded data removed]",
      "text/plain": [
       "<Figure size 720x576 with 1 Axes>"
      ]
     },
     "metadata": {
      "needs_background": "light"
     },
     "output_type": "display_data"
    }
   ],
   "source": [
    "serie_calendario1= data_calendario1.groupby(['ANO'], as_index = False)[['CANTIDAD_ESTUDIANTES']].sum()\n",
    "serie_calendario1 = serie_calendario1.set_index(\"ANO\")\n",
    "serie_calendario1[['CANTIDAD_ESTUDIANTES']].plot(figsize=(10, 8), fontsize=10);\n",
    "legend = plt.legend()\n",
    "legend.prop.set_size(14);\n",
    "\n",
    "serie_calendario2= data_calendario2.groupby(['ANO'], as_index = False)[['CANTIDAD_ESTUDIANTES']].sum()\n",
    "serie_calendario2 = serie_calendario2.set_index(\"ANO\")\n",
    "serie_calendario2[['CANTIDAD_ESTUDIANTES']].plot(figsize=(10, 8), fontsize=10);\n",
    "legend = plt.legend()\n",
    "legend.prop.set_size(14);"
   ]
  },
  {
   "cell_type": "markdown",
   "metadata": {},
   "source": [
    "# Mayores afectados \n",
    "se mostraran los mayores afectados por colegio "
   ]
  },
  {
   "cell_type": "code",
   "execution_count": 10,
   "metadata": {},
   "outputs": [],
   "source": [
    "data_calendario_pre_covid2=data_calendario2[data_calendario2['ANO']<2020]\n",
    "data_calendario_pos_covid2=data_calendario2[data_calendario2['ANO']>=2020]\n",
    "agrupado_pre2=data_calendario_pre_covid2.groupby(['COLE_COD_DANE_SEDE','COLE_NOMBRE_SEDE'], as_index = False)[['PUNT_GLOBAL_mean']].mean()\n",
    "agrupado_post2=data_calendario_pos_covid2.groupby(['COLE_COD_DANE_SEDE'], as_index = False)[['PUNT_GLOBAL_mean']].mean()\n",
    "agrupado_post2=agrupado_post2.rename(columns={'PUNT_GLOBAL_mean': 'PUNT_GLOBAL_pos_covid'})\n",
    "data_conso_dif2=pd.merge(agrupado_pre2,agrupado_post2,on='COLE_COD_DANE_SEDE')\n",
    "data_conso_dif2[\"%DIF\"]=1-((data_conso_dif2[\"PUNT_GLOBAL_pos_covid\"])/data_conso_dif2[\"PUNT_GLOBAL_mean\"])"
   ]
  },
  {
   "cell_type": "code",
   "execution_count": 11,
   "metadata": {},
   "outputs": [
    {
     "data": {
      "text/plain": [
       "Text(0.5, 0, 'value')"
      ]
     },
     "execution_count": 11,
     "metadata": {},
     "output_type": "execute_result"
    },
    {
     "data": {
      "image/png": "[encoded data removed]",
      "text/plain": [
       "<Figure size 432x288 with 1 Axes>"
      ]
     },
     "metadata": {
      "needs_background": "light"
     },
     "output_type": "display_data"
    }
   ],
   "source": [
    "fig, ax1 = plt.subplots() # preparar un gráfico con matplotlib\n",
    "ax1.hist(data_conso_dif2[\"%DIF\"], 60)\n",
    "# editar las etiquetas\n",
    "ax1.set_ylabel('density')\n",
    "ax1.set_xlabel('value')\n",
    "# añadir ejes adicionales a la figura\n",
    "#ax2 = fig.add_axes([left, bottom, right, top])\n",
    "#ax2.hist(data_conso_dif2[\"%DIF\"])"
   ]
  },
  {
   "cell_type": "code",
   "execution_count": 12,
   "metadata": {},
   "outputs": [],
   "source": [
    "data_calendario_pre_covid1=data_calendario1[data_calendario1['ANO']<2020]\n",
    "data_calendario_pos_covid1=data_calendario1[data_calendario1['ANO']>=2020]\n",
    "agrupado_pre1=data_calendario_pre_covid1.groupby(['COLE_COD_DANE_SEDE','COLE_NOMBRE_SEDE'], as_index = False)[['PUNT_GLOBAL_mean']].mean()\n",
    "agrupado_post1=data_calendario_pos_covid1.groupby(['COLE_COD_DANE_SEDE'], as_index = False)[['PUNT_GLOBAL_mean']].mean()\n",
    "agrupado_post1=agrupado_post1.rename(columns={'PUNT_GLOBAL_mean': 'PUNT_GLOBAL_pos_covid'})\n",
    "data_conso_dif1=pd.merge(agrupado_pre1,agrupado_post1,on='COLE_COD_DANE_SEDE')\n",
    "data_conso_dif1[\"%DIF\"]=1-((data_conso_dif1[\"PUNT_GLOBAL_pos_covid\"])/data_conso_dif1[\"PUNT_GLOBAL_mean\"])"
   ]
  },
  {
   "cell_type": "code",
   "execution_count": 13,
   "metadata": {},
   "outputs": [
    {
     "data": {
      "text/plain": [
       "Text(0.5, 0, 'value')"
      ]
     },
     "execution_count": 13,
     "metadata": {},
     "output_type": "execute_result"
    },
    {
     "data": {
      "image/png": "[encoded data removed]",
      "text/plain": [
       "<Figure size 432x288 with 1 Axes>"
      ]
     },
     "metadata": {
      "needs_background": "light"
     },
     "output_type": "display_data"
    }
   ],
   "source": [
    "fig, ax1 = plt.subplots() # preparar un gráfico con matplotlib\n",
    "ax1.hist(data_conso_dif1[\"%DIF\"], 60)\n",
    "# editar las etiquetas\n",
    "ax1.set_ylabel('density')\n",
    "ax1.set_xlabel('value')\n",
    "# añadir ejes adicionales a la figura\n",
    "#ax2 = fig.add_axes([left, bottom, right, top])\n",
    "#ax2.hist(data_conso_dif1[\"%DIF\"])"
   ]
  },
  {
   "cell_type": "code",
   "execution_count": 14,
   "metadata": {},
   "outputs": [
    {
     "data": {
      "text/html": [
       "<div>\n",
       "<style scoped>\n",
       "    .dataframe tbody tr th:only-of-type {\n",
       "        vertical-align: middle;\n",
       "    }\n",
       "\n",
       "    .dataframe tbody tr th {\n",
       "        vertical-align: top;\n",
       "    }\n",
       "\n",
       "    .dataframe thead th {\n",
       "        text-align: right;\n",
       "    }\n",
       "</style>\n",
       "<table border=\"1\" class=\"dataframe\">\n",
       "  <thead>\n",
       "    <tr style=\"text-align: right;\">\n",
       "      <th></th>\n",
       "      <th>COLE_COD_DANE_SEDE</th>\n",
       "      <th>COLE_NOMBRE_SEDE</th>\n",
       "      <th>PUNT_GLOBAL_mean</th>\n",
       "      <th>PUNT_GLOBAL_pos_covid</th>\n",
       "      <th>%DIF</th>\n",
       "    </tr>\n",
       "  </thead>\n",
       "  <tbody>\n",
       "    <tr>\n",
       "      <th>3889</th>\n",
       "      <td>205034000108</td>\n",
       "      <td>C. E. R. LA SOLEDAD</td>\n",
       "      <td>216.755556</td>\n",
       "      <td>120.4</td>\n",
       "      <td>0.444536</td>\n",
       "    </tr>\n",
       "    <tr>\n",
       "      <th>9298</th>\n",
       "      <td>376001023918</td>\n",
       "      <td>COLEGIO COMERCIAL MARIA INMACULADA</td>\n",
       "      <td>267.833333</td>\n",
       "      <td>163.0</td>\n",
       "      <td>0.391413</td>\n",
       "    </tr>\n",
       "    <tr>\n",
       "      <th>6448</th>\n",
       "      <td>276497000616</td>\n",
       "      <td>POLICARPA SALAVARRIETA</td>\n",
       "      <td>244.500000</td>\n",
       "      <td>150.0</td>\n",
       "      <td>0.386503</td>\n",
       "    </tr>\n",
       "    <tr>\n",
       "      <th>9208</th>\n",
       "      <td>373268000861</td>\n",
       "      <td>COL  SANTA MARGARITA MARIA</td>\n",
       "      <td>289.000000</td>\n",
       "      <td>180.0</td>\n",
       "      <td>0.377163</td>\n",
       "    </tr>\n",
       "    <tr>\n",
       "      <th>6656</th>\n",
       "      <td>305001003904</td>\n",
       "      <td>INST ANTIOQUIA</td>\n",
       "      <td>268.805556</td>\n",
       "      <td>180.5</td>\n",
       "      <td>0.328511</td>\n",
       "    </tr>\n",
       "    <tr>\n",
       "      <th>...</th>\n",
       "      <td>...</td>\n",
       "      <td>...</td>\n",
       "      <td>...</td>\n",
       "      <td>...</td>\n",
       "      <td>...</td>\n",
       "    </tr>\n",
       "    <tr>\n",
       "      <th>6932</th>\n",
       "      <td>308001009596</td>\n",
       "      <td>COL EL MUNDO DE LOS ESTUDIANTES</td>\n",
       "      <td>224.509375</td>\n",
       "      <td>287.5</td>\n",
       "      <td>-0.280570</td>\n",
       "    </tr>\n",
       "    <tr>\n",
       "      <th>3887</th>\n",
       "      <td>205030000081</td>\n",
       "      <td>C. E. R.  PUEBLITO DE LOS SANCHEZ</td>\n",
       "      <td>212.222222</td>\n",
       "      <td>272.0</td>\n",
       "      <td>-0.281675</td>\n",
       "    </tr>\n",
       "    <tr>\n",
       "      <th>6935</th>\n",
       "      <td>308001010306</td>\n",
       "      <td>COL SAN GABRIEL</td>\n",
       "      <td>197.390247</td>\n",
       "      <td>264.5</td>\n",
       "      <td>-0.339985</td>\n",
       "    </tr>\n",
       "    <tr>\n",
       "      <th>4004</th>\n",
       "      <td>205321000071</td>\n",
       "      <td>C. E. R. LA PIEDRA</td>\n",
       "      <td>187.000000</td>\n",
       "      <td>258.0</td>\n",
       "      <td>-0.379679</td>\n",
       "    </tr>\n",
       "    <tr>\n",
       "      <th>6037</th>\n",
       "      <td>268385000238</td>\n",
       "      <td>ESCUELA RURAL LA JOTA</td>\n",
       "      <td>159.500000</td>\n",
       "      <td>237.0</td>\n",
       "      <td>-0.485893</td>\n",
       "    </tr>\n",
       "  </tbody>\n",
       "</table>\n",
       "<p>9734 rows × 5 columns</p>\n",
       "</div>"
      ],
      "text/plain": [
       "      COLE_COD_DANE_SEDE                    COLE_NOMBRE_SEDE  \\\n",
       "3889        205034000108                 C. E. R. LA SOLEDAD   \n",
       "9298        376001023918  COLEGIO COMERCIAL MARIA INMACULADA   \n",
       "6448        276497000616              POLICARPA SALAVARRIETA   \n",
       "9208        373268000861          COL  SANTA MARGARITA MARIA   \n",
       "6656        305001003904                      INST ANTIOQUIA   \n",
       "...                  ...                                 ...   \n",
       "6932        308001009596     COL EL MUNDO DE LOS ESTUDIANTES   \n",
       "3887        205030000081   C. E. R.  PUEBLITO DE LOS SANCHEZ   \n",
       "6935        308001010306                     COL SAN GABRIEL   \n",
       "4004        205321000071                  C. E. R. LA PIEDRA   \n",
       "6037        268385000238               ESCUELA RURAL LA JOTA   \n",
       "\n",
       "      PUNT_GLOBAL_mean  PUNT_GLOBAL_pos_covid      %DIF  \n",
       "3889        216.755556                  120.4  0.444536  \n",
       "9298        267.833333                  163.0  0.391413  \n",
       "6448        244.500000                  150.0  0.386503  \n",
       "9208        289.000000                  180.0  0.377163  \n",
       "6656        268.805556                  180.5  0.328511  \n",
       "...                ...                    ...       ...  \n",
       "6932        224.509375                  287.5 -0.280570  \n",
       "3887        212.222222                  272.0 -0.281675  \n",
       "6935        197.390247                  264.5 -0.339985  \n",
       "4004        187.000000                  258.0 -0.379679  \n",
       "6037        159.500000                  237.0 -0.485893  \n",
       "\n",
       "[9734 rows x 5 columns]"
      ]
     },
     "execution_count": 14,
     "metadata": {},
     "output_type": "execute_result"
    }
   ],
   "source": [
    "data_conso_dif2.sort_values(by=[\"%DIF\"], ascending=False)"
   ]
  },
  {
   "cell_type": "code",
   "execution_count": 15,
   "metadata": {},
   "outputs": [
    {
     "data": {
      "text/html": [
       "<div>\n",
       "<style scoped>\n",
       "    .dataframe tbody tr th:only-of-type {\n",
       "        vertical-align: middle;\n",
       "    }\n",
       "\n",
       "    .dataframe tbody tr th {\n",
       "        vertical-align: top;\n",
       "    }\n",
       "\n",
       "    .dataframe thead th {\n",
       "        text-align: right;\n",
       "    }\n",
       "</style>\n",
       "<table border=\"1\" class=\"dataframe\">\n",
       "  <thead>\n",
       "    <tr style=\"text-align: right;\">\n",
       "      <th></th>\n",
       "      <th>COLE_COD_DANE_SEDE</th>\n",
       "      <th>COLE_NOMBRE_SEDE</th>\n",
       "      <th>PUNT_GLOBAL_mean</th>\n",
       "      <th>PUNT_GLOBAL_pos_covid</th>\n",
       "      <th>%DIF</th>\n",
       "    </tr>\n",
       "  </thead>\n",
       "  <tbody>\n",
       "    <tr>\n",
       "      <th>417</th>\n",
       "      <td>376520003479</td>\n",
       "      <td>LIC DEL VALLE</td>\n",
       "      <td>253.583333</td>\n",
       "      <td>172.500000</td>\n",
       "      <td>0.319750</td>\n",
       "    </tr>\n",
       "    <tr>\n",
       "      <th>178</th>\n",
       "      <td>318001004077</td>\n",
       "      <td>COLEGIO PEDAGÓGICO DE COLOMBIA - SEDE PRINCIPAL</td>\n",
       "      <td>214.583333</td>\n",
       "      <td>169.000000</td>\n",
       "      <td>0.212427</td>\n",
       "    </tr>\n",
       "    <tr>\n",
       "      <th>171</th>\n",
       "      <td>315238001699</td>\n",
       "      <td>COLEGIO NUESTRA SEÑORA DE GUADALUPE</td>\n",
       "      <td>262.200000</td>\n",
       "      <td>210.888889</td>\n",
       "      <td>0.195695</td>\n",
       "    </tr>\n",
       "    <tr>\n",
       "      <th>215</th>\n",
       "      <td>325290002151</td>\n",
       "      <td>COL FUND EDUC FUNDETEC</td>\n",
       "      <td>254.000000</td>\n",
       "      <td>208.200000</td>\n",
       "      <td>0.180315</td>\n",
       "    </tr>\n",
       "    <tr>\n",
       "      <th>76</th>\n",
       "      <td>311001104760</td>\n",
       "      <td>COL ITEC                                      ...</td>\n",
       "      <td>239.600000</td>\n",
       "      <td>197.000000</td>\n",
       "      <td>0.177796</td>\n",
       "    </tr>\n",
       "    <tr>\n",
       "      <th>...</th>\n",
       "      <td>...</td>\n",
       "      <td>...</td>\n",
       "      <td>...</td>\n",
       "      <td>...</td>\n",
       "      <td>...</td>\n",
       "    </tr>\n",
       "    <tr>\n",
       "      <th>214</th>\n",
       "      <td>325290002142</td>\n",
       "      <td>COL CENT DE ESTUDIOS HUITAKA</td>\n",
       "      <td>177.000000</td>\n",
       "      <td>226.583333</td>\n",
       "      <td>-0.280132</td>\n",
       "    </tr>\n",
       "    <tr>\n",
       "      <th>211</th>\n",
       "      <td>325214047523</td>\n",
       "      <td>INSTITUTO EDUCACIÓN TÉCNICA E INFORMÁTICA INFO...</td>\n",
       "      <td>205.400000</td>\n",
       "      <td>272.833333</td>\n",
       "      <td>-0.328302</td>\n",
       "    </tr>\n",
       "    <tr>\n",
       "      <th>403</th>\n",
       "      <td>376275001643</td>\n",
       "      <td>I.E. RAFAEL NUÑEZ - SEDE PRINCIPAL</td>\n",
       "      <td>243.000000</td>\n",
       "      <td>344.000000</td>\n",
       "      <td>-0.415638</td>\n",
       "    </tr>\n",
       "    <tr>\n",
       "      <th>235</th>\n",
       "      <td>354001012076</td>\n",
       "      <td>ATLANTIS SYSTEM - SEDE PRINCIPAL</td>\n",
       "      <td>171.000000</td>\n",
       "      <td>244.886364</td>\n",
       "      <td>-0.432084</td>\n",
       "    </tr>\n",
       "    <tr>\n",
       "      <th>64</th>\n",
       "      <td>311001089973</td>\n",
       "      <td>CORPORACION EDUCATIVA SAN AGUSTIN CESA - SEDE ...</td>\n",
       "      <td>174.000000</td>\n",
       "      <td>303.000000</td>\n",
       "      <td>-0.741379</td>\n",
       "    </tr>\n",
       "  </tbody>\n",
       "</table>\n",
       "<p>482 rows × 5 columns</p>\n",
       "</div>"
      ],
      "text/plain": [
       "     COLE_COD_DANE_SEDE                                   COLE_NOMBRE_SEDE  \\\n",
       "417        376520003479                                      LIC DEL VALLE   \n",
       "178        318001004077    COLEGIO PEDAGÓGICO DE COLOMBIA - SEDE PRINCIPAL   \n",
       "171        315238001699                COLEGIO NUESTRA SEÑORA DE GUADALUPE   \n",
       "215        325290002151                             COL FUND EDUC FUNDETEC   \n",
       "76         311001104760  COL ITEC                                      ...   \n",
       "..                  ...                                                ...   \n",
       "214        325290002142                       COL CENT DE ESTUDIOS HUITAKA   \n",
       "211        325214047523  INSTITUTO EDUCACIÓN TÉCNICA E INFORMÁTICA INFO...   \n",
       "403        376275001643                 I.E. RAFAEL NUÑEZ - SEDE PRINCIPAL   \n",
       "235        354001012076                   ATLANTIS SYSTEM - SEDE PRINCIPAL   \n",
       "64         311001089973  CORPORACION EDUCATIVA SAN AGUSTIN CESA - SEDE ...   \n",
       "\n",
       "     PUNT_GLOBAL_mean  PUNT_GLOBAL_pos_covid      %DIF  \n",
       "417        253.583333             172.500000  0.319750  \n",
       "178        214.583333             169.000000  0.212427  \n",
       "171        262.200000             210.888889  0.195695  \n",
       "215        254.000000             208.200000  0.180315  \n",
       "76         239.600000             197.000000  0.177796  \n",
       "..                ...                    ...       ...  \n",
       "214        177.000000             226.583333 -0.280132  \n",
       "211        205.400000             272.833333 -0.328302  \n",
       "403        243.000000             344.000000 -0.415638  \n",
       "235        171.000000             244.886364 -0.432084  \n",
       "64         174.000000             303.000000 -0.741379  \n",
       "\n",
       "[482 rows x 5 columns]"
      ]
     },
     "execution_count": 15,
     "metadata": {},
     "output_type": "execute_result"
    }
   ],
   "source": [
    "data_conso_dif1.sort_values(by=[\"%DIF\"], ascending=False)"
   ]
  },
  {
   "cell_type": "markdown",
   "metadata": {},
   "source": [
    "## Mayores afectados por Municipio"
   ]
  },
  {
   "cell_type": "code",
   "execution_count": 105,
   "metadata": {},
   "outputs": [],
   "source": [
    "agrupado_pre2=data_calendario_pre_covid2.groupby(['COLE_MCPIO_UBICACION'], as_index = False)[['PUNT_GLOBAL_mean']].mean()\n",
    "agrupado_post2=data_calendario_pos_covid2.groupby(['COLE_MCPIO_UBICACION'], as_index = False)[['PUNT_GLOBAL_mean']].mean()\n",
    "agrupado_post2=agrupado_post2.rename(columns={'PUNT_GLOBAL_mean': 'PUNT_GLOBAL_pos_covid'})\n",
    "data_conso_dif2=pd.merge(agrupado_pre2,agrupado_post2,on='COLE_MCPIO_UBICACION')\n",
    "data_conso_dif2[\"%DIF\"]=1-((data_conso_dif2[\"PUNT_GLOBAL_pos_covid\"])/data_conso_dif2[\"PUNT_GLOBAL_mean\"])"
   ]
  },
  {
   "cell_type": "code",
   "execution_count": 106,
   "metadata": {},
   "outputs": [
    {
     "data": {
      "text/plain": [
       "Text(0.5, 0, 'value')"
      ]
     },
     "execution_count": 106,
     "metadata": {},
     "output_type": "execute_result"
    },
    {
     "data": {
      "image/png": "[encoded data removed]",
      "text/plain": [
       "<Figure size 432x288 with 1 Axes>"
      ]
     },
     "metadata": {
      "needs_background": "light"
     },
     "output_type": "display_data"
    }
   ],
   "source": [
    "fig, ax1 = plt.subplots()\n",
    "ax1.hist(data_conso_dif2[\"%DIF\"], 60)\n",
    "ax1.set_ylabel('density')\n",
    "ax1.set_xlabel('value')\n",
    "#ax2.hist(data_conso_dif2[\"%DIF\"])"
   ]
  },
  {
   "cell_type": "code",
   "execution_count": 107,
   "metadata": {},
   "outputs": [
    {
     "data": {
      "text/html": [
       "<div>\n",
       "<style scoped>\n",
       "    .dataframe tbody tr th:only-of-type {\n",
       "        vertical-align: middle;\n",
       "    }\n",
       "\n",
       "    .dataframe tbody tr th {\n",
       "        vertical-align: top;\n",
       "    }\n",
       "\n",
       "    .dataframe thead th {\n",
       "        text-align: right;\n",
       "    }\n",
       "</style>\n",
       "<table border=\"1\" class=\"dataframe\">\n",
       "  <thead>\n",
       "    <tr style=\"text-align: right;\">\n",
       "      <th></th>\n",
       "      <th>COLE_MCPIO_UBICACION</th>\n",
       "      <th>PUNT_GLOBAL_mean</th>\n",
       "      <th>PUNT_GLOBAL_pos_covid</th>\n",
       "      <th>%DIF</th>\n",
       "    </tr>\n",
       "  </thead>\n",
       "  <tbody>\n",
       "    <tr>\n",
       "      <th>42</th>\n",
       "      <td>ANZÁ</td>\n",
       "      <td>284.230769</td>\n",
       "      <td>244.647368</td>\n",
       "      <td>0.139265</td>\n",
       "    </tr>\n",
       "    <tr>\n",
       "      <th>530</th>\n",
       "      <td>MONTECRISTO</td>\n",
       "      <td>233.325406</td>\n",
       "      <td>201.080909</td>\n",
       "      <td>0.138195</td>\n",
       "    </tr>\n",
       "    <tr>\n",
       "      <th>854</th>\n",
       "      <td>SOLANO</td>\n",
       "      <td>217.302778</td>\n",
       "      <td>188.736710</td>\n",
       "      <td>0.131457</td>\n",
       "    </tr>\n",
       "    <tr>\n",
       "      <th>458</th>\n",
       "      <td>LABRANZAGRANDE</td>\n",
       "      <td>249.784787</td>\n",
       "      <td>217.742915</td>\n",
       "      <td>0.128278</td>\n",
       "    </tr>\n",
       "    <tr>\n",
       "      <th>768</th>\n",
       "      <td>SAN JUAN DE RIOSECO</td>\n",
       "      <td>245.764706</td>\n",
       "      <td>214.920677</td>\n",
       "      <td>0.125502</td>\n",
       "    </tr>\n",
       "    <tr>\n",
       "      <th>...</th>\n",
       "      <td>...</td>\n",
       "      <td>...</td>\n",
       "      <td>...</td>\n",
       "      <td>...</td>\n",
       "    </tr>\n",
       "    <tr>\n",
       "      <th>142</th>\n",
       "      <td>CARCASÍ</td>\n",
       "      <td>236.880881</td>\n",
       "      <td>262.053261</td>\n",
       "      <td>-0.106266</td>\n",
       "    </tr>\n",
       "    <tr>\n",
       "      <th>237</th>\n",
       "      <td>CURITÍ</td>\n",
       "      <td>235.155900</td>\n",
       "      <td>261.066667</td>\n",
       "      <td>-0.110185</td>\n",
       "    </tr>\n",
       "    <tr>\n",
       "      <th>420</th>\n",
       "      <td>LA BELLEZA</td>\n",
       "      <td>245.196498</td>\n",
       "      <td>275.757500</td>\n",
       "      <td>-0.124639</td>\n",
       "    </tr>\n",
       "    <tr>\n",
       "      <th>760</th>\n",
       "      <td>SAN JOSÉ DE MIRANDA</td>\n",
       "      <td>251.728836</td>\n",
       "      <td>286.309722</td>\n",
       "      <td>-0.137374</td>\n",
       "    </tr>\n",
       "    <tr>\n",
       "      <th>972</th>\n",
       "      <td>VETAS</td>\n",
       "      <td>225.584554</td>\n",
       "      <td>257.105114</td>\n",
       "      <td>-0.139728</td>\n",
       "    </tr>\n",
       "  </tbody>\n",
       "</table>\n",
       "<p>1021 rows × 4 columns</p>\n",
       "</div>"
      ],
      "text/plain": [
       "    COLE_MCPIO_UBICACION  PUNT_GLOBAL_mean  PUNT_GLOBAL_pos_covid      %DIF\n",
       "42                  ANZÁ        284.230769             244.647368  0.139265\n",
       "530          MONTECRISTO        233.325406             201.080909  0.138195\n",
       "854               SOLANO        217.302778             188.736710  0.131457\n",
       "458       LABRANZAGRANDE        249.784787             217.742915  0.128278\n",
       "768  SAN JUAN DE RIOSECO        245.764706             214.920677  0.125502\n",
       "..                   ...               ...                    ...       ...\n",
       "142              CARCASÍ        236.880881             262.053261 -0.106266\n",
       "237               CURITÍ        235.155900             261.066667 -0.110185\n",
       "420           LA BELLEZA        245.196498             275.757500 -0.124639\n",
       "760  SAN JOSÉ DE MIRANDA        251.728836             286.309722 -0.137374\n",
       "972                VETAS        225.584554             257.105114 -0.139728\n",
       "\n",
       "[1021 rows x 4 columns]"
      ]
     },
     "execution_count": 107,
     "metadata": {},
     "output_type": "execute_result"
    }
   ],
   "source": [
    "data_conso_dif2.sort_values(by=[\"%DIF\"], ascending=False)"
   ]
  },
  {
   "cell_type": "code",
   "execution_count": 108,
   "metadata": {},
   "outputs": [],
   "source": [
    "agrupado_pre1=data_calendario_pre_covid1.groupby(['COLE_MCPIO_UBICACION'], as_index = False)[['PUNT_GLOBAL_mean']].mean()\n",
    "agrupado_post1=data_calendario_pos_covid1.groupby(['COLE_MCPIO_UBICACION'], as_index = False)[['PUNT_GLOBAL_mean']].mean()\n",
    "agrupado_post1=agrupado_post1.rename(columns={'PUNT_GLOBAL_mean': 'PUNT_GLOBAL_pos_covid'})\n",
    "data_conso_dif1=pd.merge(agrupado_pre1,agrupado_post1,on='COLE_MCPIO_UBICACION')\n",
    "data_conso_dif1[\"%DIF\"]=1-((data_conso_dif1[\"PUNT_GLOBAL_pos_covid\"])/data_conso_dif1[\"PUNT_GLOBAL_mean\"])"
   ]
  },
  {
   "cell_type": "code",
   "execution_count": 109,
   "metadata": {},
   "outputs": [
    {
     "data": {
      "text/plain": [
       "Text(0.5, 0, 'value')"
      ]
     },
     "execution_count": 109,
     "metadata": {},
     "output_type": "execute_result"
    },
    {
     "data": {
      "image/png": "[encoded data removed]",
      "text/plain": [
       "<Figure size 432x288 with 1 Axes>"
      ]
     },
     "metadata": {
      "needs_background": "light"
     },
     "output_type": "display_data"
    }
   ],
   "source": [
    "fig, ax1 = plt.subplots()\n",
    "ax1.hist(data_conso_dif1[\"%DIF\"], 60)\n",
    "ax1.set_ylabel('density')\n",
    "ax1.set_xlabel('value')\n",
    "#ax2.hist(data_conso_dif1[\"%DIF\"])"
   ]
  },
  {
   "cell_type": "code",
   "execution_count": 21,
   "metadata": {},
   "outputs": [
    {
     "data": {
      "text/html": [
       "<div>\n",
       "<style scoped>\n",
       "    .dataframe tbody tr th:only-of-type {\n",
       "        vertical-align: middle;\n",
       "    }\n",
       "\n",
       "    .dataframe tbody tr th {\n",
       "        vertical-align: top;\n",
       "    }\n",
       "\n",
       "    .dataframe thead th {\n",
       "        text-align: right;\n",
       "    }\n",
       "</style>\n",
       "<table border=\"1\" class=\"dataframe\">\n",
       "  <thead>\n",
       "    <tr style=\"text-align: right;\">\n",
       "      <th></th>\n",
       "      <th>COLE_MCPIO_UBICACION</th>\n",
       "      <th>PUNT_GLOBAL_mean</th>\n",
       "      <th>PUNT_GLOBAL_pos_covid</th>\n",
       "      <th>%DIF</th>\n",
       "    </tr>\n",
       "  </thead>\n",
       "  <tbody>\n",
       "    <tr>\n",
       "      <th>55</th>\n",
       "      <td>SAN LUIS DE SINCÉ</td>\n",
       "      <td>214.444444</td>\n",
       "      <td>172.000000</td>\n",
       "      <td>0.197927</td>\n",
       "    </tr>\n",
       "    <tr>\n",
       "      <th>63</th>\n",
       "      <td>URUMITA</td>\n",
       "      <td>209.833333</td>\n",
       "      <td>175.000000</td>\n",
       "      <td>0.166005</td>\n",
       "    </tr>\n",
       "    <tr>\n",
       "      <th>35</th>\n",
       "      <td>MAGANGUÉ</td>\n",
       "      <td>211.884800</td>\n",
       "      <td>178.500000</td>\n",
       "      <td>0.157561</td>\n",
       "    </tr>\n",
       "    <tr>\n",
       "      <th>64</th>\n",
       "      <td>VALLEDUPAR</td>\n",
       "      <td>322.197532</td>\n",
       "      <td>275.206490</td>\n",
       "      <td>0.145845</td>\n",
       "    </tr>\n",
       "    <tr>\n",
       "      <th>11</th>\n",
       "      <td>CARTAGENA DE INDIAS</td>\n",
       "      <td>332.463984</td>\n",
       "      <td>296.747496</td>\n",
       "      <td>0.107430</td>\n",
       "    </tr>\n",
       "    <tr>\n",
       "      <th>...</th>\n",
       "      <td>...</td>\n",
       "      <td>...</td>\n",
       "      <td>...</td>\n",
       "      <td>...</td>\n",
       "    </tr>\n",
       "    <tr>\n",
       "      <th>49</th>\n",
       "      <td>PUERTO ASÍS</td>\n",
       "      <td>196.090909</td>\n",
       "      <td>246.000000</td>\n",
       "      <td>-0.254520</td>\n",
       "    </tr>\n",
       "    <tr>\n",
       "      <th>5</th>\n",
       "      <td>BELLO</td>\n",
       "      <td>208.508929</td>\n",
       "      <td>269.000000</td>\n",
       "      <td>-0.290113</td>\n",
       "    </tr>\n",
       "    <tr>\n",
       "      <th>3</th>\n",
       "      <td>ARMENIA</td>\n",
       "      <td>205.357143</td>\n",
       "      <td>271.000000</td>\n",
       "      <td>-0.319652</td>\n",
       "    </tr>\n",
       "    <tr>\n",
       "      <th>22</th>\n",
       "      <td>ESPINAL</td>\n",
       "      <td>219.000000</td>\n",
       "      <td>302.000000</td>\n",
       "      <td>-0.378995</td>\n",
       "    </tr>\n",
       "    <tr>\n",
       "      <th>25</th>\n",
       "      <td>FLORIDA</td>\n",
       "      <td>243.000000</td>\n",
       "      <td>344.000000</td>\n",
       "      <td>-0.415638</td>\n",
       "    </tr>\n",
       "  </tbody>\n",
       "</table>\n",
       "<p>70 rows × 4 columns</p>\n",
       "</div>"
      ],
      "text/plain": [
       "   COLE_MCPIO_UBICACION  PUNT_GLOBAL_mean  PUNT_GLOBAL_pos_covid      %DIF\n",
       "55    SAN LUIS DE SINCÉ        214.444444             172.000000  0.197927\n",
       "63              URUMITA        209.833333             175.000000  0.166005\n",
       "35             MAGANGUÉ        211.884800             178.500000  0.157561\n",
       "64           VALLEDUPAR        322.197532             275.206490  0.145845\n",
       "11  CARTAGENA DE INDIAS        332.463984             296.747496  0.107430\n",
       "..                  ...               ...                    ...       ...\n",
       "49          PUERTO ASÍS        196.090909             246.000000 -0.254520\n",
       "5                 BELLO        208.508929             269.000000 -0.290113\n",
       "3               ARMENIA        205.357143             271.000000 -0.319652\n",
       "22              ESPINAL        219.000000             302.000000 -0.378995\n",
       "25              FLORIDA        243.000000             344.000000 -0.415638\n",
       "\n",
       "[70 rows x 4 columns]"
      ]
     },
     "execution_count": 21,
     "metadata": {},
     "output_type": "execute_result"
    }
   ],
   "source": [
    "data_conso_dif1.sort_values(by=[\"%DIF\"], ascending=False)"
   ]
  },
  {
   "cell_type": "markdown",
   "metadata": {},
   "source": [
    "## Mayores afectados por departamento"
   ]
  },
  {
   "cell_type": "code",
   "execution_count": 22,
   "metadata": {},
   "outputs": [],
   "source": [
    "agrupado_pre2=data_calendario_pre_covid2.groupby(['COLE_DEPTO_UBICACION'], as_index = False)[['PUNT_GLOBAL_mean']].mean()\n",
    "agrupado_post2=data_calendario_pos_covid2.groupby(['COLE_DEPTO_UBICACION'], as_index = False)[['PUNT_GLOBAL_mean']].mean()\n",
    "agrupado_post2=agrupado_post2.rename(columns={'PUNT_GLOBAL_mean': 'PUNT_GLOBAL_pos_covid'})\n",
    "data_conso_dif2=pd.merge(agrupado_pre2,agrupado_post2,on='COLE_DEPTO_UBICACION')\n",
    "data_conso_dif2[\"%DIF\"]=1-((data_conso_dif2[\"PUNT_GLOBAL_pos_covid\"])/data_conso_dif2[\"PUNT_GLOBAL_mean\"])"
   ]
  },
  {
   "cell_type": "code",
   "execution_count": 23,
   "metadata": {},
   "outputs": [
    {
     "data": {
      "text/plain": [
       "Text(0.5, 17.200000000000003, 'value')"
      ]
     },
     "execution_count": 23,
     "metadata": {},
     "output_type": "execute_result"
    },
    {
     "data": {
      "image/png": "[encoded data removed]",
      "text/plain": [
       "<Figure size 432x288 with 1 Axes>"
      ]
     },
     "metadata": {
      "needs_background": "light"
     },
     "output_type": "display_data"
    }
   ],
   "source": [
    "fig, ax2 = plt.subplots()\n",
    "ax1.hist(data_conso_dif2[\"%DIF\"], 60)\n",
    "ax1.set_ylabel('density')\n",
    "ax1.set_xlabel('value')\n",
    "#ax2.hist(data_conso_dif2[\"%DIF\"])"
   ]
  },
  {
   "cell_type": "code",
   "execution_count": 24,
   "metadata": {},
   "outputs": [
    {
     "data": {
      "text/html": [
       "<div>\n",
       "<style scoped>\n",
       "    .dataframe tbody tr th:only-of-type {\n",
       "        vertical-align: middle;\n",
       "    }\n",
       "\n",
       "    .dataframe tbody tr th {\n",
       "        vertical-align: top;\n",
       "    }\n",
       "\n",
       "    .dataframe thead th {\n",
       "        text-align: right;\n",
       "    }\n",
       "</style>\n",
       "<table border=\"1\" class=\"dataframe\">\n",
       "  <thead>\n",
       "    <tr style=\"text-align: right;\">\n",
       "      <th></th>\n",
       "      <th>COLE_DEPTO_UBICACION</th>\n",
       "      <th>PUNT_GLOBAL_mean</th>\n",
       "      <th>PUNT_GLOBAL_pos_covid</th>\n",
       "      <th>%DIF</th>\n",
       "    </tr>\n",
       "  </thead>\n",
       "  <tbody>\n",
       "    <tr>\n",
       "      <th>31</th>\n",
       "      <td>VAUPES</td>\n",
       "      <td>214.037508</td>\n",
       "      <td>203.811809</td>\n",
       "      <td>0.047775</td>\n",
       "    </tr>\n",
       "    <tr>\n",
       "      <th>26</th>\n",
       "      <td>SAN ANDRES</td>\n",
       "      <td>247.150716</td>\n",
       "      <td>236.577798</td>\n",
       "      <td>0.042779</td>\n",
       "    </tr>\n",
       "    <tr>\n",
       "      <th>2</th>\n",
       "      <td>ARAUCA</td>\n",
       "      <td>250.893000</td>\n",
       "      <td>241.926483</td>\n",
       "      <td>0.035738</td>\n",
       "    </tr>\n",
       "    <tr>\n",
       "      <th>1</th>\n",
       "      <td>ANTIOQUIA</td>\n",
       "      <td>250.770404</td>\n",
       "      <td>242.159356</td>\n",
       "      <td>0.034338</td>\n",
       "    </tr>\n",
       "    <tr>\n",
       "      <th>6</th>\n",
       "      <td>BOYACA</td>\n",
       "      <td>261.380003</td>\n",
       "      <td>252.913583</td>\n",
       "      <td>0.032391</td>\n",
       "    </tr>\n",
       "    <tr>\n",
       "      <th>32</th>\n",
       "      <td>VICHADA</td>\n",
       "      <td>231.878260</td>\n",
       "      <td>224.391849</td>\n",
       "      <td>0.032286</td>\n",
       "    </tr>\n",
       "    <tr>\n",
       "      <th>8</th>\n",
       "      <td>CAQUETA</td>\n",
       "      <td>235.791863</td>\n",
       "      <td>228.494067</td>\n",
       "      <td>0.030950</td>\n",
       "    </tr>\n",
       "    <tr>\n",
       "      <th>28</th>\n",
       "      <td>SUCRE</td>\n",
       "      <td>237.469376</td>\n",
       "      <td>230.215900</td>\n",
       "      <td>0.030545</td>\n",
       "    </tr>\n",
       "    <tr>\n",
       "      <th>29</th>\n",
       "      <td>TOLIMA</td>\n",
       "      <td>243.355782</td>\n",
       "      <td>236.051803</td>\n",
       "      <td>0.030014</td>\n",
       "    </tr>\n",
       "    <tr>\n",
       "      <th>23</th>\n",
       "      <td>PUTUMAYO</td>\n",
       "      <td>235.731502</td>\n",
       "      <td>228.863553</td>\n",
       "      <td>0.029135</td>\n",
       "    </tr>\n",
       "    <tr>\n",
       "      <th>13</th>\n",
       "      <td>CORDOBA</td>\n",
       "      <td>241.967969</td>\n",
       "      <td>235.143726</td>\n",
       "      <td>0.028203</td>\n",
       "    </tr>\n",
       "    <tr>\n",
       "      <th>17</th>\n",
       "      <td>HUILA</td>\n",
       "      <td>254.364121</td>\n",
       "      <td>247.261569</td>\n",
       "      <td>0.027923</td>\n",
       "    </tr>\n",
       "    <tr>\n",
       "      <th>5</th>\n",
       "      <td>BOLIVAR</td>\n",
       "      <td>232.321796</td>\n",
       "      <td>226.172699</td>\n",
       "      <td>0.026468</td>\n",
       "    </tr>\n",
       "    <tr>\n",
       "      <th>25</th>\n",
       "      <td>RISARALDA</td>\n",
       "      <td>254.105808</td>\n",
       "      <td>248.313881</td>\n",
       "      <td>0.022793</td>\n",
       "    </tr>\n",
       "    <tr>\n",
       "      <th>20</th>\n",
       "      <td>META</td>\n",
       "      <td>252.758519</td>\n",
       "      <td>247.135577</td>\n",
       "      <td>0.022246</td>\n",
       "    </tr>\n",
       "    <tr>\n",
       "      <th>4</th>\n",
       "      <td>BOGOTA</td>\n",
       "      <td>277.170049</td>\n",
       "      <td>271.271957</td>\n",
       "      <td>0.021280</td>\n",
       "    </tr>\n",
       "    <tr>\n",
       "      <th>21</th>\n",
       "      <td>NARIÑO</td>\n",
       "      <td>250.595764</td>\n",
       "      <td>245.298208</td>\n",
       "      <td>0.021140</td>\n",
       "    </tr>\n",
       "    <tr>\n",
       "      <th>24</th>\n",
       "      <td>QUINDIO</td>\n",
       "      <td>257.807605</td>\n",
       "      <td>252.748281</td>\n",
       "      <td>0.019624</td>\n",
       "    </tr>\n",
       "    <tr>\n",
       "      <th>19</th>\n",
       "      <td>MAGDALENA</td>\n",
       "      <td>226.718380</td>\n",
       "      <td>222.412068</td>\n",
       "      <td>0.018994</td>\n",
       "    </tr>\n",
       "    <tr>\n",
       "      <th>9</th>\n",
       "      <td>CASANARE</td>\n",
       "      <td>248.775978</td>\n",
       "      <td>244.171930</td>\n",
       "      <td>0.018507</td>\n",
       "    </tr>\n",
       "    <tr>\n",
       "      <th>7</th>\n",
       "      <td>CALDAS</td>\n",
       "      <td>248.572791</td>\n",
       "      <td>244.081213</td>\n",
       "      <td>0.018069</td>\n",
       "    </tr>\n",
       "    <tr>\n",
       "      <th>10</th>\n",
       "      <td>CAUCA</td>\n",
       "      <td>232.331232</td>\n",
       "      <td>228.238658</td>\n",
       "      <td>0.017615</td>\n",
       "    </tr>\n",
       "    <tr>\n",
       "      <th>30</th>\n",
       "      <td>VALLE</td>\n",
       "      <td>244.933095</td>\n",
       "      <td>240.823271</td>\n",
       "      <td>0.016779</td>\n",
       "    </tr>\n",
       "    <tr>\n",
       "      <th>22</th>\n",
       "      <td>NORTE SANTANDER</td>\n",
       "      <td>259.070449</td>\n",
       "      <td>254.804181</td>\n",
       "      <td>0.016468</td>\n",
       "    </tr>\n",
       "    <tr>\n",
       "      <th>3</th>\n",
       "      <td>ATLANTICO</td>\n",
       "      <td>249.062316</td>\n",
       "      <td>245.101102</td>\n",
       "      <td>0.015905</td>\n",
       "    </tr>\n",
       "    <tr>\n",
       "      <th>11</th>\n",
       "      <td>CESAR</td>\n",
       "      <td>241.077443</td>\n",
       "      <td>237.710428</td>\n",
       "      <td>0.013967</td>\n",
       "    </tr>\n",
       "    <tr>\n",
       "      <th>14</th>\n",
       "      <td>CUNDINAMARCA</td>\n",
       "      <td>260.010821</td>\n",
       "      <td>257.105862</td>\n",
       "      <td>0.011172</td>\n",
       "    </tr>\n",
       "    <tr>\n",
       "      <th>12</th>\n",
       "      <td>CHOCO</td>\n",
       "      <td>206.258240</td>\n",
       "      <td>204.201156</td>\n",
       "      <td>0.009973</td>\n",
       "    </tr>\n",
       "    <tr>\n",
       "      <th>18</th>\n",
       "      <td>LA GUAJIRA</td>\n",
       "      <td>229.561812</td>\n",
       "      <td>227.279784</td>\n",
       "      <td>0.009941</td>\n",
       "    </tr>\n",
       "    <tr>\n",
       "      <th>15</th>\n",
       "      <td>GUAINIA</td>\n",
       "      <td>238.124529</td>\n",
       "      <td>235.803379</td>\n",
       "      <td>0.009748</td>\n",
       "    </tr>\n",
       "    <tr>\n",
       "      <th>27</th>\n",
       "      <td>SANTANDER</td>\n",
       "      <td>261.935455</td>\n",
       "      <td>259.472023</td>\n",
       "      <td>0.009405</td>\n",
       "    </tr>\n",
       "    <tr>\n",
       "      <th>16</th>\n",
       "      <td>GUAVIARE</td>\n",
       "      <td>233.195612</td>\n",
       "      <td>231.811348</td>\n",
       "      <td>0.005936</td>\n",
       "    </tr>\n",
       "    <tr>\n",
       "      <th>0</th>\n",
       "      <td>AMAZONAS</td>\n",
       "      <td>218.980112</td>\n",
       "      <td>219.991193</td>\n",
       "      <td>-0.004617</td>\n",
       "    </tr>\n",
       "  </tbody>\n",
       "</table>\n",
       "</div>"
      ],
      "text/plain": [
       "   COLE_DEPTO_UBICACION  PUNT_GLOBAL_mean  PUNT_GLOBAL_pos_covid      %DIF\n",
       "31               VAUPES        214.037508             203.811809  0.047775\n",
       "26           SAN ANDRES        247.150716             236.577798  0.042779\n",
       "2                ARAUCA        250.893000             241.926483  0.035738\n",
       "1             ANTIOQUIA        250.770404             242.159356  0.034338\n",
       "6                BOYACA        261.380003             252.913583  0.032391\n",
       "32              VICHADA        231.878260             224.391849  0.032286\n",
       "8               CAQUETA        235.791863             228.494067  0.030950\n",
       "28                SUCRE        237.469376             230.215900  0.030545\n",
       "29               TOLIMA        243.355782             236.051803  0.030014\n",
       "23             PUTUMAYO        235.731502             228.863553  0.029135\n",
       "13              CORDOBA        241.967969             235.143726  0.028203\n",
       "17                HUILA        254.364121             247.261569  0.027923\n",
       "5               BOLIVAR        232.321796             226.172699  0.026468\n",
       "25            RISARALDA        254.105808             248.313881  0.022793\n",
       "20                 META        252.758519             247.135577  0.022246\n",
       "4                BOGOTA        277.170049             271.271957  0.021280\n",
       "21               NARIÑO        250.595764             245.298208  0.021140\n",
       "24              QUINDIO        257.807605             252.748281  0.019624\n",
       "19            MAGDALENA        226.718380             222.412068  0.018994\n",
       "9              CASANARE        248.775978             244.171930  0.018507\n",
       "7                CALDAS        248.572791             244.081213  0.018069\n",
       "10                CAUCA        232.331232             228.238658  0.017615\n",
       "30                VALLE        244.933095             240.823271  0.016779\n",
       "22      NORTE SANTANDER        259.070449             254.804181  0.016468\n",
       "3             ATLANTICO        249.062316             245.101102  0.015905\n",
       "11                CESAR        241.077443             237.710428  0.013967\n",
       "14         CUNDINAMARCA        260.010821             257.105862  0.011172\n",
       "12                CHOCO        206.258240             204.201156  0.009973\n",
       "18           LA GUAJIRA        229.561812             227.279784  0.009941\n",
       "15              GUAINIA        238.124529             235.803379  0.009748\n",
       "27            SANTANDER        261.935455             259.472023  0.009405\n",
       "16             GUAVIARE        233.195612             231.811348  0.005936\n",
       "0              AMAZONAS        218.980112             219.991193 -0.004617"
      ]
     },
     "execution_count": 24,
     "metadata": {},
     "output_type": "execute_result"
    }
   ],
   "source": [
    "data_conso_dif2.sort_values(by=[\"%DIF\"], ascending=False)"
   ]
  },
  {
   "cell_type": "code",
   "execution_count": 25,
   "metadata": {},
   "outputs": [],
   "source": [
    "agrupado_pre1=data_calendario_pre_covid1.groupby(['COLE_DEPTO_UBICACION'], as_index = False)[['PUNT_GLOBAL_mean']].mean()\n",
    "agrupado_post1=data_calendario_pos_covid1.groupby(['COLE_DEPTO_UBICACION'], as_index = False)[['PUNT_GLOBAL_mean']].mean()\n",
    "agrupado_post1=agrupado_post1.rename(columns={'PUNT_GLOBAL_mean': 'PUNT_GLOBAL_pos_covid'})\n",
    "data_conso_dif1=pd.merge(agrupado_pre1,agrupado_post1,on='COLE_DEPTO_UBICACION')\n",
    "data_conso_dif1[\"%DIF\"]=1-((data_conso_dif1[\"PUNT_GLOBAL_pos_covid\"])/data_conso_dif1[\"PUNT_GLOBAL_mean\"])"
   ]
  },
  {
   "cell_type": "code",
   "execution_count": 26,
   "metadata": {},
   "outputs": [
    {
     "data": {
      "text/plain": [
       "Text(0.5, 0, 'value')"
      ]
     },
     "execution_count": 26,
     "metadata": {},
     "output_type": "execute_result"
    },
    {
     "data": {
      "image/png": "[encoded data removed]",
      "text/plain": [
       "<Figure size 432x288 with 1 Axes>"
      ]
     },
     "metadata": {
      "needs_background": "light"
     },
     "output_type": "display_data"
    }
   ],
   "source": [
    "fig, ax1 = plt.subplots()\n",
    "ax1.hist(data_conso_dif1[\"%DIF\"], 60)\n",
    "ax1.set_ylabel('density')\n",
    "ax1.set_xlabel('value')\n",
    "#ax2.hist(data_conso_dif1[\"%DIF\"])"
   ]
  },
  {
   "cell_type": "code",
   "execution_count": 27,
   "metadata": {},
   "outputs": [
    {
     "data": {
      "text/html": [
       "<div>\n",
       "<style scoped>\n",
       "    .dataframe tbody tr th:only-of-type {\n",
       "        vertical-align: middle;\n",
       "    }\n",
       "\n",
       "    .dataframe tbody tr th {\n",
       "        vertical-align: top;\n",
       "    }\n",
       "\n",
       "    .dataframe thead th {\n",
       "        text-align: right;\n",
       "    }\n",
       "</style>\n",
       "<table border=\"1\" class=\"dataframe\">\n",
       "  <thead>\n",
       "    <tr style=\"text-align: right;\">\n",
       "      <th></th>\n",
       "      <th>COLE_DEPTO_UBICACION</th>\n",
       "      <th>PUNT_GLOBAL_mean</th>\n",
       "      <th>PUNT_GLOBAL_pos_covid</th>\n",
       "      <th>%DIF</th>\n",
       "    </tr>\n",
       "  </thead>\n",
       "  <tbody>\n",
       "    <tr>\n",
       "      <th>13</th>\n",
       "      <td>GUAINIA</td>\n",
       "      <td>225.025000</td>\n",
       "      <td>165.466667</td>\n",
       "      <td>0.264674</td>\n",
       "    </tr>\n",
       "    <tr>\n",
       "      <th>24</th>\n",
       "      <td>SUCRE</td>\n",
       "      <td>218.633862</td>\n",
       "      <td>172.000000</td>\n",
       "      <td>0.213297</td>\n",
       "    </tr>\n",
       "    <tr>\n",
       "      <th>22</th>\n",
       "      <td>RISARALDA</td>\n",
       "      <td>308.342101</td>\n",
       "      <td>273.229267</td>\n",
       "      <td>0.113876</td>\n",
       "    </tr>\n",
       "    <tr>\n",
       "      <th>10</th>\n",
       "      <td>CESAR</td>\n",
       "      <td>285.603309</td>\n",
       "      <td>254.287085</td>\n",
       "      <td>0.109649</td>\n",
       "    </tr>\n",
       "    <tr>\n",
       "      <th>4</th>\n",
       "      <td>BOLIVAR</td>\n",
       "      <td>318.076240</td>\n",
       "      <td>283.608886</td>\n",
       "      <td>0.108362</td>\n",
       "    </tr>\n",
       "    <tr>\n",
       "      <th>23</th>\n",
       "      <td>SANTANDER</td>\n",
       "      <td>314.967186</td>\n",
       "      <td>286.786956</td>\n",
       "      <td>0.089470</td>\n",
       "    </tr>\n",
       "    <tr>\n",
       "      <th>3</th>\n",
       "      <td>BOGOTA</td>\n",
       "      <td>316.169527</td>\n",
       "      <td>291.451501</td>\n",
       "      <td>0.078180</td>\n",
       "    </tr>\n",
       "    <tr>\n",
       "      <th>12</th>\n",
       "      <td>CUNDINAMARCA</td>\n",
       "      <td>312.109527</td>\n",
       "      <td>294.006179</td>\n",
       "      <td>0.058003</td>\n",
       "    </tr>\n",
       "    <tr>\n",
       "      <th>8</th>\n",
       "      <td>CASANARE</td>\n",
       "      <td>243.500000</td>\n",
       "      <td>231.809524</td>\n",
       "      <td>0.048010</td>\n",
       "    </tr>\n",
       "    <tr>\n",
       "      <th>18</th>\n",
       "      <td>NARIÑO</td>\n",
       "      <td>288.530729</td>\n",
       "      <td>274.746962</td>\n",
       "      <td>0.047772</td>\n",
       "    </tr>\n",
       "    <tr>\n",
       "      <th>6</th>\n",
       "      <td>CALDAS</td>\n",
       "      <td>303.139495</td>\n",
       "      <td>288.920898</td>\n",
       "      <td>0.046904</td>\n",
       "    </tr>\n",
       "    <tr>\n",
       "      <th>15</th>\n",
       "      <td>LA GUAJIRA</td>\n",
       "      <td>293.576636</td>\n",
       "      <td>284.332999</td>\n",
       "      <td>0.031486</td>\n",
       "    </tr>\n",
       "    <tr>\n",
       "      <th>26</th>\n",
       "      <td>VALLE</td>\n",
       "      <td>290.177154</td>\n",
       "      <td>281.805233</td>\n",
       "      <td>0.028851</td>\n",
       "    </tr>\n",
       "    <tr>\n",
       "      <th>16</th>\n",
       "      <td>MAGDALENA</td>\n",
       "      <td>265.658661</td>\n",
       "      <td>258.695974</td>\n",
       "      <td>0.026209</td>\n",
       "    </tr>\n",
       "    <tr>\n",
       "      <th>9</th>\n",
       "      <td>CAUCA</td>\n",
       "      <td>292.183861</td>\n",
       "      <td>284.708927</td>\n",
       "      <td>0.025583</td>\n",
       "    </tr>\n",
       "    <tr>\n",
       "      <th>17</th>\n",
       "      <td>META</td>\n",
       "      <td>210.105119</td>\n",
       "      <td>206.697619</td>\n",
       "      <td>0.016218</td>\n",
       "    </tr>\n",
       "    <tr>\n",
       "      <th>2</th>\n",
       "      <td>ATLANTICO</td>\n",
       "      <td>313.747964</td>\n",
       "      <td>311.571799</td>\n",
       "      <td>0.006936</td>\n",
       "    </tr>\n",
       "    <tr>\n",
       "      <th>14</th>\n",
       "      <td>HUILA</td>\n",
       "      <td>219.200108</td>\n",
       "      <td>219.990530</td>\n",
       "      <td>-0.003606</td>\n",
       "    </tr>\n",
       "    <tr>\n",
       "      <th>20</th>\n",
       "      <td>PUTUMAYO</td>\n",
       "      <td>196.090909</td>\n",
       "      <td>198.000000</td>\n",
       "      <td>-0.009736</td>\n",
       "    </tr>\n",
       "    <tr>\n",
       "      <th>5</th>\n",
       "      <td>BOYACA</td>\n",
       "      <td>239.285682</td>\n",
       "      <td>244.095635</td>\n",
       "      <td>-0.020101</td>\n",
       "    </tr>\n",
       "    <tr>\n",
       "      <th>7</th>\n",
       "      <td>CAQUETA</td>\n",
       "      <td>212.802778</td>\n",
       "      <td>217.212698</td>\n",
       "      <td>-0.020723</td>\n",
       "    </tr>\n",
       "    <tr>\n",
       "      <th>0</th>\n",
       "      <td>ANTIOQUIA</td>\n",
       "      <td>277.042221</td>\n",
       "      <td>287.000198</td>\n",
       "      <td>-0.035944</td>\n",
       "    </tr>\n",
       "    <tr>\n",
       "      <th>21</th>\n",
       "      <td>QUINDIO</td>\n",
       "      <td>303.439253</td>\n",
       "      <td>317.117225</td>\n",
       "      <td>-0.045076</td>\n",
       "    </tr>\n",
       "    <tr>\n",
       "      <th>19</th>\n",
       "      <td>NORTE SANTANDER</td>\n",
       "      <td>211.284578</td>\n",
       "      <td>223.283656</td>\n",
       "      <td>-0.056791</td>\n",
       "    </tr>\n",
       "    <tr>\n",
       "      <th>11</th>\n",
       "      <td>CORDOBA</td>\n",
       "      <td>280.974367</td>\n",
       "      <td>297.839258</td>\n",
       "      <td>-0.060023</td>\n",
       "    </tr>\n",
       "    <tr>\n",
       "      <th>1</th>\n",
       "      <td>ARAUCA</td>\n",
       "      <td>211.066061</td>\n",
       "      <td>238.166667</td>\n",
       "      <td>-0.128399</td>\n",
       "    </tr>\n",
       "    <tr>\n",
       "      <th>25</th>\n",
       "      <td>TOLIMA</td>\n",
       "      <td>214.496503</td>\n",
       "      <td>267.687590</td>\n",
       "      <td>-0.247981</td>\n",
       "    </tr>\n",
       "  </tbody>\n",
       "</table>\n",
       "</div>"
      ],
      "text/plain": [
       "   COLE_DEPTO_UBICACION  PUNT_GLOBAL_mean  PUNT_GLOBAL_pos_covid      %DIF\n",
       "13              GUAINIA        225.025000             165.466667  0.264674\n",
       "24                SUCRE        218.633862             172.000000  0.213297\n",
       "22            RISARALDA        308.342101             273.229267  0.113876\n",
       "10                CESAR        285.603309             254.287085  0.109649\n",
       "4               BOLIVAR        318.076240             283.608886  0.108362\n",
       "23            SANTANDER        314.967186             286.786956  0.089470\n",
       "3                BOGOTA        316.169527             291.451501  0.078180\n",
       "12         CUNDINAMARCA        312.109527             294.006179  0.058003\n",
       "8              CASANARE        243.500000             231.809524  0.048010\n",
       "18               NARIÑO        288.530729             274.746962  0.047772\n",
       "6                CALDAS        303.139495             288.920898  0.046904\n",
       "15           LA GUAJIRA        293.576636             284.332999  0.031486\n",
       "26                VALLE        290.177154             281.805233  0.028851\n",
       "16            MAGDALENA        265.658661             258.695974  0.026209\n",
       "9                 CAUCA        292.183861             284.708927  0.025583\n",
       "17                 META        210.105119             206.697619  0.016218\n",
       "2             ATLANTICO        313.747964             311.571799  0.006936\n",
       "14                HUILA        219.200108             219.990530 -0.003606\n",
       "20             PUTUMAYO        196.090909             198.000000 -0.009736\n",
       "5                BOYACA        239.285682             244.095635 -0.020101\n",
       "7               CAQUETA        212.802778             217.212698 -0.020723\n",
       "0             ANTIOQUIA        277.042221             287.000198 -0.035944\n",
       "21              QUINDIO        303.439253             317.117225 -0.045076\n",
       "19      NORTE SANTANDER        211.284578             223.283656 -0.056791\n",
       "11              CORDOBA        280.974367             297.839258 -0.060023\n",
       "1                ARAUCA        211.066061             238.166667 -0.128399\n",
       "25               TOLIMA        214.496503             267.687590 -0.247981"
      ]
     },
     "execution_count": 27,
     "metadata": {},
     "output_type": "execute_result"
    }
   ],
   "source": [
    "data_conso_dif1.sort_values(by=[\"%DIF\"], ascending=False)"
   ]
  },
  {
   "cell_type": "markdown",
   "metadata": {},
   "source": [
    "## Diferencia por cantidad de estudiantes"
   ]
  },
  {
   "cell_type": "code",
   "execution_count": 28,
   "metadata": {},
   "outputs": [
    {
     "data": {
      "text/plain": [
       "(array([1.400e+01, 4.600e+01, 6.548e+03, 2.632e+03, 9.500e+01, 2.100e+01,\n",
       "        1.000e+00, 2.000e+00, 0.000e+00, 1.000e+00]),\n",
       " array([-144.5,  -94.1,  -43.7,    6.7,   57.1,  107.5,  157.9,  208.3,\n",
       "         258.7,  309.1,  359.5]),\n",
       " <a list of 10 Patch objects>)"
      ]
     },
     "execution_count": 28,
     "metadata": {},
     "output_type": "execute_result"
    },
    {
     "data": {
      "image/png": "[encoded data removed]",
      "text/plain": [
       "<Figure size 432x288 with 1 Axes>"
      ]
     },
     "metadata": {
      "needs_background": "light"
     },
     "output_type": "display_data"
    }
   ],
   "source": [
    "data_calendario_pre_covid2=data_calendario2[data_calendario2['ANO']<2019]\n",
    "data_calendario_pos_covid2=data_calendario2[data_calendario2['ANO']>=2019]\n",
    "agrupado_pre2=data_calendario_pre_covid2.groupby(['COLE_COD_DANE_SEDE','COLE_NOMBRE_SEDE'], as_index = False)[['CANTIDAD_ESTUDIANTES']].mean()\n",
    "agrupado_post2=data_calendario_pos_covid2.groupby(['COLE_COD_DANE_SEDE'], as_index = False)[['CANTIDAD_ESTUDIANTES']].mean()\n",
    "agrupado_post2=agrupado_post2.rename(columns={'CANTIDAD_ESTUDIANTES': 'PUNT_GLOBAL_pos_covid'})\n",
    "data_conso_dif2=pd.merge(agrupado_pre2,agrupado_post2,on='COLE_COD_DANE_SEDE')\n",
    "data_conso_dif2[\"DIF_ESTU\"]=data_conso_dif2[\"CANTIDAD_ESTUDIANTES\"]-data_conso_dif2[\"PUNT_GLOBAL_pos_covid\"]\n",
    "fig, ax2 = plt.subplots()\n",
    "ax1.hist(data_conso_dif2[\"DIF_ESTU\"], 100)\n",
    "ax1.set_ylabel('density')\n",
    "ax1.set_xlabel('value')\n",
    "ax2.hist(data_conso_dif2[\"DIF_ESTU\"])"
   ]
  },
  {
   "cell_type": "code",
   "execution_count": 29,
   "metadata": {},
   "outputs": [
    {
     "data": {
      "text/html": [
       "<div>\n",
       "<style scoped>\n",
       "    .dataframe tbody tr th:only-of-type {\n",
       "        vertical-align: middle;\n",
       "    }\n",
       "\n",
       "    .dataframe tbody tr th {\n",
       "        vertical-align: top;\n",
       "    }\n",
       "\n",
       "    .dataframe thead th {\n",
       "        text-align: right;\n",
       "    }\n",
       "</style>\n",
       "<table border=\"1\" class=\"dataframe\">\n",
       "  <thead>\n",
       "    <tr style=\"text-align: right;\">\n",
       "      <th></th>\n",
       "      <th>COLE_COD_DANE_SEDE</th>\n",
       "      <th>COLE_NOMBRE_SEDE</th>\n",
       "      <th>CANTIDAD_ESTUDIANTES</th>\n",
       "      <th>PUNT_GLOBAL_pos_covid</th>\n",
       "      <th>DIF_ESTU</th>\n",
       "    </tr>\n",
       "  </thead>\n",
       "  <tbody>\n",
       "    <tr>\n",
       "      <th>7450</th>\n",
       "      <td>311001105863</td>\n",
       "      <td>CENT JOHANN KEPLER</td>\n",
       "      <td>615.000000</td>\n",
       "      <td>255.5</td>\n",
       "      <td>359.500000</td>\n",
       "    </tr>\n",
       "    <tr>\n",
       "      <th>6880</th>\n",
       "      <td>308001075947</td>\n",
       "      <td>CORP.CENTROREGIONAL(COCERCAS)</td>\n",
       "      <td>401.666667</td>\n",
       "      <td>166.0</td>\n",
       "      <td>235.666667</td>\n",
       "    </tr>\n",
       "    <tr>\n",
       "      <th>6589</th>\n",
       "      <td>305001005265</td>\n",
       "      <td>COL LATINO</td>\n",
       "      <td>511.000000</td>\n",
       "      <td>282.5</td>\n",
       "      <td>228.500000</td>\n",
       "    </tr>\n",
       "    <tr>\n",
       "      <th>2</th>\n",
       "      <td>105001000108</td>\n",
       "      <td>INST EDUC CEFA</td>\n",
       "      <td>930.666667</td>\n",
       "      <td>747.0</td>\n",
       "      <td>183.666667</td>\n",
       "    </tr>\n",
       "    <tr>\n",
       "      <th>2363</th>\n",
       "      <td>147001000455</td>\n",
       "      <td>I.E.D FCO DE PAULA SANTANDER</td>\n",
       "      <td>282.000000</td>\n",
       "      <td>128.5</td>\n",
       "      <td>153.500000</td>\n",
       "    </tr>\n",
       "    <tr>\n",
       "      <th>...</th>\n",
       "      <td>...</td>\n",
       "      <td>...</td>\n",
       "      <td>...</td>\n",
       "      <td>...</td>\n",
       "      <td>...</td>\n",
       "    </tr>\n",
       "    <tr>\n",
       "      <th>2311</th>\n",
       "      <td>144430000014</td>\n",
       "      <td>SEDE ANTONIO NARIÑO</td>\n",
       "      <td>38.000000</td>\n",
       "      <td>158.0</td>\n",
       "      <td>-120.000000</td>\n",
       "    </tr>\n",
       "    <tr>\n",
       "      <th>891</th>\n",
       "      <td>111001028207</td>\n",
       "      <td>INST DE BTO INTEGRAL IDIPRON</td>\n",
       "      <td>32.000000</td>\n",
       "      <td>153.5</td>\n",
       "      <td>-121.500000</td>\n",
       "    </tr>\n",
       "    <tr>\n",
       "      <th>9122</th>\n",
       "      <td>405001016946</td>\n",
       "      <td>COL COOP SAN ANTONIO DE PRADO (AC)</td>\n",
       "      <td>572.333333</td>\n",
       "      <td>694.5</td>\n",
       "      <td>-122.166667</td>\n",
       "    </tr>\n",
       "    <tr>\n",
       "      <th>6652</th>\n",
       "      <td>305001022631</td>\n",
       "      <td>CORP ESC EMPRESARIAL DE EDUCACION</td>\n",
       "      <td>179.666667</td>\n",
       "      <td>309.0</td>\n",
       "      <td>-129.333333</td>\n",
       "    </tr>\n",
       "    <tr>\n",
       "      <th>3722</th>\n",
       "      <td>185001000268</td>\n",
       "      <td>BRAULIO GONZALEZ</td>\n",
       "      <td>73.000000</td>\n",
       "      <td>217.5</td>\n",
       "      <td>-144.500000</td>\n",
       "    </tr>\n",
       "  </tbody>\n",
       "</table>\n",
       "<p>9360 rows × 5 columns</p>\n",
       "</div>"
      ],
      "text/plain": [
       "      COLE_COD_DANE_SEDE                    COLE_NOMBRE_SEDE  \\\n",
       "7450        311001105863                  CENT JOHANN KEPLER   \n",
       "6880        308001075947       CORP.CENTROREGIONAL(COCERCAS)   \n",
       "6589        305001005265                          COL LATINO   \n",
       "2           105001000108                      INST EDUC CEFA   \n",
       "2363        147001000455        I.E.D FCO DE PAULA SANTANDER   \n",
       "...                  ...                                 ...   \n",
       "2311        144430000014                 SEDE ANTONIO NARIÑO   \n",
       "891         111001028207        INST DE BTO INTEGRAL IDIPRON   \n",
       "9122        405001016946  COL COOP SAN ANTONIO DE PRADO (AC)   \n",
       "6652        305001022631   CORP ESC EMPRESARIAL DE EDUCACION   \n",
       "3722        185001000268                    BRAULIO GONZALEZ   \n",
       "\n",
       "      CANTIDAD_ESTUDIANTES  PUNT_GLOBAL_pos_covid    DIF_ESTU  \n",
       "7450            615.000000                  255.5  359.500000  \n",
       "6880            401.666667                  166.0  235.666667  \n",
       "6589            511.000000                  282.5  228.500000  \n",
       "2               930.666667                  747.0  183.666667  \n",
       "2363            282.000000                  128.5  153.500000  \n",
       "...                    ...                    ...         ...  \n",
       "2311             38.000000                  158.0 -120.000000  \n",
       "891              32.000000                  153.5 -121.500000  \n",
       "9122            572.333333                  694.5 -122.166667  \n",
       "6652            179.666667                  309.0 -129.333333  \n",
       "3722             73.000000                  217.5 -144.500000  \n",
       "\n",
       "[9360 rows x 5 columns]"
      ]
     },
     "execution_count": 29,
     "metadata": {},
     "output_type": "execute_result"
    }
   ],
   "source": [
    "data_conso_dif2.sort_values(by=[\"DIF_ESTU\"], ascending=False)"
   ]
  },
  {
   "cell_type": "code",
   "execution_count": 30,
   "metadata": {},
   "outputs": [
    {
     "data": {
      "text/plain": [
       "(array([  1.,   0.,   0.,   5.,  29., 641., 311.,  29.,   3.,   2.]),\n",
       " array([-91.08333333, -75.075     , -59.06666667, -43.05833333,\n",
       "        -27.05      , -11.04166667,   4.96666667,  20.975     ,\n",
       "         36.98333333,  52.99166667,  69.        ]),\n",
       " <a list of 10 Patch objects>)"
      ]
     },
     "execution_count": 30,
     "metadata": {},
     "output_type": "execute_result"
    },
    {
     "data": {
      "image/png": "[encoded data removed]",
      "text/plain": [
       "<Figure size 432x288 with 1 Axes>"
      ]
     },
     "metadata": {
      "needs_background": "light"
     },
     "output_type": "display_data"
    }
   ],
   "source": [
    "data_calendario_pre_covid2=data_calendario2[data_calendario2['ANO']<2019]\n",
    "data_calendario_pos_covid2=data_calendario2[data_calendario2['ANO']>=2019]\n",
    "agrupado_pre2=data_calendario_pre_covid2.groupby(['COLE_MCPIO_UBICACION'], as_index = False)[['CANTIDAD_ESTUDIANTES']].mean()\n",
    "agrupado_post2=data_calendario_pos_covid2.groupby(['COLE_MCPIO_UBICACION'], as_index = False)[['CANTIDAD_ESTUDIANTES']].mean()\n",
    "agrupado_post2=agrupado_post2.rename(columns={'CANTIDAD_ESTUDIANTES': 'PUNT_GLOBAL_pos_covid'})\n",
    "data_conso_dif2=pd.merge(agrupado_pre2,agrupado_post2,on='COLE_MCPIO_UBICACION')\n",
    "data_conso_dif2[\"DIF_ESTU\"]=data_conso_dif2[\"CANTIDAD_ESTUDIANTES\"]-data_conso_dif2[\"PUNT_GLOBAL_pos_covid\"]\n",
    "fig, ax2 = plt.subplots()\n",
    "ax1.hist(data_conso_dif2[\"DIF_ESTU\"], 100)\n",
    "ax1.set_ylabel('density')\n",
    "ax1.set_xlabel('value')\n",
    "ax2.hist(data_conso_dif2[\"DIF_ESTU\"])"
   ]
  },
  {
   "cell_type": "code",
   "execution_count": 31,
   "metadata": {},
   "outputs": [
    {
     "data": {
      "text/html": [
       "<div>\n",
       "<style scoped>\n",
       "    .dataframe tbody tr th:only-of-type {\n",
       "        vertical-align: middle;\n",
       "    }\n",
       "\n",
       "    .dataframe tbody tr th {\n",
       "        vertical-align: top;\n",
       "    }\n",
       "\n",
       "    .dataframe thead th {\n",
       "        text-align: right;\n",
       "    }\n",
       "</style>\n",
       "<table border=\"1\" class=\"dataframe\">\n",
       "  <thead>\n",
       "    <tr style=\"text-align: right;\">\n",
       "      <th></th>\n",
       "      <th>COLE_MCPIO_UBICACION</th>\n",
       "      <th>CANTIDAD_ESTUDIANTES</th>\n",
       "      <th>PUNT_GLOBAL_pos_covid</th>\n",
       "      <th>DIF_ESTU</th>\n",
       "    </tr>\n",
       "  </thead>\n",
       "  <tbody>\n",
       "    <tr>\n",
       "      <th>368</th>\n",
       "      <td>GUATAPÉ</td>\n",
       "      <td>124.000000</td>\n",
       "      <td>55.000000</td>\n",
       "      <td>69.000000</td>\n",
       "    </tr>\n",
       "    <tr>\n",
       "      <th>1011</th>\n",
       "      <td>ZARAGOZA</td>\n",
       "      <td>116.625000</td>\n",
       "      <td>47.875000</td>\n",
       "      <td>68.750000</td>\n",
       "    </tr>\n",
       "    <tr>\n",
       "      <th>583</th>\n",
       "      <td>PAICOL</td>\n",
       "      <td>107.333333</td>\n",
       "      <td>67.666667</td>\n",
       "      <td>39.666667</td>\n",
       "    </tr>\n",
       "    <tr>\n",
       "      <th>545</th>\n",
       "      <td>MUZO</td>\n",
       "      <td>82.000000</td>\n",
       "      <td>42.500000</td>\n",
       "      <td>39.500000</td>\n",
       "    </tr>\n",
       "    <tr>\n",
       "      <th>117</th>\n",
       "      <td>CAICEDO</td>\n",
       "      <td>108.333333</td>\n",
       "      <td>71.000000</td>\n",
       "      <td>37.333333</td>\n",
       "    </tr>\n",
       "    <tr>\n",
       "      <th>...</th>\n",
       "      <td>...</td>\n",
       "      <td>...</td>\n",
       "      <td>...</td>\n",
       "      <td>...</td>\n",
       "    </tr>\n",
       "    <tr>\n",
       "      <th>139</th>\n",
       "      <td>CAPITANEJO</td>\n",
       "      <td>40.166667</td>\n",
       "      <td>68.000000</td>\n",
       "      <td>-27.833333</td>\n",
       "    </tr>\n",
       "    <tr>\n",
       "      <th>158</th>\n",
       "      <td>CERRITO</td>\n",
       "      <td>43.333333</td>\n",
       "      <td>76.500000</td>\n",
       "      <td>-33.166667</td>\n",
       "    </tr>\n",
       "    <tr>\n",
       "      <th>268</th>\n",
       "      <td>EL CASTILLO</td>\n",
       "      <td>68.333333</td>\n",
       "      <td>101.500000</td>\n",
       "      <td>-33.166667</td>\n",
       "    </tr>\n",
       "    <tr>\n",
       "      <th>843</th>\n",
       "      <td>SIMIJACA</td>\n",
       "      <td>59.000000</td>\n",
       "      <td>95.000000</td>\n",
       "      <td>-36.000000</td>\n",
       "    </tr>\n",
       "    <tr>\n",
       "      <th>833</th>\n",
       "      <td>SEGOVIA</td>\n",
       "      <td>102.666667</td>\n",
       "      <td>193.750000</td>\n",
       "      <td>-91.083333</td>\n",
       "    </tr>\n",
       "  </tbody>\n",
       "</table>\n",
       "<p>1021 rows × 4 columns</p>\n",
       "</div>"
      ],
      "text/plain": [
       "     COLE_MCPIO_UBICACION  CANTIDAD_ESTUDIANTES  PUNT_GLOBAL_pos_covid  \\\n",
       "368               GUATAPÉ            124.000000              55.000000   \n",
       "1011             ZARAGOZA            116.625000              47.875000   \n",
       "583                PAICOL            107.333333              67.666667   \n",
       "545                  MUZO             82.000000              42.500000   \n",
       "117               CAICEDO            108.333333              71.000000   \n",
       "...                   ...                   ...                    ...   \n",
       "139            CAPITANEJO             40.166667              68.000000   \n",
       "158               CERRITO             43.333333              76.500000   \n",
       "268           EL CASTILLO             68.333333             101.500000   \n",
       "843              SIMIJACA             59.000000              95.000000   \n",
       "833               SEGOVIA            102.666667             193.750000   \n",
       "\n",
       "       DIF_ESTU  \n",
       "368   69.000000  \n",
       "1011  68.750000  \n",
       "583   39.666667  \n",
       "545   39.500000  \n",
       "117   37.333333  \n",
       "...         ...  \n",
       "139  -27.833333  \n",
       "158  -33.166667  \n",
       "268  -33.166667  \n",
       "843  -36.000000  \n",
       "833  -91.083333  \n",
       "\n",
       "[1021 rows x 4 columns]"
      ]
     },
     "execution_count": 31,
     "metadata": {},
     "output_type": "execute_result"
    }
   ],
   "source": [
    "data_conso_dif2.sort_values(by=[\"DIF_ESTU\"], ascending=False)"
   ]
  },
  {
   "cell_type": "code",
   "execution_count": 32,
   "metadata": {},
   "outputs": [
    {
     "data": {
      "text/plain": [
       "(array([ 1.,  0.,  0.,  4., 13.,  7.,  4.,  2.,  1.,  1.]),\n",
       " array([-7.2       , -5.13670996, -3.07341991, -1.01012987,  1.05316017,\n",
       "         3.11645022,  5.17974026,  7.2430303 ,  9.30632035, 11.36961039,\n",
       "        13.43290043]),\n",
       " <a list of 10 Patch objects>)"
      ]
     },
     "execution_count": 32,
     "metadata": {},
     "output_type": "execute_result"
    },
    {
     "data": {
      "image/png": "[encoded data removed]",
      "text/plain": [
       "<Figure size 432x288 with 1 Axes>"
      ]
     },
     "metadata": {
      "needs_background": "light"
     },
     "output_type": "display_data"
    }
   ],
   "source": [
    "data_calendario_pre_covid2=data_calendario2[data_calendario2['ANO']<2019]\n",
    "data_calendario_pos_covid2=data_calendario2[data_calendario2['ANO']>=2019]\n",
    "agrupado_pre2=data_calendario_pre_covid2.groupby(['COLE_DEPTO_UBICACION'], as_index = False)[['CANTIDAD_ESTUDIANTES']].mean()\n",
    "agrupado_post2=data_calendario_pos_covid2.groupby(['COLE_DEPTO_UBICACION'], as_index = False)[['CANTIDAD_ESTUDIANTES']].mean()\n",
    "agrupado_post2=agrupado_post2.rename(columns={'CANTIDAD_ESTUDIANTES': 'PUNT_GLOBAL_pos_covid'})\n",
    "data_conso_dif2=pd.merge(agrupado_pre2,agrupado_post2,on='COLE_DEPTO_UBICACION')\n",
    "data_conso_dif2[\"DIF_ESTU\"]=data_conso_dif2[\"CANTIDAD_ESTUDIANTES\"]-data_conso_dif2[\"PUNT_GLOBAL_pos_covid\"]\n",
    "fig, ax2 = plt.subplots()\n",
    "ax1.hist(data_conso_dif2[\"DIF_ESTU\"], 100)\n",
    "ax1.set_ylabel('density')\n",
    "ax1.set_xlabel('value')\n",
    "ax2.hist(data_conso_dif2[\"DIF_ESTU\"])"
   ]
  },
  {
   "cell_type": "code",
   "execution_count": 33,
   "metadata": {},
   "outputs": [
    {
     "data": {
      "text/html": [
       "<div>\n",
       "<style scoped>\n",
       "    .dataframe tbody tr th:only-of-type {\n",
       "        vertical-align: middle;\n",
       "    }\n",
       "\n",
       "    .dataframe tbody tr th {\n",
       "        vertical-align: top;\n",
       "    }\n",
       "\n",
       "    .dataframe thead th {\n",
       "        text-align: right;\n",
       "    }\n",
       "</style>\n",
       "<table border=\"1\" class=\"dataframe\">\n",
       "  <thead>\n",
       "    <tr style=\"text-align: right;\">\n",
       "      <th></th>\n",
       "      <th>COLE_DEPTO_UBICACION</th>\n",
       "      <th>CANTIDAD_ESTUDIANTES</th>\n",
       "      <th>PUNT_GLOBAL_pos_covid</th>\n",
       "      <th>DIF_ESTU</th>\n",
       "    </tr>\n",
       "  </thead>\n",
       "  <tbody>\n",
       "    <tr>\n",
       "      <th>0</th>\n",
       "      <td>AMAZONAS</td>\n",
       "      <td>66.909091</td>\n",
       "      <td>53.476190</td>\n",
       "      <td>13.432900</td>\n",
       "    </tr>\n",
       "    <tr>\n",
       "      <th>24</th>\n",
       "      <td>QUINDIO</td>\n",
       "      <td>73.473684</td>\n",
       "      <td>62.405714</td>\n",
       "      <td>11.067970</td>\n",
       "    </tr>\n",
       "    <tr>\n",
       "      <th>25</th>\n",
       "      <td>RISARALDA</td>\n",
       "      <td>59.972917</td>\n",
       "      <td>51.821958</td>\n",
       "      <td>8.150958</td>\n",
       "    </tr>\n",
       "    <tr>\n",
       "      <th>4</th>\n",
       "      <td>BOGOTA</td>\n",
       "      <td>78.985906</td>\n",
       "      <td>71.424488</td>\n",
       "      <td>7.561418</td>\n",
       "    </tr>\n",
       "    <tr>\n",
       "      <th>23</th>\n",
       "      <td>PUTUMAYO</td>\n",
       "      <td>51.848889</td>\n",
       "      <td>44.818792</td>\n",
       "      <td>7.030097</td>\n",
       "    </tr>\n",
       "    <tr>\n",
       "      <th>17</th>\n",
       "      <td>HUILA</td>\n",
       "      <td>59.418487</td>\n",
       "      <td>53.372152</td>\n",
       "      <td>6.046335</td>\n",
       "    </tr>\n",
       "    <tr>\n",
       "      <th>1</th>\n",
       "      <td>ANTIOQUIA</td>\n",
       "      <td>67.622042</td>\n",
       "      <td>61.651454</td>\n",
       "      <td>5.970587</td>\n",
       "    </tr>\n",
       "    <tr>\n",
       "      <th>30</th>\n",
       "      <td>VALLE</td>\n",
       "      <td>58.129834</td>\n",
       "      <td>52.825553</td>\n",
       "      <td>5.304281</td>\n",
       "    </tr>\n",
       "    <tr>\n",
       "      <th>19</th>\n",
       "      <td>MAGDALENA</td>\n",
       "      <td>59.177083</td>\n",
       "      <td>54.844156</td>\n",
       "      <td>4.332927</td>\n",
       "    </tr>\n",
       "    <tr>\n",
       "      <th>8</th>\n",
       "      <td>CAQUETA</td>\n",
       "      <td>48.573913</td>\n",
       "      <td>44.500000</td>\n",
       "      <td>4.073913</td>\n",
       "    </tr>\n",
       "    <tr>\n",
       "      <th>14</th>\n",
       "      <td>CUNDINAMARCA</td>\n",
       "      <td>54.690491</td>\n",
       "      <td>50.897738</td>\n",
       "      <td>3.792753</td>\n",
       "    </tr>\n",
       "    <tr>\n",
       "      <th>29</th>\n",
       "      <td>TOLIMA</td>\n",
       "      <td>47.039542</td>\n",
       "      <td>43.550926</td>\n",
       "      <td>3.488616</td>\n",
       "    </tr>\n",
       "    <tr>\n",
       "      <th>10</th>\n",
       "      <td>CAUCA</td>\n",
       "      <td>38.135476</td>\n",
       "      <td>34.756757</td>\n",
       "      <td>3.378720</td>\n",
       "    </tr>\n",
       "    <tr>\n",
       "      <th>26</th>\n",
       "      <td>SAN ANDRES</td>\n",
       "      <td>50.388889</td>\n",
       "      <td>47.125000</td>\n",
       "      <td>3.263889</td>\n",
       "    </tr>\n",
       "    <tr>\n",
       "      <th>5</th>\n",
       "      <td>BOLIVAR</td>\n",
       "      <td>60.732460</td>\n",
       "      <td>57.569038</td>\n",
       "      <td>3.163423</td>\n",
       "    </tr>\n",
       "    <tr>\n",
       "      <th>6</th>\n",
       "      <td>BOYACA</td>\n",
       "      <td>48.936170</td>\n",
       "      <td>45.853543</td>\n",
       "      <td>3.082627</td>\n",
       "    </tr>\n",
       "    <tr>\n",
       "      <th>7</th>\n",
       "      <td>CALDAS</td>\n",
       "      <td>45.396197</td>\n",
       "      <td>42.560570</td>\n",
       "      <td>2.835626</td>\n",
       "    </tr>\n",
       "    <tr>\n",
       "      <th>12</th>\n",
       "      <td>CHOCO</td>\n",
       "      <td>41.006969</td>\n",
       "      <td>38.261538</td>\n",
       "      <td>2.745430</td>\n",
       "    </tr>\n",
       "    <tr>\n",
       "      <th>11</th>\n",
       "      <td>CESAR</td>\n",
       "      <td>66.086106</td>\n",
       "      <td>63.494118</td>\n",
       "      <td>2.591988</td>\n",
       "    </tr>\n",
       "    <tr>\n",
       "      <th>21</th>\n",
       "      <td>NARIÑO</td>\n",
       "      <td>48.720751</td>\n",
       "      <td>46.439669</td>\n",
       "      <td>2.281081</td>\n",
       "    </tr>\n",
       "    <tr>\n",
       "      <th>20</th>\n",
       "      <td>META</td>\n",
       "      <td>61.976891</td>\n",
       "      <td>59.900312</td>\n",
       "      <td>2.076579</td>\n",
       "    </tr>\n",
       "    <tr>\n",
       "      <th>3</th>\n",
       "      <td>ATLANTICO</td>\n",
       "      <td>66.924370</td>\n",
       "      <td>64.854942</td>\n",
       "      <td>2.069428</td>\n",
       "    </tr>\n",
       "    <tr>\n",
       "      <th>32</th>\n",
       "      <td>VICHADA</td>\n",
       "      <td>32.923077</td>\n",
       "      <td>31.115385</td>\n",
       "      <td>1.807692</td>\n",
       "    </tr>\n",
       "    <tr>\n",
       "      <th>9</th>\n",
       "      <td>CASANARE</td>\n",
       "      <td>67.524887</td>\n",
       "      <td>65.870748</td>\n",
       "      <td>1.654139</td>\n",
       "    </tr>\n",
       "    <tr>\n",
       "      <th>28</th>\n",
       "      <td>SUCRE</td>\n",
       "      <td>56.915612</td>\n",
       "      <td>55.375796</td>\n",
       "      <td>1.539816</td>\n",
       "    </tr>\n",
       "    <tr>\n",
       "      <th>13</th>\n",
       "      <td>CORDOBA</td>\n",
       "      <td>60.913838</td>\n",
       "      <td>59.704724</td>\n",
       "      <td>1.209114</td>\n",
       "    </tr>\n",
       "    <tr>\n",
       "      <th>16</th>\n",
       "      <td>GUAVIARE</td>\n",
       "      <td>37.285714</td>\n",
       "      <td>36.081081</td>\n",
       "      <td>1.204633</td>\n",
       "    </tr>\n",
       "    <tr>\n",
       "      <th>22</th>\n",
       "      <td>NORTE SANTANDER</td>\n",
       "      <td>53.316000</td>\n",
       "      <td>52.219316</td>\n",
       "      <td>1.096684</td>\n",
       "    </tr>\n",
       "    <tr>\n",
       "      <th>27</th>\n",
       "      <td>SANTANDER</td>\n",
       "      <td>49.830558</td>\n",
       "      <td>48.813927</td>\n",
       "      <td>1.016631</td>\n",
       "    </tr>\n",
       "    <tr>\n",
       "      <th>31</th>\n",
       "      <td>VAUPES</td>\n",
       "      <td>29.562500</td>\n",
       "      <td>28.619048</td>\n",
       "      <td>0.943452</td>\n",
       "    </tr>\n",
       "    <tr>\n",
       "      <th>18</th>\n",
       "      <td>LA GUAJIRA</td>\n",
       "      <td>65.953642</td>\n",
       "      <td>65.167488</td>\n",
       "      <td>0.786155</td>\n",
       "    </tr>\n",
       "    <tr>\n",
       "      <th>2</th>\n",
       "      <td>ARAUCA</td>\n",
       "      <td>57.971223</td>\n",
       "      <td>57.652632</td>\n",
       "      <td>0.318591</td>\n",
       "    </tr>\n",
       "    <tr>\n",
       "      <th>15</th>\n",
       "      <td>GUAINIA</td>\n",
       "      <td>34.500000</td>\n",
       "      <td>41.700000</td>\n",
       "      <td>-7.200000</td>\n",
       "    </tr>\n",
       "  </tbody>\n",
       "</table>\n",
       "</div>"
      ],
      "text/plain": [
       "   COLE_DEPTO_UBICACION  CANTIDAD_ESTUDIANTES  PUNT_GLOBAL_pos_covid  \\\n",
       "0              AMAZONAS             66.909091              53.476190   \n",
       "24              QUINDIO             73.473684              62.405714   \n",
       "25            RISARALDA             59.972917              51.821958   \n",
       "4                BOGOTA             78.985906              71.424488   \n",
       "23             PUTUMAYO             51.848889              44.818792   \n",
       "17                HUILA             59.418487              53.372152   \n",
       "1             ANTIOQUIA             67.622042              61.651454   \n",
       "30                VALLE             58.129834              52.825553   \n",
       "19            MAGDALENA             59.177083              54.844156   \n",
       "8               CAQUETA             48.573913              44.500000   \n",
       "14         CUNDINAMARCA             54.690491              50.897738   \n",
       "29               TOLIMA             47.039542              43.550926   \n",
       "10                CAUCA             38.135476              34.756757   \n",
       "26           SAN ANDRES             50.388889              47.125000   \n",
       "5               BOLIVAR             60.732460              57.569038   \n",
       "6                BOYACA             48.936170              45.853543   \n",
       "7                CALDAS             45.396197              42.560570   \n",
       "12                CHOCO             41.006969              38.261538   \n",
       "11                CESAR             66.086106              63.494118   \n",
       "21               NARIÑO             48.720751              46.439669   \n",
       "20                 META             61.976891              59.900312   \n",
       "3             ATLANTICO             66.924370              64.854942   \n",
       "32              VICHADA             32.923077              31.115385   \n",
       "9              CASANARE             67.524887              65.870748   \n",
       "28                SUCRE             56.915612              55.375796   \n",
       "13              CORDOBA             60.913838              59.704724   \n",
       "16             GUAVIARE             37.285714              36.081081   \n",
       "22      NORTE SANTANDER             53.316000              52.219316   \n",
       "27            SANTANDER             49.830558              48.813927   \n",
       "31               VAUPES             29.562500              28.619048   \n",
       "18           LA GUAJIRA             65.953642              65.167488   \n",
       "2                ARAUCA             57.971223              57.652632   \n",
       "15              GUAINIA             34.500000              41.700000   \n",
       "\n",
       "     DIF_ESTU  \n",
       "0   13.432900  \n",
       "24  11.067970  \n",
       "25   8.150958  \n",
       "4    7.561418  \n",
       "23   7.030097  \n",
       "17   6.046335  \n",
       "1    5.970587  \n",
       "30   5.304281  \n",
       "19   4.332927  \n",
       "8    4.073913  \n",
       "14   3.792753  \n",
       "29   3.488616  \n",
       "10   3.378720  \n",
       "26   3.263889  \n",
       "5    3.163423  \n",
       "6    3.082627  \n",
       "7    2.835626  \n",
       "12   2.745430  \n",
       "11   2.591988  \n",
       "21   2.281081  \n",
       "20   2.076579  \n",
       "3    2.069428  \n",
       "32   1.807692  \n",
       "9    1.654139  \n",
       "28   1.539816  \n",
       "13   1.209114  \n",
       "16   1.204633  \n",
       "22   1.096684  \n",
       "27   1.016631  \n",
       "31   0.943452  \n",
       "18   0.786155  \n",
       "2    0.318591  \n",
       "15  -7.200000  "
      ]
     },
     "execution_count": 33,
     "metadata": {},
     "output_type": "execute_result"
    }
   ],
   "source": [
    "data_conso_dif2.sort_values(by=[\"DIF_ESTU\"], ascending=False)"
   ]
  },
  {
   "cell_type": "code",
   "execution_count": 34,
   "metadata": {},
   "outputs": [
    {
     "data": {
      "image/png": "[encoded data removed]",
      "text/plain": [
       "<Figure size 432x288 with 1 Axes>"
      ]
     },
     "metadata": {
      "needs_background": "light"
     },
     "output_type": "display_data"
    }
   ],
   "source": [
    "fig, ax = plt.subplots()\n",
    "ax.scatter(datos['ESTU_DEDICACIONINTERNET_30 minutos o menos'],datos['PUNT_GLOBAL_mean'])\n",
    "plt.show()"
   ]
  },
  {
   "cell_type": "code",
   "execution_count": 36,
   "metadata": {},
   "outputs": [
    {
     "ename": "NameError",
     "evalue": "name 'datos_vector' is not defined",
     "output_type": "error",
     "traceback": [
      "\u001b[1;31m---------------------------------------------------------------------------\u001b[0m",
      "\u001b[1;31mNameError\u001b[0m                                 Traceback (most recent call last)",
      "\u001b[1;32m<ipython-input-36-40663fe568ad>\u001b[0m in \u001b[0;36m<module>\u001b[1;34m\u001b[0m\n\u001b[1;32m----> 1\u001b[1;33m \u001b[0mnp\u001b[0m\u001b[1;33m.\u001b[0m\u001b[0mcorrcoef\u001b[0m\u001b[1;33m(\u001b[0m\u001b[0mdatos_vector\u001b[0m\u001b[1;33m[\u001b[0m\u001b[1;34m'ESTU_DEDICACIONINTERNET_30 minutos o menos'\u001b[0m\u001b[1;33m]\u001b[0m\u001b[1;33m,\u001b[0m\u001b[0mdatos_vector\u001b[0m\u001b[1;33m[\u001b[0m\u001b[1;34m'PUNT_GLOBAL_mean'\u001b[0m\u001b[1;33m]\u001b[0m\u001b[1;33m)\u001b[0m\u001b[1;33m\u001b[0m\u001b[1;33m\u001b[0m\u001b[0m\n\u001b[0m",
      "\u001b[1;31mNameError\u001b[0m: name 'datos_vector' is not defined"
     ]
    }
   ],
   "source": [
    "np.corrcoef(datos_vector['ESTU_DEDICACIONINTERNET_30 minutos o menos'],datos_vector['PUNT_GLOBAL_mean'])"
   ]
  },
  {
   "cell_type": "code",
   "execution_count": 37,
   "metadata": {},
   "outputs": [
    {
     "data": {
      "text/plain": [
       "Text(0.5, 0, 'value')"
      ]
     },
     "execution_count": 37,
     "metadata": {},
     "output_type": "execute_result"
    },
    {
     "data": {
      "image/png": "[encoded data removed]",
      "text/plain": [
       "<Figure size 432x288 with 1 Axes>"
      ]
     },
     "metadata": {
      "needs_background": "light"
     },
     "output_type": "display_data"
    }
   ],
   "source": [
    "fig, ax1 = plt.subplots()\n",
    "ax1.hist(datos[\"CANTIDAD_ESTUDIANTES\"], 100)\n",
    "ax1.set_ylabel('density')\n",
    "ax1.set_xlabel('value')\n",
    "#ax1.hist(datos[\"CANTIDAD_ESTUDIANTES\"])"
   ]
  },
  {
   "cell_type": "code",
   "execution_count": 38,
   "metadata": {},
   "outputs": [],
   "source": [
    "datos_vector=pd.read_excel(\"D:/Universidad/Maestria/Tesis/DATOS/Data_Agrupada_depurada/datos_imputados.xlsx\")"
   ]
  },
  {
   "cell_type": "code",
   "execution_count": 39,
   "metadata": {},
   "outputs": [
    {
     "data": {
      "text/plain": [
       "Index(['Unnamed: 0', 'CANTIDAD_ESTUDIANTES', 'COLE_AREA_UBICACION',\n",
       "       'COLE_BILINGUE', 'COLE_CALENDARIO', 'COLE_CARACTER', 'COLE_GENERO',\n",
       "       'COLE_NATURALEZA', 'COLE_SEDE_PRINCIPAL',\n",
       "       'ESTU_DEDICACIONINTERNET_30 minutos o menos',\n",
       "       'ESTU_DEDICACIONINTERNET_Entre 1 y 3 horas',\n",
       "       'ESTU_DEDICACIONINTERNET_Entre 30 y 60 minutos',\n",
       "       'ESTU_DEDICACIONINTERNET_Más de 3 horas',\n",
       "       'ESTU_DEDICACIONINTERNET_No Navega Internet',\n",
       "       'ESTU_DEDICACIONLECTURADIARIA_30 minutos o menos',\n",
       "       'ESTU_DEDICACIONLECTURADIARIA_Entre 1 y 2 horas',\n",
       "       'ESTU_DEDICACIONLECTURADIARIA_Entre 30 y 60 minutos',\n",
       "       'ESTU_DEDICACIONLECTURADIARIA_Más de 2 horas',\n",
       "       'ESTU_DEDICACIONLECTURADIARIA_No leo por entretenimiento',\n",
       "       'ESTU_GENERO_F', 'ESTU_GENERO_M', 'ESTU_TIENEETNIA_No',\n",
       "       'ESTU_TIENEETNIA_Si',\n",
       "       'FAMI_EDUCACIONMADRE_Educación profesional completa',\n",
       "       'FAMI_EDUCACIONMADRE_Educación profesional incompleta',\n",
       "       'FAMI_EDUCACIONMADRE_Ninguno', 'FAMI_EDUCACIONMADRE_No Aplica',\n",
       "       'FAMI_EDUCACIONMADRE_No sabe', 'FAMI_EDUCACIONMADRE_Postgrado',\n",
       "       'FAMI_EDUCACIONMADRE_Primaria completa',\n",
       "       'FAMI_EDUCACIONMADRE_Primaria incompleta',\n",
       "       'FAMI_EDUCACIONMADRE_Secundaria (Bachillerato) completa',\n",
       "       'FAMI_EDUCACIONMADRE_Secundaria (Bachillerato) incompleta',\n",
       "       'FAMI_EDUCACIONMADRE_Técnica o tecnológica completa',\n",
       "       'FAMI_EDUCACIONMADRE_Técnica o tecnológica incompleta',\n",
       "       'FAMI_EDUCACIONPADRE_Educación profesional completa',\n",
       "       'FAMI_EDUCACIONPADRE_Educación profesional incompleta',\n",
       "       'FAMI_EDUCACIONPADRE_Ninguno', 'FAMI_EDUCACIONPADRE_No Aplica',\n",
       "       'FAMI_EDUCACIONPADRE_No sabe', 'FAMI_EDUCACIONPADRE_Postgrado',\n",
       "       'FAMI_EDUCACIONPADRE_Primaria completa',\n",
       "       'FAMI_EDUCACIONPADRE_Primaria incompleta',\n",
       "       'FAMI_EDUCACIONPADRE_Secundaria (Bachillerato) completa',\n",
       "       'FAMI_EDUCACIONPADRE_Secundaria (Bachillerato) incompleta',\n",
       "       'FAMI_EDUCACIONPADRE_Técnica o tecnológica completa',\n",
       "       'FAMI_EDUCACIONPADRE_Técnica o tecnológica incompleta',\n",
       "       'FAMI_ESTRATOVIVIENDA_Estrato 1', 'FAMI_ESTRATOVIVIENDA_Estrato 2',\n",
       "       'FAMI_ESTRATOVIVIENDA_Estrato 3', 'FAMI_ESTRATOVIVIENDA_Estrato 4',\n",
       "       'FAMI_ESTRATOVIVIENDA_Estrato 5', 'FAMI_ESTRATOVIVIENDA_Estrato 6',\n",
       "       'FAMI_ESTRATOVIVIENDA_Sin Estrato', 'FAMI_PERSONASHOGAR_1 a 2',\n",
       "       'FAMI_PERSONASHOGAR_3 a 4', 'FAMI_PERSONASHOGAR_5 a 6',\n",
       "       'FAMI_PERSONASHOGAR_7 a 8', 'FAMI_PERSONASHOGAR_9 o más',\n",
       "       'FAMI_SITUACIONECONOMICA_Igual', 'FAMI_SITUACIONECONOMICA_Mejor',\n",
       "       'FAMI_SITUACIONECONOMICA_Peor', 'FAMI_TIENECOMPUTADOR_No',\n",
       "       'FAMI_TIENECOMPUTADOR_Si', 'FAMI_TIENEINTERNET_No',\n",
       "       'FAMI_TIENEINTERNET_Si', 'PERIODO', 'PUNT_GLOBAL_mean',\n",
       "       'PUNT_GLOBAL_median', 'PUNT_GLOBAL_std'],\n",
       "      dtype='object')"
      ]
     },
     "execution_count": 39,
     "metadata": {},
     "output_type": "execute_result"
    }
   ],
   "source": [
    "datos_vector.columns"
   ]
  },
  {
   "cell_type": "code",
   "execution_count": 40,
   "metadata": {},
   "outputs": [
    {
     "data": {
      "image/png": "[encoded data removed]",
      "text/plain": [
       "<Figure size 432x288 with 1 Axes>"
      ]
     },
     "metadata": {
      "needs_background": "light"
     },
     "output_type": "display_data"
    }
   ],
   "source": [
    "fig, ax = plt.subplots()\n",
    "ax.scatter(datos_vector['CANTIDAD_ESTUDIANTES'],datos_vector['PUNT_GLOBAL_mean'])\n",
    "plt.show()"
   ]
  },
  {
   "cell_type": "code",
   "execution_count": 41,
   "metadata": {},
   "outputs": [
    {
     "data": {
      "text/plain": [
       "array([[1.       , 0.0843744],\n",
       "       [0.0843744, 1.       ]])"
      ]
     },
     "execution_count": 41,
     "metadata": {},
     "output_type": "execute_result"
    }
   ],
   "source": [
    "np.corrcoef(datos_vector['CANTIDAD_ESTUDIANTES'],datos_vector['PUNT_GLOBAL_mean'])"
   ]
  },
  {
   "cell_type": "code",
   "execution_count": 42,
   "metadata": {},
   "outputs": [
    {
     "data": {
      "image/png": "[encoded data removed]",
      "text/plain": [
       "<Figure size 432x288 with 1 Axes>"
      ]
     },
     "metadata": {
      "needs_background": "light"
     },
     "output_type": "display_data"
    }
   ],
   "source": [
    "boxplot = datos_vector.boxplot(column=['PUNT_GLOBAL_mean'] , by='COLE_AREA_UBICACION')"
   ]
  },
  {
   "cell_type": "code",
   "execution_count": 43,
   "metadata": {},
   "outputs": [
    {
     "data": {
      "image/png": "[encoded data removed]",
      "text/plain": [
       "<Figure size 432x288 with 1 Axes>"
      ]
     },
     "metadata": {
      "needs_background": "light"
     },
     "output_type": "display_data"
    }
   ],
   "source": [
    "boxplot = datos_vector.boxplot(column=['PUNT_GLOBAL_mean'] , by='COLE_AREA_UBICACION')"
   ]
  },
  {
   "cell_type": "code",
   "execution_count": 44,
   "metadata": {},
   "outputs": [
    {
     "data": {
      "image/png": "[encoded data removed]",
      "text/plain": [
       "<Figure size 432x288 with 1 Axes>"
      ]
     },
     "metadata": {
      "needs_background": "light"
     },
     "output_type": "display_data"
    }
   ],
   "source": [
    "boxplot = datos_vector.boxplot(column=['PUNT_GLOBAL_mean'] , by='COLE_CALENDARIO')"
   ]
  },
  {
   "cell_type": "code",
   "execution_count": 45,
   "metadata": {},
   "outputs": [
    {
     "data": {
      "image/png": "[encoded data removed]",
      "text/plain": [
       "<Figure size 432x288 with 1 Axes>"
      ]
     },
     "metadata": {
      "needs_background": "light"
     },
     "output_type": "display_data"
    }
   ],
   "source": [
    "boxplot = datos_vector.boxplot(column=['PUNT_GLOBAL_mean'] , by='COLE_CARACTER')"
   ]
  },
  {
   "cell_type": "code",
   "execution_count": 46,
   "metadata": {},
   "outputs": [
    {
     "data": {
      "image/png": "[encoded data removed]",
      "text/plain": [
       "<Figure size 432x288 with 1 Axes>"
      ]
     },
     "metadata": {
      "needs_background": "light"
     },
     "output_type": "display_data"
    }
   ],
   "source": [
    "boxplot = datos_vector.boxplot(column=['PUNT_GLOBAL_mean'] , by='COLE_GENERO')"
   ]
  },
  {
   "cell_type": "code",
   "execution_count": 47,
   "metadata": {},
   "outputs": [
    {
     "data": {
      "image/png": "[encoded data removed]",
      "text/plain": [
       "<Figure size 432x288 with 1 Axes>"
      ]
     },
     "metadata": {
      "needs_background": "light"
     },
     "output_type": "display_data"
    }
   ],
   "source": [
    "boxplot = datos_vector.boxplot(column=['PUNT_GLOBAL_mean'] , by='COLE_NATURALEZA')"
   ]
  },
  {
   "cell_type": "code",
   "execution_count": 48,
   "metadata": {},
   "outputs": [
    {
     "data": {
      "image/png": "[encoded data removed]",
      "text/plain": [
       "<Figure size 432x288 with 1 Axes>"
      ]
     },
     "metadata": {
      "needs_background": "light"
     },
     "output_type": "display_data"
    }
   ],
   "source": [
    "boxplot = datos_vector.boxplot(column=['PUNT_GLOBAL_mean'] , by='COLE_SEDE_PRINCIPAL')"
   ]
  },
  {
   "cell_type": "code",
   "execution_count": 49,
   "metadata": {},
   "outputs": [
    {
     "data": {
      "image/png": "[encoded data removed]",
      "text/plain": [
       "<Figure size 432x288 with 1 Axes>"
      ]
     },
     "metadata": {
      "needs_background": "light"
     },
     "output_type": "display_data"
    }
   ],
   "source": [
    "fig, ax = plt.subplots()\n",
    "ax.scatter(datos_vector['ESTU_DEDICACIONINTERNET_Entre 1 y 3 horas'],datos_vector['PUNT_GLOBAL_mean'])\n",
    "plt.show()"
   ]
  },
  {
   "cell_type": "code",
   "execution_count": 50,
   "metadata": {},
   "outputs": [
    {
     "data": {
      "text/plain": [
       "array([[1.        , 0.23011357],\n",
       "       [0.23011357, 1.        ]])"
      ]
     },
     "execution_count": 50,
     "metadata": {},
     "output_type": "execute_result"
    }
   ],
   "source": [
    "np.corrcoef(datos_vector['ESTU_DEDICACIONINTERNET_Entre 1 y 3 horas'],datos_vector['PUNT_GLOBAL_mean'])"
   ]
  },
  {
   "cell_type": "code",
   "execution_count": 51,
   "metadata": {},
   "outputs": [
    {
     "data": {
      "image/png": "[encoded data removed]",
      "text/plain": [
       "<Figure size 432x288 with 1 Axes>"
      ]
     },
     "metadata": {
      "needs_background": "light"
     },
     "output_type": "display_data"
    }
   ],
   "source": [
    "fig, ax = plt.subplots()\n",
    "ax.scatter(datos_vector['ESTU_DEDICACIONINTERNET_Entre 30 y 60 minutos'],datos_vector['PUNT_GLOBAL_mean'])\n",
    "plt.show()"
   ]
  },
  {
   "cell_type": "code",
   "execution_count": 52,
   "metadata": {},
   "outputs": [
    {
     "data": {
      "text/plain": [
       "array([[1.        , 0.02067903],\n",
       "       [0.02067903, 1.        ]])"
      ]
     },
     "execution_count": 52,
     "metadata": {},
     "output_type": "execute_result"
    }
   ],
   "source": [
    "np.corrcoef(datos_vector['ESTU_DEDICACIONINTERNET_Entre 30 y 60 minutos'],datos_vector['PUNT_GLOBAL_mean'])"
   ]
  },
  {
   "cell_type": "code",
   "execution_count": 53,
   "metadata": {},
   "outputs": [
    {
     "data": {
      "image/png": "[encoded data removed]",
      "text/plain": [
       "<Figure size 432x288 with 1 Axes>"
      ]
     },
     "metadata": {
      "needs_background": "light"
     },
     "output_type": "display_data"
    }
   ],
   "source": [
    "fig, ax = plt.subplots()\n",
    "ax.scatter(datos_vector['ESTU_DEDICACIONINTERNET_Más de 3 horas'],datos_vector['PUNT_GLOBAL_mean'])\n",
    "plt.show()"
   ]
  },
  {
   "cell_type": "code",
   "execution_count": 54,
   "metadata": {},
   "outputs": [
    {
     "data": {
      "text/plain": [
       "array([[1.        , 0.24194801],\n",
       "       [0.24194801, 1.        ]])"
      ]
     },
     "execution_count": 54,
     "metadata": {},
     "output_type": "execute_result"
    }
   ],
   "source": [
    "np.corrcoef(datos_vector['ESTU_DEDICACIONINTERNET_Más de 3 horas'],datos_vector['PUNT_GLOBAL_mean'])"
   ]
  },
  {
   "cell_type": "code",
   "execution_count": 55,
   "metadata": {},
   "outputs": [
    {
     "data": {
      "image/png": "[encoded data removed]",
      "text/plain": [
       "<Figure size 432x288 with 1 Axes>"
      ]
     },
     "metadata": {
      "needs_background": "light"
     },
     "output_type": "display_data"
    }
   ],
   "source": [
    "fig, ax = plt.subplots()\n",
    "ax.scatter(datos_vector['ESTU_DEDICACIONINTERNET_No Navega Internet'],datos_vector['PUNT_GLOBAL_mean'])\n",
    "plt.show()"
   ]
  },
  {
   "cell_type": "code",
   "execution_count": 56,
   "metadata": {},
   "outputs": [
    {
     "data": {
      "text/plain": [
       "array([[ 1.       , -0.2951348],\n",
       "       [-0.2951348,  1.       ]])"
      ]
     },
     "execution_count": 56,
     "metadata": {},
     "output_type": "execute_result"
    }
   ],
   "source": [
    "np.corrcoef(datos_vector['ESTU_DEDICACIONINTERNET_No Navega Internet'],datos_vector['PUNT_GLOBAL_mean'])"
   ]
  },
  {
   "cell_type": "code",
   "execution_count": 57,
   "metadata": {},
   "outputs": [
    {
     "data": {
      "image/png": "[encoded data removed]",
      "text/plain": [
       "<Figure size 432x288 with 1 Axes>"
      ]
     },
     "metadata": {
      "needs_background": "light"
     },
     "output_type": "display_data"
    }
   ],
   "source": [
    "fig, ax = plt.subplots()\n",
    "ax.scatter(datos_vector['ESTU_DEDICACIONLECTURADIARIA_30 minutos o menos'],datos_vector['PUNT_GLOBAL_mean'])\n",
    "plt.show()"
   ]
  },
  {
   "cell_type": "code",
   "execution_count": 58,
   "metadata": {},
   "outputs": [
    {
     "data": {
      "text/plain": [
       "array([[1.        , 0.02242691],\n",
       "       [0.02242691, 1.        ]])"
      ]
     },
     "execution_count": 58,
     "metadata": {},
     "output_type": "execute_result"
    }
   ],
   "source": [
    "np.corrcoef(datos_vector['ESTU_DEDICACIONLECTURADIARIA_30 minutos o menos'],datos_vector['PUNT_GLOBAL_mean'])"
   ]
  },
  {
   "cell_type": "code",
   "execution_count": 59,
   "metadata": {},
   "outputs": [
    {
     "data": {
      "image/png": "[encoded data removed]",
      "text/plain": [
       "<Figure size 432x288 with 1 Axes>"
      ]
     },
     "metadata": {
      "needs_background": "light"
     },
     "output_type": "display_data"
    }
   ],
   "source": [
    "fig, ax = plt.subplots()\n",
    "ax.scatter(datos_vector['ESTU_DEDICACIONLECTURADIARIA_Entre 1 y 2 horas'],datos_vector['PUNT_GLOBAL_mean'])\n",
    "plt.show()"
   ]
  },
  {
   "cell_type": "code",
   "execution_count": 60,
   "metadata": {},
   "outputs": [
    {
     "data": {
      "text/plain": [
       "array([[1.        , 0.16823077],\n",
       "       [0.16823077, 1.        ]])"
      ]
     },
     "execution_count": 60,
     "metadata": {},
     "output_type": "execute_result"
    }
   ],
   "source": [
    "np.corrcoef(datos_vector['ESTU_DEDICACIONLECTURADIARIA_Entre 1 y 2 horas'],datos_vector['PUNT_GLOBAL_mean'])"
   ]
  },
  {
   "cell_type": "code",
   "execution_count": 61,
   "metadata": {},
   "outputs": [
    {
     "data": {
      "image/png": "[encoded data removed]",
      "text/plain": [
       "<Figure size 432x288 with 1 Axes>"
      ]
     },
     "metadata": {
      "needs_background": "light"
     },
     "output_type": "display_data"
    }
   ],
   "source": [
    "fig, ax = plt.subplots()\n",
    "ax.scatter(datos_vector['ESTU_DEDICACIONLECTURADIARIA_Entre 30 y 60 minutos'],datos_vector['PUNT_GLOBAL_mean'])\n",
    "plt.show()"
   ]
  },
  {
   "cell_type": "code",
   "execution_count": 62,
   "metadata": {},
   "outputs": [
    {
     "data": {
      "text/plain": [
       "array([[1.        , 0.17275976],\n",
       "       [0.17275976, 1.        ]])"
      ]
     },
     "execution_count": 62,
     "metadata": {},
     "output_type": "execute_result"
    }
   ],
   "source": [
    "np.corrcoef(datos_vector['ESTU_DEDICACIONLECTURADIARIA_Entre 30 y 60 minutos'],datos_vector['PUNT_GLOBAL_mean'])"
   ]
  },
  {
   "cell_type": "code",
   "execution_count": 63,
   "metadata": {},
   "outputs": [
    {
     "data": {
      "image/png": "[encoded data removed]",
      "text/plain": [
       "<Figure size 432x288 with 1 Axes>"
      ]
     },
     "metadata": {
      "needs_background": "light"
     },
     "output_type": "display_data"
    }
   ],
   "source": [
    "fig, ax = plt.subplots()\n",
    "ax.scatter(datos_vector['ESTU_DEDICACIONLECTURADIARIA_Más de 2 horas'],datos_vector['PUNT_GLOBAL_mean'])\n",
    "plt.show()"
   ]
  },
  {
   "cell_type": "code",
   "execution_count": 64,
   "metadata": {},
   "outputs": [
    {
     "data": {
      "text/plain": [
       "array([[1.        , 0.16763563],\n",
       "       [0.16763563, 1.        ]])"
      ]
     },
     "execution_count": 64,
     "metadata": {},
     "output_type": "execute_result"
    }
   ],
   "source": [
    "np.corrcoef(datos_vector['ESTU_DEDICACIONLECTURADIARIA_Más de 2 horas'],datos_vector['PUNT_GLOBAL_mean'])"
   ]
  },
  {
   "cell_type": "code",
   "execution_count": 65,
   "metadata": {},
   "outputs": [
    {
     "data": {
      "image/png": "[encoded data removed]",
      "text/plain": [
       "<Figure size 432x288 with 1 Axes>"
      ]
     },
     "metadata": {
      "needs_background": "light"
     },
     "output_type": "display_data"
    }
   ],
   "source": [
    "fig, ax = plt.subplots()\n",
    "ax.scatter(datos_vector['ESTU_DEDICACIONLECTURADIARIA_No leo por entretenimiento'],datos_vector['PUNT_GLOBAL_mean'])\n",
    "plt.show()"
   ]
  },
  {
   "cell_type": "code",
   "execution_count": 66,
   "metadata": {},
   "outputs": [
    {
     "data": {
      "text/plain": [
       "array([[1.        , 0.04588411],\n",
       "       [0.04588411, 1.        ]])"
      ]
     },
     "execution_count": 66,
     "metadata": {},
     "output_type": "execute_result"
    }
   ],
   "source": [
    "np.corrcoef(datos_vector['ESTU_DEDICACIONLECTURADIARIA_No leo por entretenimiento'],datos_vector['PUNT_GLOBAL_mean'])"
   ]
  },
  {
   "cell_type": "code",
   "execution_count": 67,
   "metadata": {},
   "outputs": [
    {
     "data": {
      "image/png": "[encoded data removed]",
      "text/plain": [
       "<Figure size 432x288 with 1 Axes>"
      ]
     },
     "metadata": {
      "needs_background": "light"
     },
     "output_type": "display_data"
    }
   ],
   "source": [
    "fig, ax = plt.subplots()\n",
    "ax.scatter(datos_vector['FAMI_EDUCACIONMADRE_Educación profesional completa'],datos_vector['PUNT_GLOBAL_mean'])\n",
    "plt.show()"
   ]
  },
  {
   "cell_type": "code",
   "execution_count": 68,
   "metadata": {},
   "outputs": [
    {
     "data": {
      "text/plain": [
       "array([[1.        , 0.50464154],\n",
       "       [0.50464154, 1.        ]])"
      ]
     },
     "execution_count": 68,
     "metadata": {},
     "output_type": "execute_result"
    }
   ],
   "source": [
    "np.corrcoef(datos_vector['FAMI_EDUCACIONMADRE_Educación profesional completa'],datos_vector['PUNT_GLOBAL_mean'])"
   ]
  },
  {
   "cell_type": "code",
   "execution_count": 69,
   "metadata": {},
   "outputs": [
    {
     "data": {
      "image/png": "[encoded data removed]",
      "text/plain": [
       "<Figure size 432x288 with 1 Axes>"
      ]
     },
     "metadata": {
      "needs_background": "light"
     },
     "output_type": "display_data"
    }
   ],
   "source": [
    "fig, ax = plt.subplots()\n",
    "ax.scatter(datos_vector['FAMI_EDUCACIONMADRE_Educación profesional incompleta'],datos_vector['PUNT_GLOBAL_mean'])\n",
    "plt.show()"
   ]
  },
  {
   "cell_type": "code",
   "execution_count": 70,
   "metadata": {},
   "outputs": [
    {
     "data": {
      "text/plain": [
       "array([[1.        , 0.34450535],\n",
       "       [0.34450535, 1.        ]])"
      ]
     },
     "execution_count": 70,
     "metadata": {},
     "output_type": "execute_result"
    }
   ],
   "source": [
    "np.corrcoef(datos_vector['FAMI_EDUCACIONMADRE_Educación profesional incompleta'],datos_vector['PUNT_GLOBAL_mean'])"
   ]
  },
  {
   "cell_type": "code",
   "execution_count": 71,
   "metadata": {},
   "outputs": [
    {
     "data": {
      "image/png": "[encoded data removed]",
      "text/plain": [
       "<Figure size 432x288 with 1 Axes>"
      ]
     },
     "metadata": {
      "needs_background": "light"
     },
     "output_type": "display_data"
    }
   ],
   "source": [
    "fig, ax = plt.subplots()\n",
    "ax.scatter(datos_vector['FAMI_EDUCACIONMADRE_Ninguno'],datos_vector['PUNT_GLOBAL_mean'])\n",
    "plt.show()"
   ]
  },
  {
   "cell_type": "code",
   "execution_count": 72,
   "metadata": {},
   "outputs": [
    {
     "data": {
      "text/plain": [
       "array([[ 1.        , -0.29883855],\n",
       "       [-0.29883855,  1.        ]])"
      ]
     },
     "execution_count": 72,
     "metadata": {},
     "output_type": "execute_result"
    }
   ],
   "source": [
    "np.corrcoef(datos_vector['FAMI_EDUCACIONMADRE_Ninguno'],datos_vector['PUNT_GLOBAL_mean'])"
   ]
  },
  {
   "cell_type": "code",
   "execution_count": 73,
   "metadata": {},
   "outputs": [
    {
     "data": {
      "image/png": "[encoded data removed]",
      "text/plain": [
       "<Figure size 432x288 with 1 Axes>"
      ]
     },
     "metadata": {
      "needs_background": "light"
     },
     "output_type": "display_data"
    },
    {
     "data": {
      "text/plain": [
       "array([[ 1.       , -0.0291041],\n",
       "       [-0.0291041,  1.       ]])"
      ]
     },
     "execution_count": 73,
     "metadata": {},
     "output_type": "execute_result"
    }
   ],
   "source": [
    "fig, ax = plt.subplots()\n",
    "ax.scatter(datos_vector['FAMI_EDUCACIONMADRE_No Aplica'],datos_vector['PUNT_GLOBAL_mean'])\n",
    "plt.show()\n",
    "np.corrcoef(datos_vector['FAMI_EDUCACIONMADRE_No Aplica'],datos_vector['PUNT_GLOBAL_mean'])"
   ]
  },
  {
   "cell_type": "code",
   "execution_count": 74,
   "metadata": {},
   "outputs": [
    {
     "data": {
      "image/png": "[encoded data removed]",
      "text/plain": [
       "<Figure size 432x288 with 1 Axes>"
      ]
     },
     "metadata": {
      "needs_background": "light"
     },
     "output_type": "display_data"
    },
    {
     "data": {
      "text/plain": [
       "array([[1.        , 0.11840972],\n",
       "       [0.11840972, 1.        ]])"
      ]
     },
     "execution_count": 74,
     "metadata": {},
     "output_type": "execute_result"
    }
   ],
   "source": [
    "fig, ax = plt.subplots()\n",
    "ax.scatter(datos_vector['FAMI_EDUCACIONMADRE_No sabe'],datos_vector['PUNT_GLOBAL_mean'])\n",
    "plt.show()\n",
    "np.corrcoef(datos_vector['FAMI_EDUCACIONMADRE_No sabe'],datos_vector['PUNT_GLOBAL_mean'])"
   ]
  },
  {
   "cell_type": "code",
   "execution_count": 75,
   "metadata": {},
   "outputs": [
    {
     "data": {
      "image/png": "[encoded data removed]",
      "text/plain": [
       "<Figure size 432x288 with 1 Axes>"
      ]
     },
     "metadata": {
      "needs_background": "light"
     },
     "output_type": "display_data"
    },
    {
     "data": {
      "text/plain": [
       "array([[1.        , 0.52644455],\n",
       "       [0.52644455, 1.        ]])"
      ]
     },
     "execution_count": 75,
     "metadata": {},
     "output_type": "execute_result"
    }
   ],
   "source": [
    "fig, ax = plt.subplots()\n",
    "ax.scatter(datos_vector['FAMI_EDUCACIONMADRE_Postgrado'],datos_vector['PUNT_GLOBAL_mean'])\n",
    "plt.show()\n",
    "np.corrcoef(datos_vector['FAMI_EDUCACIONMADRE_Postgrado'],datos_vector['PUNT_GLOBAL_mean'])"
   ]
  },
  {
   "cell_type": "code",
   "execution_count": 76,
   "metadata": {},
   "outputs": [
    {
     "data": {
      "image/png": "[encoded data removed]",
      "text/plain": [
       "<Figure size 432x288 with 1 Axes>"
      ]
     },
     "metadata": {
      "needs_background": "light"
     },
     "output_type": "display_data"
    },
    {
     "data": {
      "text/plain": [
       "array([[ 1.        , -0.17854736],\n",
       "       [-0.17854736,  1.        ]])"
      ]
     },
     "execution_count": 76,
     "metadata": {},
     "output_type": "execute_result"
    }
   ],
   "source": [
    "fig, ax = plt.subplots()\n",
    "ax.scatter(datos_vector['FAMI_EDUCACIONMADRE_Primaria completa'],datos_vector['PUNT_GLOBAL_mean'])\n",
    "plt.show()\n",
    "np.corrcoef(datos_vector['FAMI_EDUCACIONMADRE_Primaria completa'],datos_vector['PUNT_GLOBAL_mean'])"
   ]
  },
  {
   "cell_type": "code",
   "execution_count": 77,
   "metadata": {},
   "outputs": [
    {
     "data": {
      "image/png": "[encoded data removed]",
      "text/plain": [
       "<Figure size 432x288 with 1 Axes>"
      ]
     },
     "metadata": {
      "needs_background": "light"
     },
     "output_type": "display_data"
    },
    {
     "data": {
      "text/plain": [
       "array([[ 1.        , -0.26443406],\n",
       "       [-0.26443406,  1.        ]])"
      ]
     },
     "execution_count": 77,
     "metadata": {},
     "output_type": "execute_result"
    }
   ],
   "source": [
    "fig, ax = plt.subplots()\n",
    "ax.scatter(datos_vector['FAMI_EDUCACIONMADRE_Primaria incompleta'],datos_vector['PUNT_GLOBAL_mean'])\n",
    "plt.show()\n",
    "np.corrcoef(datos_vector['FAMI_EDUCACIONMADRE_Primaria incompleta'],datos_vector['PUNT_GLOBAL_mean'])"
   ]
  },
  {
   "cell_type": "code",
   "execution_count": 78,
   "metadata": {},
   "outputs": [
    {
     "data": {
      "image/png": "[encoded data removed]",
      "text/plain": [
       "<Figure size 432x288 with 1 Axes>"
      ]
     },
     "metadata": {
      "needs_background": "light"
     },
     "output_type": "display_data"
    },
    {
     "data": {
      "text/plain": [
       "array([[1.        , 0.03464031],\n",
       "       [0.03464031, 1.        ]])"
      ]
     },
     "execution_count": 78,
     "metadata": {},
     "output_type": "execute_result"
    }
   ],
   "source": [
    "fig, ax = plt.subplots()\n",
    "ax.scatter(datos_vector['FAMI_EDUCACIONMADRE_Secundaria (Bachillerato) completa'],datos_vector['PUNT_GLOBAL_mean'])\n",
    "plt.show()\n",
    "np.corrcoef(datos_vector['FAMI_EDUCACIONMADRE_Secundaria (Bachillerato) completa'],datos_vector['PUNT_GLOBAL_mean'])"
   ]
  },
  {
   "cell_type": "code",
   "execution_count": 79,
   "metadata": {},
   "outputs": [
    {
     "data": {
      "image/png": "[encoded data removed]",
      "text/plain": [
       "<Figure size 432x288 with 1 Axes>"
      ]
     },
     "metadata": {
      "needs_background": "light"
     },
     "output_type": "display_data"
    },
    {
     "data": {
      "text/plain": [
       "array([[ 1.        , -0.09891596],\n",
       "       [-0.09891596,  1.        ]])"
      ]
     },
     "execution_count": 79,
     "metadata": {},
     "output_type": "execute_result"
    }
   ],
   "source": [
    "fig, ax = plt.subplots()\n",
    "ax.scatter(datos_vector['FAMI_EDUCACIONMADRE_Secundaria (Bachillerato) incompleta'],datos_vector['PUNT_GLOBAL_mean'])\n",
    "plt.show()\n",
    "np.corrcoef(datos_vector['FAMI_EDUCACIONMADRE_Secundaria (Bachillerato) incompleta'],datos_vector['PUNT_GLOBAL_mean'])"
   ]
  },
  {
   "cell_type": "code",
   "execution_count": 80,
   "metadata": {},
   "outputs": [
    {
     "data": {
      "image/png": "[encoded data removed]",
      "text/plain": [
       "<Figure size 432x288 with 1 Axes>"
      ]
     },
     "metadata": {
      "needs_background": "light"
     },
     "output_type": "display_data"
    },
    {
     "data": {
      "text/plain": [
       "array([[1.        , 0.20485962],\n",
       "       [0.20485962, 1.        ]])"
      ]
     },
     "execution_count": 80,
     "metadata": {},
     "output_type": "execute_result"
    }
   ],
   "source": [
    "fig, ax = plt.subplots()\n",
    "ax.scatter(datos_vector['FAMI_EDUCACIONMADRE_Técnica o tecnológica completa'],datos_vector['PUNT_GLOBAL_mean'])\n",
    "plt.show()\n",
    "np.corrcoef(datos_vector['FAMI_EDUCACIONMADRE_Técnica o tecnológica completa'],datos_vector['PUNT_GLOBAL_mean'])"
   ]
  },
  {
   "cell_type": "code",
   "execution_count": 81,
   "metadata": {},
   "outputs": [
    {
     "data": {
      "image/png": "[encoded data removed]",
      "text/plain": [
       "<Figure size 432x288 with 1 Axes>"
      ]
     },
     "metadata": {
      "needs_background": "light"
     },
     "output_type": "display_data"
    },
    {
     "data": {
      "text/plain": [
       "array([[1.        , 0.13696293],\n",
       "       [0.13696293, 1.        ]])"
      ]
     },
     "execution_count": 81,
     "metadata": {},
     "output_type": "execute_result"
    }
   ],
   "source": [
    "fig, ax = plt.subplots()\n",
    "ax.scatter(datos_vector['FAMI_EDUCACIONMADRE_Técnica o tecnológica incompleta'],datos_vector['PUNT_GLOBAL_mean'])\n",
    "plt.show()\n",
    "np.corrcoef(datos_vector['FAMI_EDUCACIONMADRE_Técnica o tecnológica incompleta'],datos_vector['PUNT_GLOBAL_mean'])"
   ]
  },
  {
   "cell_type": "code",
   "execution_count": 83,
   "metadata": {},
   "outputs": [
    {
     "ename": "IndentationError",
     "evalue": "unexpected indent (<ipython-input-83-a04daede187c>, line 2)",
     "output_type": "error",
     "traceback": [
      "\u001b[1;36m  File \u001b[1;32m\"<ipython-input-83-a04daede187c>\"\u001b[1;36m, line \u001b[1;32m2\u001b[0m\n\u001b[1;33m    ax.scatter(datos_vector['FAMI_EDUCACIONPADRE_Educación profesional completa'],datos_vector['PUNT_GLOBAL_mean'])\u001b[0m\n\u001b[1;37m    ^\u001b[0m\n\u001b[1;31mIndentationError\u001b[0m\u001b[1;31m:\u001b[0m unexpected indent\n"
     ]
    }
   ],
   "source": [
    "fig, ax = plt.subplots()\n",
    "    ax.scatter(datos_vector['FAMI_EDUCACIONPADRE_Educación profesional completa'],datos_vector['PUNT_GLOBAL_mean'])\n",
    "plt.show()\n",
    "np.corrcoef(datos_vector['FAMI_EDUCACIONPADRE_Educación profesional completa'],datos_vector['PUNT_GLOBAL_mean'])"
   ]
  },
  {
   "cell_type": "code",
   "execution_count": 84,
   "metadata": {},
   "outputs": [
    {
     "data": {
      "image/png": "[encoded data removed]",
      "text/plain": [
       "<Figure size 432x288 with 1 Axes>"
      ]
     },
     "metadata": {
      "needs_background": "light"
     },
     "output_type": "display_data"
    },
    {
     "data": {
      "text/plain": [
       "array([[1.        , 0.33777327],\n",
       "       [0.33777327, 1.        ]])"
      ]
     },
     "execution_count": 84,
     "metadata": {},
     "output_type": "execute_result"
    }
   ],
   "source": [
    "fig, ax = plt.subplots()\n",
    "ax.scatter(datos_vector['FAMI_EDUCACIONPADRE_Educación profesional incompleta'],datos_vector['PUNT_GLOBAL_mean'])\n",
    "plt.show()\n",
    "np.corrcoef(datos_vector['FAMI_EDUCACIONPADRE_Educación profesional incompleta'],datos_vector['PUNT_GLOBAL_mean'])"
   ]
  },
  {
   "cell_type": "code",
   "execution_count": 85,
   "metadata": {},
   "outputs": [
    {
     "data": {
      "image/png": "[encoded data removed]",
      "text/plain": [
       "<Figure size 432x288 with 1 Axes>"
      ]
     },
     "metadata": {
      "needs_background": "light"
     },
     "output_type": "display_data"
    },
    {
     "data": {
      "text/plain": [
       "array([[1.        , 0.50831631],\n",
       "       [0.50831631, 1.        ]])"
      ]
     },
     "execution_count": 85,
     "metadata": {},
     "output_type": "execute_result"
    }
   ],
   "source": [
    "fig, ax = plt.subplots()\n",
    "ax.scatter(datos_vector['FAMI_EDUCACIONPADRE_Postgrado'],datos_vector['PUNT_GLOBAL_mean'])\n",
    "plt.show()\n",
    "np.corrcoef(datos_vector['FAMI_EDUCACIONPADRE_Postgrado'],datos_vector['PUNT_GLOBAL_mean'])"
   ]
  },
  {
   "cell_type": "code",
   "execution_count": 86,
   "metadata": {},
   "outputs": [
    {
     "data": {
      "image/png": "[encoded data removed]",
      "text/plain": [
       "<Figure size 432x288 with 1 Axes>"
      ]
     },
     "metadata": {
      "needs_background": "light"
     },
     "output_type": "display_data"
    },
    {
     "data": {
      "text/plain": [
       "array([[ 1.        , -0.21303246],\n",
       "       [-0.21303246,  1.        ]])"
      ]
     },
     "execution_count": 86,
     "metadata": {},
     "output_type": "execute_result"
    }
   ],
   "source": [
    "fig, ax = plt.subplots()\n",
    "ax.scatter(datos_vector['FAMI_ESTRATOVIVIENDA_Estrato 1'],datos_vector['PUNT_GLOBAL_mean'])\n",
    "plt.show()\n",
    "np.corrcoef(datos_vector['FAMI_ESTRATOVIVIENDA_Estrato 1'],datos_vector['PUNT_GLOBAL_mean'])"
   ]
  },
  {
   "cell_type": "code",
   "execution_count": 87,
   "metadata": {},
   "outputs": [
    {
     "data": {
      "image/png": "[encoded data removed]",
      "text/plain": [
       "<Figure size 432x288 with 1 Axes>"
      ]
     },
     "metadata": {
      "needs_background": "light"
     },
     "output_type": "display_data"
    },
    {
     "data": {
      "text/plain": [
       "array([[1.        , 0.04229175],\n",
       "       [0.04229175, 1.        ]])"
      ]
     },
     "execution_count": 87,
     "metadata": {},
     "output_type": "execute_result"
    }
   ],
   "source": [
    "fig, ax = plt.subplots()\n",
    "ax.scatter(datos_vector['FAMI_ESTRATOVIVIENDA_Estrato 2'],datos_vector['PUNT_GLOBAL_mean'])\n",
    "plt.show()\n",
    "np.corrcoef(datos_vector['FAMI_ESTRATOVIVIENDA_Estrato 2'],datos_vector['PUNT_GLOBAL_mean'])"
   ]
  },
  {
   "cell_type": "code",
   "execution_count": 88,
   "metadata": {},
   "outputs": [
    {
     "data": {
      "image/png": "[encoded data removed]",
      "text/plain": [
       "<Figure size 432x288 with 1 Axes>"
      ]
     },
     "metadata": {
      "needs_background": "light"
     },
     "output_type": "display_data"
    },
    {
     "data": {
      "text/plain": [
       "array([[1.        , 0.25213053],\n",
       "       [0.25213053, 1.        ]])"
      ]
     },
     "execution_count": 88,
     "metadata": {},
     "output_type": "execute_result"
    }
   ],
   "source": [
    "fig, ax = plt.subplots()\n",
    "ax.scatter(datos_vector['FAMI_ESTRATOVIVIENDA_Estrato 3'],datos_vector['PUNT_GLOBAL_mean'])\n",
    "plt.show()\n",
    "np.corrcoef(datos_vector['FAMI_ESTRATOVIVIENDA_Estrato 3'],datos_vector['PUNT_GLOBAL_mean'])"
   ]
  },
  {
   "cell_type": "code",
   "execution_count": 89,
   "metadata": {},
   "outputs": [
    {
     "data": {
      "image/png": "[encoded data removed]",
      "text/plain": [
       "<Figure size 432x288 with 1 Axes>"
      ]
     },
     "metadata": {
      "needs_background": "light"
     },
     "output_type": "display_data"
    },
    {
     "data": {
      "text/plain": [
       "array([[1.        , 0.40147041],\n",
       "       [0.40147041, 1.        ]])"
      ]
     },
     "execution_count": 89,
     "metadata": {},
     "output_type": "execute_result"
    }
   ],
   "source": [
    "fig, ax = plt.subplots()\n",
    "ax.scatter(datos_vector['FAMI_ESTRATOVIVIENDA_Estrato 4'],datos_vector['PUNT_GLOBAL_mean'])\n",
    "plt.show()\n",
    "np.corrcoef(datos_vector['FAMI_ESTRATOVIVIENDA_Estrato 4'],datos_vector['PUNT_GLOBAL_mean'])"
   ]
  },
  {
   "cell_type": "code",
   "execution_count": 90,
   "metadata": {},
   "outputs": [
    {
     "data": {
      "image/png": "[encoded data removed]",
      "text/plain": [
       "<Figure size 432x288 with 1 Axes>"
      ]
     },
     "metadata": {
      "needs_background": "light"
     },
     "output_type": "display_data"
    },
    {
     "data": {
      "text/plain": [
       "array([[1.        , 0.37772949],\n",
       "       [0.37772949, 1.        ]])"
      ]
     },
     "execution_count": 90,
     "metadata": {},
     "output_type": "execute_result"
    }
   ],
   "source": [
    "fig, ax = plt.subplots()\n",
    "ax.scatter(datos_vector['FAMI_ESTRATOVIVIENDA_Estrato 5'],datos_vector['PUNT_GLOBAL_mean'])\n",
    "plt.show()\n",
    "np.corrcoef(datos_vector['FAMI_ESTRATOVIVIENDA_Estrato 5'],datos_vector['PUNT_GLOBAL_mean'])"
   ]
  },
  {
   "cell_type": "code",
   "execution_count": 91,
   "metadata": {},
   "outputs": [
    {
     "data": {
      "image/png": "[encoded data removed]",
      "text/plain": [
       "<Figure size 432x288 with 1 Axes>"
      ]
     },
     "metadata": {
      "needs_background": "light"
     },
     "output_type": "display_data"
    },
    {
     "data": {
      "text/plain": [
       "array([[1.        , 0.28101931],\n",
       "       [0.28101931, 1.        ]])"
      ]
     },
     "execution_count": 91,
     "metadata": {},
     "output_type": "execute_result"
    }
   ],
   "source": [
    "fig, ax = plt.subplots()\n",
    "ax.scatter(datos_vector['FAMI_ESTRATOVIVIENDA_Estrato 6'],datos_vector['PUNT_GLOBAL_mean'])\n",
    "plt.show()\n",
    "np.corrcoef(datos_vector['FAMI_ESTRATOVIVIENDA_Estrato 6'],datos_vector['PUNT_GLOBAL_mean'])"
   ]
  },
  {
   "cell_type": "code",
   "execution_count": 92,
   "metadata": {},
   "outputs": [
    {
     "data": {
      "image/png": "[encoded data removed]",
      "text/plain": [
       "<Figure size 432x288 with 1 Axes>"
      ]
     },
     "metadata": {
      "needs_background": "light"
     },
     "output_type": "display_data"
    },
    {
     "data": {
      "text/plain": [
       "array([[ 1.        , -0.34236317],\n",
       "       [-0.34236317,  1.        ]])"
      ]
     },
     "execution_count": 92,
     "metadata": {},
     "output_type": "execute_result"
    }
   ],
   "source": [
    "fig, ax = plt.subplots()\n",
    "ax.scatter(datos_vector['FAMI_ESTRATOVIVIENDA_Sin Estrato'],datos_vector['PUNT_GLOBAL_mean'])\n",
    "plt.show()\n",
    "np.corrcoef(datos_vector['FAMI_ESTRATOVIVIENDA_Sin Estrato'],datos_vector['PUNT_GLOBAL_mean'])"
   ]
  },
  {
   "cell_type": "code",
   "execution_count": 93,
   "metadata": {},
   "outputs": [
    {
     "data": {
      "image/png": "[encoded data removed]",
      "text/plain": [
       "<Figure size 432x288 with 1 Axes>"
      ]
     },
     "metadata": {
      "needs_background": "light"
     },
     "output_type": "display_data"
    },
    {
     "data": {
      "text/plain": [
       "array([[1.        , 0.09400653],\n",
       "       [0.09400653, 1.        ]])"
      ]
     },
     "execution_count": 93,
     "metadata": {},
     "output_type": "execute_result"
    }
   ],
   "source": [
    "fig, ax = plt.subplots()\n",
    "ax.scatter(datos_vector['FAMI_PERSONASHOGAR_1 a 2'],datos_vector['PUNT_GLOBAL_mean'])\n",
    "plt.show()\n",
    "np.corrcoef(datos_vector['FAMI_PERSONASHOGAR_1 a 2'],datos_vector['PUNT_GLOBAL_mean'])"
   ]
  },
  {
   "cell_type": "code",
   "execution_count": 94,
   "metadata": {},
   "outputs": [
    {
     "data": {
      "image/png": "[encoded data removed]",
      "text/plain": [
       "<Figure size 432x288 with 1 Axes>"
      ]
     },
     "metadata": {
      "needs_background": "light"
     },
     "output_type": "display_data"
    },
    {
     "data": {
      "text/plain": [
       "array([[1.        , 0.21336218],\n",
       "       [0.21336218, 1.        ]])"
      ]
     },
     "execution_count": 94,
     "metadata": {},
     "output_type": "execute_result"
    }
   ],
   "source": [
    "fig, ax = plt.subplots()\n",
    "ax.scatter(datos_vector['FAMI_PERSONASHOGAR_3 a 4'],datos_vector['PUNT_GLOBAL_mean'])\n",
    "plt.show()\n",
    "np.corrcoef(datos_vector['FAMI_PERSONASHOGAR_3 a 4'],datos_vector['PUNT_GLOBAL_mean'])"
   ]
  },
  {
   "cell_type": "code",
   "execution_count": 95,
   "metadata": {},
   "outputs": [
    {
     "data": {
      "image/png": "[encoded data removed]",
      "text/plain": [
       "<Figure size 432x288 with 1 Axes>"
      ]
     },
     "metadata": {
      "needs_background": "light"
     },
     "output_type": "display_data"
    },
    {
     "data": {
      "text/plain": [
       "array([[ 1.00000000e+00, -8.41882429e-04],\n",
       "       [-8.41882429e-04,  1.00000000e+00]])"
      ]
     },
     "execution_count": 95,
     "metadata": {},
     "output_type": "execute_result"
    }
   ],
   "source": [
    "fig, ax = plt.subplots()\n",
    "ax.scatter(datos_vector['FAMI_PERSONASHOGAR_5 a 6'],datos_vector['PUNT_GLOBAL_mean'])\n",
    "plt.show()\n",
    "np.corrcoef(datos_vector['FAMI_PERSONASHOGAR_5 a 6'],datos_vector['PUNT_GLOBAL_mean'])"
   ]
  },
  {
   "cell_type": "code",
   "execution_count": 96,
   "metadata": {},
   "outputs": [
    {
     "data": {
      "image/png": "[encoded data removed]",
      "text/plain": [
       "<Figure size 432x288 with 1 Axes>"
      ]
     },
     "metadata": {
      "needs_background": "light"
     },
     "output_type": "display_data"
    },
    {
     "data": {
      "text/plain": [
       "array([[ 1.        , -0.19120194],\n",
       "       [-0.19120194,  1.        ]])"
      ]
     },
     "execution_count": 96,
     "metadata": {},
     "output_type": "execute_result"
    }
   ],
   "source": [
    "fig, ax = plt.subplots()\n",
    "ax.scatter(datos_vector['FAMI_PERSONASHOGAR_7 a 8'],datos_vector['PUNT_GLOBAL_mean'])\n",
    "plt.show()\n",
    "np.corrcoef(datos_vector['FAMI_PERSONASHOGAR_7 a 8'],datos_vector['PUNT_GLOBAL_mean'])"
   ]
  },
  {
   "cell_type": "code",
   "execution_count": 97,
   "metadata": {},
   "outputs": [
    {
     "data": {
      "image/png": "[encoded data removed]",
      "text/plain": [
       "<Figure size 432x288 with 1 Axes>"
      ]
     },
     "metadata": {
      "needs_background": "light"
     },
     "output_type": "display_data"
    },
    {
     "data": {
      "text/plain": [
       "array([[ 1.       , -0.2029559],\n",
       "       [-0.2029559,  1.       ]])"
      ]
     },
     "execution_count": 97,
     "metadata": {},
     "output_type": "execute_result"
    }
   ],
   "source": [
    "fig, ax = plt.subplots()\n",
    "ax.scatter(datos_vector['FAMI_PERSONASHOGAR_9 o más'],datos_vector['PUNT_GLOBAL_mean'])\n",
    "plt.show()\n",
    "np.corrcoef(datos_vector['FAMI_PERSONASHOGAR_9 o más'],datos_vector['PUNT_GLOBAL_mean'])"
   ]
  },
  {
   "cell_type": "code",
   "execution_count": 98,
   "metadata": {},
   "outputs": [
    {
     "data": {
      "image/png": "[encoded data removed]",
      "text/plain": [
       "<Figure size 432x288 with 1 Axes>"
      ]
     },
     "metadata": {
      "needs_background": "light"
     },
     "output_type": "display_data"
    },
    {
     "data": {
      "text/plain": [
       "array([[1.        , 0.09514352],\n",
       "       [0.09514352, 1.        ]])"
      ]
     },
     "execution_count": 98,
     "metadata": {},
     "output_type": "execute_result"
    }
   ],
   "source": [
    "fig, ax = plt.subplots()\n",
    "ax.scatter(datos_vector['FAMI_SITUACIONECONOMICA_Igual'],datos_vector['PUNT_GLOBAL_mean'])\n",
    "plt.show()\n",
    "np.corrcoef(datos_vector['FAMI_SITUACIONECONOMICA_Igual'],datos_vector['PUNT_GLOBAL_mean'])"
   ]
  },
  {
   "cell_type": "code",
   "execution_count": 99,
   "metadata": {},
   "outputs": [
    {
     "data": {
      "image/png": "[encoded data removed]",
      "text/plain": [
       "<Figure size 432x288 with 1 Axes>"
      ]
     },
     "metadata": {
      "needs_background": "light"
     },
     "output_type": "display_data"
    },
    {
     "data": {
      "text/plain": [
       "array([[1.        , 0.04415285],\n",
       "       [0.04415285, 1.        ]])"
      ]
     },
     "execution_count": 99,
     "metadata": {},
     "output_type": "execute_result"
    }
   ],
   "source": [
    "fig, ax = plt.subplots()\n",
    "ax.scatter(datos_vector['FAMI_SITUACIONECONOMICA_Mejor'],datos_vector['PUNT_GLOBAL_mean'])\n",
    "plt.show()\n",
    "np.corrcoef(datos_vector['FAMI_SITUACIONECONOMICA_Mejor'],datos_vector['PUNT_GLOBAL_mean'])"
   ]
  },
  {
   "cell_type": "code",
   "execution_count": 100,
   "metadata": {},
   "outputs": [
    {
     "data": {
      "image/png": "[encoded data removed]",
      "text/plain": [
       "<Figure size 432x288 with 1 Axes>"
      ]
     },
     "metadata": {
      "needs_background": "light"
     },
     "output_type": "display_data"
    },
    {
     "data": {
      "text/plain": [
       "array([[1.        , 0.11025504],\n",
       "       [0.11025504, 1.        ]])"
      ]
     },
     "execution_count": 100,
     "metadata": {},
     "output_type": "execute_result"
    }
   ],
   "source": [
    "fig, ax = plt.subplots()\n",
    "ax.scatter(datos_vector['FAMI_SITUACIONECONOMICA_Peor'],datos_vector['PUNT_GLOBAL_mean'])\n",
    "plt.show()\n",
    "np.corrcoef(datos_vector['FAMI_SITUACIONECONOMICA_Peor'],datos_vector['PUNT_GLOBAL_mean'])"
   ]
  },
  {
   "cell_type": "code",
   "execution_count": 101,
   "metadata": {},
   "outputs": [
    {
     "data": {
      "image/png": "[encoded data removed]",
      "text/plain": [
       "<Figure size 432x288 with 1 Axes>"
      ]
     },
     "metadata": {
      "needs_background": "light"
     },
     "output_type": "display_data"
    },
    {
     "data": {
      "text/plain": [
       "array([[ 1.        , -0.27828467],\n",
       "       [-0.27828467,  1.        ]])"
      ]
     },
     "execution_count": 101,
     "metadata": {},
     "output_type": "execute_result"
    }
   ],
   "source": [
    "fig, ax = plt.subplots()\n",
    "ax.scatter(datos_vector['FAMI_TIENECOMPUTADOR_No'],datos_vector['PUNT_GLOBAL_mean'])\n",
    "plt.show()\n",
    "np.corrcoef(datos_vector['FAMI_TIENECOMPUTADOR_No'],datos_vector['PUNT_GLOBAL_mean'])"
   ]
  },
  {
   "cell_type": "code",
   "execution_count": 102,
   "metadata": {},
   "outputs": [
    {
     "data": {
      "image/png": "[encoded data removed]",
      "text/plain": [
       "<Figure size 432x288 with 1 Axes>"
      ]
     },
     "metadata": {
      "needs_background": "light"
     },
     "output_type": "display_data"
    },
    {
     "data": {
      "text/plain": [
       "array([[1.        , 0.29799016],\n",
       "       [0.29799016, 1.        ]])"
      ]
     },
     "execution_count": 102,
     "metadata": {},
     "output_type": "execute_result"
    }
   ],
   "source": [
    "fig, ax = plt.subplots()\n",
    "ax.scatter(datos_vector['FAMI_TIENECOMPUTADOR_Si'],datos_vector['PUNT_GLOBAL_mean'])\n",
    "plt.show()\n",
    "np.corrcoef(datos_vector['FAMI_TIENECOMPUTADOR_Si'],datos_vector['PUNT_GLOBAL_mean'])"
   ]
  },
  {
   "cell_type": "code",
   "execution_count": 103,
   "metadata": {},
   "outputs": [
    {
     "data": {
      "image/png": "[encoded data removed]",
      "text/plain": [
       "<Figure size 432x288 with 1 Axes>"
      ]
     },
     "metadata": {
      "needs_background": "light"
     },
     "output_type": "display_data"
    },
    {
     "data": {
      "text/plain": [
       "array([[ 1.        , -0.29093867],\n",
       "       [-0.29093867,  1.        ]])"
      ]
     },
     "execution_count": 103,
     "metadata": {},
     "output_type": "execute_result"
    }
   ],
   "source": [
    "fig, ax = plt.subplots()\n",
    "ax.scatter(datos_vector['FAMI_TIENEINTERNET_No'],datos_vector['PUNT_GLOBAL_mean'])\n",
    "plt.show()\n",
    "np.corrcoef(datos_vector['FAMI_TIENEINTERNET_No'],datos_vector['PUNT_GLOBAL_mean'])"
   ]
  },
  {
   "cell_type": "code",
   "execution_count": 104,
   "metadata": {},
   "outputs": [
    {
     "data": {
      "image/png": "[encoded data removed]",
      "text/plain": [
       "<Figure size 432x288 with 1 Axes>"
      ]
     },
     "metadata": {
      "needs_background": "light"
     },
     "output_type": "display_data"
    },
    {
     "data": {
      "text/plain": [
       "array([[1.        , 0.27680033],\n",
       "       [0.27680033, 1.        ]])"
      ]
     },
     "execution_count": 104,
     "metadata": {},
     "output_type": "execute_result"
    }
   ],
   "source": [
    "fig, ax = plt.subplots()\n",
    "ax.scatter(datos_vector['FAMI_TIENEINTERNET_Si'],datos_vector['PUNT_GLOBAL_mean'])\n",
    "plt.show()\n",
    "np.corrcoef(datos_vector['FAMI_TIENEINTERNET_Si'],datos_vector['PUNT_GLOBAL_mean'])"
   ]
  },
  {
   "cell_type": "code",
   "execution_count": null,
   "metadata": {},
   "outputs": [],
   "source": []
  },
  {
   "cell_type": "code",
   "execution_count": null,
   "metadata": {},
   "outputs": [],
   "source": []
  },
  {
   "cell_type": "code",
   "execution_count": null,
   "metadata": {},
   "outputs": [],
   "source": []
  },
  {
   "cell_type": "code",
   "execution_count": null,
   "metadata": {},
   "outputs": [],
   "source": []
  }
 ],
 "metadata": {
  "kernelspec": {
   "display_name": "Python 3",
   "language": "python",
   "name": "python3"
  },
  "language_info": {
   "codemirror_mode": {
    "name": "ipython",
    "version": 3
   },
   "file_extension": ".py",
   "mimetype": "text/x-python",
   "name": "python",
   "nbconvert_exporter": "python",
   "pygments_lexer": "ipython3",
   "version": "3.8.3"
  }
 },
 "nbformat": 4,
 "nbformat_minor": 4
}
